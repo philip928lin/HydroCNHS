{
 "cells": [
  {
   "cell_type": "markdown",
   "metadata": {},
   "source": [
    "# Tutorial 3 - Sediment Routing\n",
    "\n",
    "The latest HydroCNHS can also routing the total suspended sediment. Here, we demostrate how to construct a model that has sediment routing feature activated. We adopted a subbasin, Sb5, in Susquehena River Basin. For more details, please refer to (Lin et al., 2023).\n",
    "\n",
    "Lin, C.-Y., Yang, Y. E., & Chaudhary, A. K. (2023). Pay-for-practice or Pay-for-performance? A coupled agent-based evaluation tool for assessing sediment management incentive policies. Journal of Hydrology, 624, 129959.\n",
    "\n",
    "<img src=\"./NB_Figs/SRB_map.jpg\" alt=\"SRB_map\" width=\"600\"/>\n",
    "\n",
    "## Create a draft `model.yaml` using model builder"
   ]
  },
  {
   "cell_type": "code",
   "execution_count": 2,
   "metadata": {},
   "outputs": [
    {
     "name": "stdout",
     "output_type": "stream",
     "text": [
      "Follow the following steps to create model & ABM script templates:\n",
      "\tStep 1: set_water_system()\n",
      "\tStep 2: set_rainfall_runoff()\n",
      "\tStep 3: set_routing_outlet(), one at a time.\n",
      "\tStep 4: (optional) set_sediment().\n",
      "\tStep 5: (optional) add_sediment(), one at a time.\n",
      "\tStep 6: (optional) set_ABM().\n",
      "\tStep 7: (optional) add_agent().\n",
      "\tStep 8: (optional) add_institution().\n",
      "\tStep 9: write_model_to_yaml()\n",
      "\tStep 10: (optional) gen_ABM_script_template()\n",
      "Open the generated draft 'model.yaml' (& ABM module template) and further edit them.\n",
      "Use .help to re-print the above instructions.\n",
      "[09/07 11:04:04] HydroCNHS.sc [INFO] Model is saved at C:\\Users\\CL\\Documents\\GitHub\\HydroCNHS\\tutorials\\Tutorial_3-Sediment_Routing\\model.yaml.\n",
      "Model configuration file (.yaml) have been save at C:\\Users\\CL\\Documents\\GitHub\\HydroCNHS\\tutorials\\Tutorial_3-Sediment_Routing\\model.yaml. Please open the file and further edit it.\n"
     ]
    }
   ],
   "source": [
    "import os\n",
    "import pandas as pd\n",
    "import hydrocnhs\n",
    "\n",
    "# Set the working directory\n",
    "wd = os.path.abspath(\n",
    "    os.path.join(\n",
    "        os.path.dirname(hydrocnhs.__file__),\n",
    "        '..', 'tutorials',\n",
    "        'Tutorial_3-Sediment_Routing'\n",
    "        )\n",
    "    )\n",
    "data_path = os.path.join(wd, \"Data\")\n",
    "\n",
    "# We only model a subbasin (Sb5) in this tutorial\n",
    "sb = \"Sb5\"\n",
    "\n",
    "# Load data\n",
    "df_hu8 = pd.read_csv(os.path.join(data_path, \"SRB_HU8.csv\"))\n",
    "df_hu8.index = list(df_hu8.ID)\n",
    "df_hu8_sb = df_hu8.loc[[x for x in df_hu8[\"ID\"] if sb in x], :]\n",
    "\n",
    "df_agt = pd.read_csv(os.path.join(data_path, \"agt_shp_info.csv\"))\n",
    "\n",
    "# Create a model using model builder\n",
    "mb = hydrocnhs.ModelBuilder(wd)\n",
    "mb.set_water_system(\"1984/01/01\", \"2020/12/31\")\n",
    "mb.set_rainfall_runoff(\n",
    "    list(df_hu8_sb[\"ID\"]),\n",
    "    list(df_hu8_sb[\"area_ha\"]),\n",
    "    list(df_hu8_sb[\"central_la\"]),\n",
    "    runoff_model=\"GWLF\"\n",
    "    )\n",
    "\n",
    "mb.set_routing_outlet(\n",
    "    routing_outlet=\"Sb5_3\",\n",
    "    upstream_outlet_list=[\"Sb5_1\", \"Sb5_2\", \"Sb5_3\"],\n",
    "    flow_length_list=[113610, 113610, 0] # km\n",
    "    )\n",
    "\n",
    "# Activate sediment routing section in the model\n",
    "mb.set_sediment(start_month=4)\n",
    "\n",
    "outlets = mb.model[\"WaterSystem\"][\"Outlets\"]\n",
    "for o in outlets:\n",
    "    mb.add_sediment(\n",
    "        subbasin=o,\n",
    "        area_list=list(df_agt.loc[df_agt[\"ID\"]==o, \"area_ha\"]),\n",
    "        cool_months=[10,11,12,1,2,3],\n",
    "        K_list=list(df_agt.loc[df_agt[\"ID\"]==o, \"Value_K\"]),\n",
    "        Ac=0.12, Aw=0.3,\n",
    "        LS_list=list(df_agt.loc[df_agt[\"ID\"]==o, \"Value_LS\"]),\n",
    "        DR=float(df_hu8.loc[o, \"DR\"]),\n",
    "        id_list=list(df_agt.loc[df_agt[\"ID\"]==o, \"Agt_ID\"])\n",
    "        )\n",
    "\n",
    "mb.write_model_to_yaml(filename=\"model.yaml\")"
   ]
  },
  {
   "cell_type": "markdown",
   "metadata": {},
   "source": [
    "We encourage you to open `model.yaml` to give a sense of how it looks like. Users can follow the calibration steps shown in the previous tutorials to calibrate the model. Here we will skip the calibration step and adopted the calibrated parameters used in (Lin et al., 2023).\n",
    "\n",
    "The calibrated model is located in `./Calibrated_model/Best_hydro_sed_Sb5_seed3_iter100.yaml`.\n",
    "\n",
    "Now, let's used the calibrated model to run a simulation.\n",
    "\n",
    "## [Pending for completion] Run sediment routing simulation "
   ]
  },
  {
   "cell_type": "code",
   "execution_count": 3,
   "metadata": {},
   "outputs": [],
   "source": [
    "import pickle\n",
    "\n",
    "# Load data\n",
    "inputs_path = os.path.join(wd, \"Inputs\")\n",
    "\n",
    "with open(os.path.join(inputs_path, \"hydro_cali_1984_2020.pkl\"), \"rb\") as file:\n",
    "    (prec, temp, pet, Q_M, Q_Y, sed_M, sed_Y, _) = pickle.load(file)\n",
    "\n",
    "with open(os.path.join(inputs_path, \"cli_sed_sim_1999_2020.pkl\"), \"rb\") as file:\n",
    "    prec_sed = pickle.load(file)[0]\n",
    "    "
   ]
  },
  {
   "cell_type": "code",
   "execution_count": 6,
   "metadata": {},
   "outputs": [
    {
     "name": "stdout",
     "output_type": "stream",
     "text": [
      "[09/07 11:36:27] HydroCNHS.sc [INFO] Parsed model data summary:\n",
      "SimSeq\n",
      "  ['Sb5_3']\n",
      "RoutingOutlets\n",
      "  ['Sb5_3']\n",
      "DamAgents\n",
      "  None\n",
      "ConveyingAgents\n",
      "  None\n",
      "RiverDivAgents\n",
      "  None\n",
      "InsituAgents\n",
      "  None\n",
      "AgSimSeq\n",
      "  None\n",
      "[09/07 11:36:27] HydroCNHS.sc [INFO] Parsed model data summary:\n",
      "SimSeq\n",
      "  ['Sb5_3']\n",
      "RoutingOutlets\n",
      "  ['Sb5_3']\n",
      "DamAgents\n",
      "  None\n",
      "ConveyingAgents\n",
      "  None\n",
      "RiverDivAgents\n",
      "  None\n",
      "InsituAgents\n",
      "  None\n",
      "AgSimSeq\n",
      "  None\n",
      "[09/07 11:36:27] HydroCNHS.dc [INFO] Add field Q_runoff (<class 'dict'>).\n"
     ]
    },
    {
     "name": "stdout",
     "output_type": "stream",
     "text": [
      "[09/07 11:36:27] HydroCNHS.dc [INFO] Add field Q_routed (<class 'dict'>).\n",
      "[09/07 11:36:27] HydroCNHS.dc [INFO] Add field TSS (<class 'dict'>).\n",
      "[09/07 11:36:27] HydroCNHS.dc [INFO] Add field Q_frac (<class 'dict'>).\n",
      "[09/07 11:36:27] HydroCNHS.dc [INFO] Add field prec (<class 'dict'>).\n",
      "[09/07 11:36:27] HydroCNHS.dc [INFO] Add field temp (<class 'dict'>).\n",
      "[09/07 11:36:27] HydroCNHS.dc [INFO] Add field pet (<class 'dict'>).\n",
      "[09/07 11:36:27] HydroCNHS.dc [INFO] Add field UH_Lohmann (<class 'dict'>).\n",
      "[09/07 11:36:27] HydroCNHS.dc [INFO] Add field UH_Lohmann_convey (<class 'dict'>).\n",
      "[09/07 11:36:27] HydroCNHS [INFO] Load temp & prec & pet with total length 13515.\n",
      "[09/07 11:36:27] HydroCNHS [INFO] Set rainfall-runoff to GWLF.\n",
      "[09/07 11:36:27] HydroCNHS [INFO] Complete rainfall-runoff simulation setup. [00:00:00]\n",
      "[09/07 11:36:28] HydroCNHS [INFO] Start forming 3 UHs for Lohmann routing. [00:00:00]\n",
      "[09/07 11:36:31] HydroCNHS [INFO] Complete forming UHs for Lohmann routing. [00:00:03]\n",
      "[09/07 11:36:31] HydroCNHS [INFO] Start a pure hydrological simulation (no human component).\n",
      "[09/07 11:36:33] HydroCNHS [INFO] \n",
      "Compute rainfall-runoffs for 13515 time steps.\n"
     ]
    },
    {
     "name": "stderr",
     "output_type": "stream",
     "text": [
      "13515it [00:00, 55263.75it/s]"
     ]
    },
    {
     "name": "stdout",
     "output_type": "stream",
     "text": [
      "\n",
      "[09/07 11:36:34] HydroCNHS [INFO] Complete HydroCNHS simulation! [00:00:06]\n",
      "\n"
     ]
    },
    {
     "name": "stderr",
     "output_type": "stream",
     "text": [
      "\n"
     ]
    }
   ],
   "source": [
    "# Load model.yaml\n",
    "model_dict = hydrocnhs.load_model(\n",
    "    os.path.join(wd, \"Calibrated_model\", \"Best_hydro_sed_Sb5_seed3_iter100.yaml\")\n",
    "    )\n",
    "# Change the working directory\n",
    "model_dict[\"Path\"][\"WD\"] = wd\n",
    "\n",
    "# Run the model\n",
    "model = hydrocnhs.Model(model_dict)\n",
    "Q = model.run(temp, prec, pet)\n"
   ]
  },
  {
   "cell_type": "code",
   "execution_count": null,
   "metadata": {},
   "outputs": [],
   "source": [
    "\n",
    "# Run sediment simulation\n",
    "sed_sim_period = (\"1999-1-1\", \"2019-12-31\") # -1 and +1 year\n",
    "sed_perf_period = (\"2000-1-1\", \"2019-12-31\")\n",
    "dc = model.dc\n",
    "Q_frac = dc.get_field(\"Q_frac\", copy=True)\n",
    "Q_frac = {ro: pd.DataFrame(sbs, index=model.pd_date_index)[sed_sim_period[0]:\"2020-12-31\"] \\\n",
    "            for ro, sbs in Q_frac.items()}\n",
    "sim_seq = model.sys_parsed_data[\"SimSeq\"]\n",
    "\n",
    "_, _, sim_sed_M, sim_sed_Y = sim_sed(\n",
    "    model_dict, prec_sed, Q_frac, sed_sim_period[0], sed_sim_period[1], sim_seq)\n",
    "\n",
    "df_perf_sed_M = cal_batch_indicator(sed_perf_period, cali_target, sed_M, sim_sed_M)\n",
    "df_perf_sed_Y = cal_batch_indicator(sed_perf_period, cali_target, sed_Y, sim_sed_Y)\n",
    "fitness = (df_cali_Q_M.loc[\"Mean\", \"KGE\"] + df_perf_sed_M.loc[\"Mean\", \"KGE\"])/2\n",
    "##### Record performance\n",
    "performance[f] = [df_cali_Q_M.loc[\"Mean\", \"KGE\"], df_perf_sed_M.loc[\"Mean\", \"KGE\"],\n",
    "                    df_cali_Q_Y.loc[\"Mean\", \"KGE\"], df_perf_sed_Y.loc[\"Mean\", \"KGE\"],\n",
    "                    fitness]\n",
    "sim_sed_M_dict[f] = sim_sed_M[sed_perf_period[0]: sed_perf_period[1]]\n",
    "sim_sed_Y_dict[f] = sim_sed_Y[sed_perf_period[0]: sed_perf_period[1]]"
   ]
  },
  {
   "cell_type": "code",
   "execution_count": 9,
   "metadata": {},
   "outputs": [
    {
     "data": {
      "text/plain": [
       "{'Sb5_1': array([400.40242073, 171.15351551,  76.21969939, ...,  61.01088311,\n",
       "         28.18771103,  13.18862614]),\n",
       " 'Sb5_2': array([505.02861438, 307.47435197, 200.20797688, ...,  66.26275449,\n",
       "         60.26508671,  30.73452566]),\n",
       " 'Sb5_3': array([1.26208804e-02, 3.34247654e-01, 1.99366605e+00, ...,\n",
       "        1.05574546e+02, 1.52564172e+02, 2.25909361e+02])}"
      ]
     },
     "execution_count": 9,
     "metadata": {},
     "output_type": "execute_result"
    }
   ],
   "source": [
    "Q"
   ]
  },
  {
   "cell_type": "code",
   "execution_count": 8,
   "metadata": {},
   "outputs": [
    {
     "data": {
      "text/html": [
       "<div>\n",
       "<style scoped>\n",
       "    .dataframe tbody tr th:only-of-type {\n",
       "        vertical-align: middle;\n",
       "    }\n",
       "\n",
       "    .dataframe tbody tr th {\n",
       "        vertical-align: top;\n",
       "    }\n",
       "\n",
       "    .dataframe thead th {\n",
       "        text-align: right;\n",
       "    }\n",
       "</style>\n",
       "<table border=\"1\" class=\"dataframe\">\n",
       "  <thead>\n",
       "    <tr style=\"text-align: right;\">\n",
       "      <th></th>\n",
       "      <th>Sb1_2</th>\n",
       "      <th>Sb2_3</th>\n",
       "      <th>Sb3_2</th>\n",
       "      <th>Sb4_6</th>\n",
       "      <th>Sb5_3</th>\n",
       "      <th>Sb6_2</th>\n",
       "    </tr>\n",
       "  </thead>\n",
       "  <tbody>\n",
       "    <tr>\n",
       "      <th>2000-01-01</th>\n",
       "      <td>NaN</td>\n",
       "      <td>NaN</td>\n",
       "      <td>22638.77672</td>\n",
       "      <td>4288.71236</td>\n",
       "      <td>1387.855442</td>\n",
       "      <td>53292.52408</td>\n",
       "    </tr>\n",
       "    <tr>\n",
       "      <th>2000-02-01</th>\n",
       "      <td>NaN</td>\n",
       "      <td>NaN</td>\n",
       "      <td>199943.35360</td>\n",
       "      <td>64586.96488</td>\n",
       "      <td>6708.625680</td>\n",
       "      <td>230197.94000</td>\n",
       "    </tr>\n",
       "    <tr>\n",
       "      <th>2000-03-01</th>\n",
       "      <td>NaN</td>\n",
       "      <td>NaN</td>\n",
       "      <td>285445.44560</td>\n",
       "      <td>58917.06488</td>\n",
       "      <td>21373.255040</td>\n",
       "      <td>492147.32000</td>\n",
       "    </tr>\n",
       "    <tr>\n",
       "      <th>2000-04-01</th>\n",
       "      <td>NaN</td>\n",
       "      <td>NaN</td>\n",
       "      <td>190508.64000</td>\n",
       "      <td>60146.29920</td>\n",
       "      <td>14968.536000</td>\n",
       "      <td>372852.62400</td>\n",
       "    </tr>\n",
       "    <tr>\n",
       "      <th>2000-05-01</th>\n",
       "      <td>NaN</td>\n",
       "      <td>NaN</td>\n",
       "      <td>99554.37216</td>\n",
       "      <td>15467.48720</td>\n",
       "      <td>9308.615024</td>\n",
       "      <td>244667.52480</td>\n",
       "    </tr>\n",
       "  </tbody>\n",
       "</table>\n",
       "</div>"
      ],
      "text/plain": [
       "            Sb1_2  Sb2_3         Sb3_2        Sb4_6         Sb5_3  \\\n",
       "2000-01-01    NaN    NaN   22638.77672   4288.71236   1387.855442   \n",
       "2000-02-01    NaN    NaN  199943.35360  64586.96488   6708.625680   \n",
       "2000-03-01    NaN    NaN  285445.44560  58917.06488  21373.255040   \n",
       "2000-04-01    NaN    NaN  190508.64000  60146.29920  14968.536000   \n",
       "2000-05-01    NaN    NaN   99554.37216  15467.48720   9308.615024   \n",
       "\n",
       "                   Sb6_2  \n",
       "2000-01-01   53292.52408  \n",
       "2000-02-01  230197.94000  \n",
       "2000-03-01  492147.32000  \n",
       "2000-04-01  372852.62400  \n",
       "2000-05-01  244667.52480  "
      ]
     },
     "execution_count": 8,
     "metadata": {},
     "output_type": "execute_result"
    }
   ],
   "source": [
    "##### Get simulation data\n",
    "sim_Q_D = pd.DataFrame(Q, index=model.pd_date_index)[['Sb5_3']]\n",
    "# Resample the daily simulation output to monthly and annually outputs.\n",
    "sim_Q_M = sim_Q_D.resample(\"MS\").mean()\n",
    "sim_Q_Y = sim_Q_D.resample(\"YS\").mean()\n",
    "\n",
    "sim_Q_M.head()\n",
    "sed_M.head()"
   ]
  }
 ],
 "metadata": {
  "kernelspec": {
   "display_name": "cnhs",
   "language": "python",
   "name": "python3"
  },
  "language_info": {
   "codemirror_mode": {
    "name": "ipython",
    "version": 3
   },
   "file_extension": ".py",
   "mimetype": "text/x-python",
   "name": "python",
   "nbconvert_exporter": "python",
   "pygments_lexer": "ipython3",
   "version": "3.12.4"
  }
 },
 "nbformat": 4,
 "nbformat_minor": 2
}
