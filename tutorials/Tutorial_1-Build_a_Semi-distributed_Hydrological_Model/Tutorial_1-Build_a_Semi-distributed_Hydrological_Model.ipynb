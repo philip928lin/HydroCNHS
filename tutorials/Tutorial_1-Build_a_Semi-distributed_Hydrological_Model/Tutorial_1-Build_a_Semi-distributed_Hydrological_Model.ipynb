{
 "cells": [
  {
   "cell_type": "markdown",
   "metadata": {},
   "source": [
    "# Tutorial 1: Build a Semi-distributed Hydrological Model\n",
    "To get familiar with the HydroCNHS model construction process, let’s start with a hydrological model without human components. \n",
    "\n",
    "We adopted the following delineated watershed as a demonstration (Figure 1), in which we want to build a semi-distributed hydrological model to simulate the streamflow at the basin outlet, WSLO. The corresponding subbasins’ information is provided in Table 1.\n",
    "\n",
    "<img src=\"./NB_Figs/example_watershed.png\" alt=\"Example watershed.\" width=\"400\"/>\n",
    "\n",
    "*Figure 1. Example watershed*\n",
    "\n",
    "*Table 1. Subbasins’ information*\n",
    "| Subbasin/outlet | Drainage area [ha] | Latitude [deg] | Flow length to WSLO [m] |\n",
    "|-----------------|-------------------:|---------------:|------------------------:|\n",
    "| Hagg            | 10034.2408         | 45.469         | 101469.139              |\n",
    "| DLLO            | 22568.2404         | 45.475         | 91813.075               |\n",
    "| TRGC            | 24044.6363         | 45.502         | 80064.864               |\n",
    "| DAIRY           | 59822.7546         | 45.520         | 70988.164               |\n",
    "| RCTV            | 19682.6046         | 45.502         | 60398.680               |\n",
    "| WSLO            | 47646.8477         | 45.350         | 0                       |\n",
    "\n"
   ]
  },
  {
   "cell_type": "code",
   "execution_count": 1,
   "metadata": {},
   "outputs": [],
   "source": [
    "import os\n",
    "import pandas as pd\n",
    "import hydrocnhs"
   ]
  },
  {
   "cell_type": "markdown",
   "metadata": {},
   "source": [
    "## Run a simulation\n",
    "\n",
    "First, let's set up the working directory to run this tutorial."
   ]
  },
  {
   "cell_type": "code",
   "execution_count": 6,
   "metadata": {},
   "outputs": [
    {
     "name": "stdout",
     "output_type": "stream",
     "text": [
      "C:\\Users\\CL\\Documents\\GitHub\\HydroCNHS\\tutorials\\Tutorial_1-Build_a_Semi-distributed_Hydrological_Model\n"
     ]
    }
   ],
   "source": [
    "# Set the working directory to the tutorial 1 folder\n",
    "wd = os.path.abspath(\n",
    "    os.path.join(\n",
    "        os.path.dirname(hydrocnhs.__file__),\n",
    "        '..', '..', 'tutorials',\n",
    "        'Tutorial_1-Build_a_Semi-distributed_Hydrological_Model'\n",
    "        )\n",
    "    )\n",
    "\n",
    "print(wd)"
   ]
  },
  {
   "cell_type": "markdown",
   "metadata": {},
   "source": [
    "Then, we load the climate inputs, including temperature, precipitation, and potential evapotranspiration, from `.csv` and convert them into `dictionaries`."
   ]
  },
  {
   "cell_type": "code",
   "execution_count": 7,
   "metadata": {},
   "outputs": [],
   "source": [
    "# Load climate inputs\n",
    "data_path = os.path.join(wd, \"Data\")\n",
    "\n",
    "temp = pd.read_csv(\n",
    "    os.path.join(data_path, \"Temp_degC.csv\"), index_col=[\"Date\"]\n",
    ").to_dict(orient=\"list\")\n",
    "\n",
    "prec = pd.read_csv(os.path.join(data_path, \"Prec_cm.csv\"), index_col=[\"Date\"]).to_dict(\n",
    "    orient=\"list\"\n",
    ")\n",
    "\n",
    "pet = pd.read_csv(os.path.join(data_path, \"Pet_cm.csv\"), index_col=[\"Date\"]).to_dict(\n",
    "    orient=\"list\"\n",
    ")"
   ]
  },
  {
   "cell_type": "markdown",
   "metadata": {},
   "source": [
    "Next, we load a calibrated model to give a taste of how a simulation looks like before jumping into details about how to construct and calibrated model.\n",
    "\n",
    "The `Model` in HydroCNHS is defined in a single `.yaml` file. The file will be loaded into Python and displayed as a `dictionary`. We highly recommend that you open `Best_HydroModel_gwlf_KGE.yaml`, located in `Tutorial_1-Build_a_Semi-distributed_Hydrological_Model/Cali_HydroModel_gwlf_KGE/Cali_HydroModel_gwlf_KGE`, to get a quick look at how a model is constructed.\n"
   ]
  },
  {
   "cell_type": "code",
   "execution_count": 8,
   "metadata": {},
   "outputs": [
    {
     "name": "stdout",
     "output_type": "stream",
     "text": [
      "C:\\Users\\CL\\Documents\\GitHub\\HydroCNHS\\tutorials\\Tutorial_1-Build_a_Semi-distributed_Hydrological_Model\\Cali_HydroModel_gwlf_KGE\\Best_HydroModel_gwlf_KGE.yaml\n"
     ]
    }
   ],
   "source": [
    "# Add model path\n",
    "model_path = os.path.join(\n",
    "    wd, \"Cali_HydroModel_gwlf_KGE\", \"Best_HydroModel_gwlf_KGE.yaml\"\n",
    "    )\n",
    "print(model_path)\n",
    "\n",
    "# Load the model\n",
    "model_dict = hydrocnhs.load_model(model_path)\n",
    "# Here we manually change the working directory in the model directory\n",
    "model_dict[\"Path\"][\"WD\"] = wd"
   ]
  },
  {
   "cell_type": "markdown",
   "metadata": {},
   "source": [
    "After `Best_HydroModel_gwlf_KGE.yaml` is loaded, a summary printout shows a single routing outlet, 'WSLO,' with no other agents listed.\n",
    "\n",
    "Now, we can apply `model_dict` to create a model object for the simulation."
   ]
  },
  {
   "cell_type": "code",
   "execution_count": 9,
   "metadata": {},
   "outputs": [],
   "source": [
    "# Create the model object\n",
    "model = hydrocnhs.Model(model_dict)"
   ]
  },
  {
   "cell_type": "markdown",
   "metadata": {},
   "source": [
    "With that, we can start the simulation by calling `run` method with climate inputs as arguments."
   ]
  },
  {
   "cell_type": "code",
   "execution_count": 10,
   "metadata": {},
   "outputs": [
    {
     "name": "stderr",
     "output_type": "stream",
     "text": [
      "12053it [00:01, 11982.75it/s]"
     ]
    },
    {
     "name": "stdout",
     "output_type": "stream",
     "text": [
      "\n",
      "                Hagg       DLLO       TRGC      DAIRY       RCTV        WSLO\n",
      "1981-01-01  7.273348  18.361993  13.012307  35.574340  15.314707  107.655192\n",
      "1981-02-01  7.460241  17.127556  16.271473  27.850362  10.889746  111.406767\n",
      "1981-03-01  2.193627   2.973636   4.601788   8.421741   5.609668   91.983965\n",
      "1981-04-01  2.641500   5.206177   5.414842   9.204536   3.864405   71.431304\n",
      "1981-05-01  0.303622   0.005892   0.094642   0.056155   2.825899   38.073646\n"
     ]
    },
    {
     "name": "stderr",
     "output_type": "stream",
     "text": [
      "\n"
     ]
    }
   ],
   "source": [
    "# Run a simulation.\n",
    "Q = model.run(temp, prec, pet)\n",
    "\n",
    "# Ture the output to a pandas DataFrame. Here, we resample the daily output to monthly.\n",
    "results = pd.DataFrame(Q, index=model.pd_date_index).resample(\"MS\").mean()\n",
    "print(results.head())"
   ]
  },
  {
   "cell_type": "markdown",
   "metadata": {},
   "source": [
    "Below, we compare the simulated discharge at WSLO (routing outlet) with the observation."
   ]
  },
  {
   "cell_type": "code",
   "execution_count": 11,
   "metadata": {},
   "outputs": [
    {
     "data": {
      "text/plain": [
       "<matplotlib.legend.Legend at 0x18ef4298350>"
      ]
     },
     "execution_count": 11,
     "metadata": {},
     "output_type": "execute_result"
    },
    {
     "data": {
      "image/png": "[encoded data removed]",
      "text/plain": [
       "<Figure size 640x480 with 1 Axes>"
      ]
     },
     "metadata": {},
     "output_type": "display_data"
    }
   ],
   "source": [
    "import matplotlib.pyplot as plt\n",
    "\n",
    "# Load the observed flow data\n",
    "obv_flow_WSLO = pd.read_csv(\n",
    "    os.path.join(wd, \"Data\", \"WSLO_M_cms.csv\"), index_col=[\"Date\"], parse_dates=[\"Date\"]\n",
    ")\n",
    "\n",
    "# Plot\n",
    "fig, ax = plt.subplots()\n",
    "ax.plot(obv_flow_WSLO.index, obv_flow_WSLO.loc[:, \"WSLO\"], label=\"Obv\")\n",
    "ax.plot(obv_flow_WSLO.index, results[\"WSLO\"], ls=\"--\", label=\"Sim\")\n",
    "ax.set_ylabel(\"Discharge (cubic meters per second)\")\n",
    "ax.legend()"
   ]
  },
  {
   "cell_type": "markdown",
   "metadata": {},
   "source": [
    "## Construct a model\n",
    "\n",
    "Now, we have experience how to run a simulation using `HydroCNHS`. Next, we want to dive a little bit further to construct a model ourselves. \n",
    "\n",
    "To that, HydroCNHS includes a model builder designed to assist users in creating a draft `model.yaml` file.\n",
    "\n",
    "First, initialize a model builder object with a working directory. The instructions will then pop out to help you create a model file. You can recall the instructions by calling `mb.help()`."
   ]
  },
  {
   "cell_type": "code",
   "execution_count": 12,
   "metadata": {},
   "outputs": [
    {
     "name": "stdout",
     "output_type": "stream",
     "text": [
      "Follow the following steps to create model & ABM script templates:\n",
      "\tStep 1: set_water_system()\n",
      "\tStep 2: set_rainfall_runoff()\n",
      "\tStep 3: set_routing_outlet(), one at a time.\n",
      "\tStep 4: (optional) set_sediment().\n",
      "\tStep 5: (optional) add_sediment(), one at a time.\n",
      "\tStep 6: (optional) set_ABM().\n",
      "\tStep 7: (optional) add_agent().\n",
      "\tStep 8: (optional) add_institution().\n",
      "\tStep 9: write_model_to_yaml()\n",
      "\tStep 10: (optional) gen_ABM_script_template()\n",
      "Open the generated draft 'model.yaml' (& ABM module template) and further edit them.\n",
      "Use .help to re-print the above instructions.\n"
     ]
    }
   ],
   "source": [
    "# We reuse the working directory used above.\n",
    "mb = hydrocnhs.ModelBuilder(wd)"
   ]
  },
  {
   "cell_type": "markdown",
   "metadata": {},
   "source": [
    "Following the instructions, we first configure a water system by setting the simulation period, which includes the start and end dates."
   ]
  },
  {
   "cell_type": "code",
   "execution_count": 13,
   "metadata": {},
   "outputs": [],
   "source": [
    "mb.set_water_system(start_date=\"1981/1/1\", end_date=\"2013/12/31\")"
   ]
  },
  {
   "cell_type": "markdown",
   "metadata": {},
   "source": [
    "Then, we can add subbasins (i.e., `outlet_list`) to the model. We adopt the GWLF model as the rainfall-runoff model (i.e., `runoff_model`). We also assign the corresponding subbasins' areas (i.e., `area_list`) and latitudes (i.e., `lat_list`) using the information from Table 4. Note that `area_list` and `lat_list` are optional arguments. Users can manually enter this information into the `model.yaml` file.\n"
   ]
  },
  {
   "cell_type": "code",
   "execution_count": 14,
   "metadata": {},
   "outputs": [],
   "source": [
    "# outlet list includes all the outlets in the model, routing outlets and non-routing outlets.\n",
    "outlet_list = ['Hagg', 'DLLO', 'TRGC', 'DAIRY', 'RCTV', 'WSLO']\n",
    "area_list = [10034.2408, 22568.2404, 24044.6363, 59822.7546, 19682.6046, 47646.8477]\n",
    "lat_list = [45.469, 45.475, 45.502, 45.520, 45.502, 45.350]\n",
    "mb.set_rainfall_runoff(\n",
    "    outlet_list=outlet_list,area_list=area_list,\n",
    "    lat_list=lat_list, runoff_model=\"GWLF\"\n",
    "    )"
   ]
  },
  {
   "cell_type": "markdown",
   "metadata": {},
   "source": [
    "Next, we specify the routing outlet setting. Here, we only have one routing outlet, WSLO, hence, we only need to run the following code once, and all the outlets are considered upstream outlets of WSLO."
   ]
  },
  {
   "cell_type": "code",
   "execution_count": 15,
   "metadata": {},
   "outputs": [],
   "source": [
    "flow_length_list = [101469.139, 91813.075, 80064.864, 70988.164, 60398.680, 0] # km\n",
    "mb.set_routing_outlet(\n",
    "    routing_outlet=\"WSLO\",\n",
    "    upstream_outlet_list=outlet_list,\n",
    "    flow_length_list=flow_length_list\n",
    "    )"
   ]
  },
  {
   "cell_type": "markdown",
   "metadata": {},
   "source": [
    "Since we don't have any agents in this tutorial, we have done all the setup. We can print out the model for quick view and then write it to `model.yaml` file."
   ]
  },
  {
   "cell_type": "code",
   "execution_count": 16,
   "metadata": {},
   "outputs": [
    {
     "name": "stdout",
     "output_type": "stream",
     "text": [
      "Path\n",
      "  WD\n",
      "    C:\\Users\\CL\\Documents\\GitHub\\HydroCNHS\\tutorials\\Tutorial_1-Build_a_Semi-distributed_Hydrological_Model\n",
      "  Modules\n",
      "    \n",
      "WaterSystem\n",
      "  StartDate\n",
      "    1981/1/1\n",
      "  EndDate\n",
      "    2013/12/31\n",
      "  DataLength\n",
      "    12053\n",
      "  NumSubbasins\n",
      "    6\n",
      "  Outlets\n",
      "    ['Hagg', 'DLLO', 'TRGC', 'DAIRY', 'RCTV', 'WSLO']\n",
      "  NodeGroups\n",
      "    []\n",
      "  RainfallRunoff\n",
      "    GWLF\n",
      "  Routing\n",
      "    Lohmann\n",
      "  ABM\n",
      "    None\n",
      "RainfallRunoff\n",
      "  Hagg\n",
      "    Inputs\n",
      "      {'Area': 10034.2408, 'Latitude': 45.469, 'S0': 2, 'U0': 10, 'SnowS': 5}\n",
      "    Pars\n",
      "      {'CN2': -99, 'IS': -99, 'Res': -99, 'Sep': -99, 'Alpha': -99, 'Beta': -99, 'Ur': -99, 'Df': -99, 'Kc': -99}\n",
      "  DLLO\n",
      "    Inputs\n",
      "      {'Area': 22568.2404, 'Latitude': 45.475, 'S0': 2, 'U0': 10, 'SnowS': 5}\n",
      "    Pars\n",
      "      {'CN2': -99, 'IS': -99, 'Res': -99, 'Sep': -99, 'Alpha': -99, 'Beta': -99, 'Ur': -99, 'Df': -99, 'Kc': -99}\n",
      "  TRGC\n",
      "    Inputs\n",
      "      {'Area': 24044.6363, 'Latitude': 45.502, 'S0': 2, 'U0': 10, 'SnowS': 5}\n",
      "    Pars\n",
      "      {'CN2': -99, 'IS': -99, 'Res': -99, 'Sep': -99, 'Alpha': -99, 'Beta': -99, 'Ur': -99, 'Df': -99, 'Kc': -99}\n",
      "  DAIRY\n",
      "    Inputs\n",
      "      {'Area': 59822.7546, 'Latitude': 45.52, 'S0': 2, 'U0': 10, 'SnowS': 5}\n",
      "    Pars\n",
      "      {'CN2': -99, 'IS': -99, 'Res': -99, 'Sep': -99, 'Alpha': -99, 'Beta': -99, 'Ur': -99, 'Df': -99, 'Kc': -99}\n",
      "  RCTV\n",
      "    Inputs\n",
      "      {'Area': 19682.6046, 'Latitude': 45.502, 'S0': 2, 'U0': 10, 'SnowS': 5}\n",
      "    Pars\n",
      "      {'CN2': -99, 'IS': -99, 'Res': -99, 'Sep': -99, 'Alpha': -99, 'Beta': -99, 'Ur': -99, 'Df': -99, 'Kc': -99}\n",
      "  WSLO\n",
      "    Inputs\n",
      "      {'Area': 47646.8477, 'Latitude': 45.35, 'S0': 2, 'U0': 10, 'SnowS': 5}\n",
      "    Pars\n",
      "      {'CN2': -99, 'IS': -99, 'Res': -99, 'Sep': -99, 'Alpha': -99, 'Beta': -99, 'Ur': -99, 'Df': -99, 'Kc': -99}\n",
      "Routing\n",
      "  WSLO\n",
      "    Hagg\n",
      "      {'Inputs': {'FlowLength': 101469.139, 'InstreamControl': False}, 'Pars': {'GShape': -99, 'GScale': -99, 'Velo': -99, 'Diff': -99}}\n",
      "    DLLO\n",
      "      {'Inputs': {'FlowLength': 91813.075, 'InstreamControl': False}, 'Pars': {'GShape': -99, 'GScale': -99, 'Velo': -99, 'Diff': -99}}\n",
      "    TRGC\n",
      "      {'Inputs': {'FlowLength': 80064.864, 'InstreamControl': False}, 'Pars': {'GShape': -99, 'GScale': -99, 'Velo': -99, 'Diff': -99}}\n",
      "    DAIRY\n",
      "      {'Inputs': {'FlowLength': 70988.164, 'InstreamControl': False}, 'Pars': {'GShape': -99, 'GScale': -99, 'Velo': -99, 'Diff': -99}}\n",
      "    RCTV\n",
      "      {'Inputs': {'FlowLength': 60398.68, 'InstreamControl': False}, 'Pars': {'GShape': -99, 'GScale': -99, 'Velo': -99, 'Diff': -99}}\n",
      "    WSLO\n",
      "      {'Inputs': {'FlowLength': 0, 'InstreamControl': False}, 'Pars': {'GShape': -99, 'GScale': -99, 'Velo': None, 'Diff': None}}\n",
      "Model configuration file (.yaml) have been save at C:\\Users\\CL\\Documents\\GitHub\\HydroCNHS\\tutorials\\Tutorial_1-Build_a_Semi-distributed_Hydrological_Model\\model.yaml. Please open the file and further edit it.\n"
     ]
    }
   ],
   "source": [
    "# Print the model in the console\n",
    "mb.print_model()\n",
    "\n",
    "# Output draft model configuration file (model.yaml)\n",
    "mb.write_model_to_yaml(filename=\"model.yaml\")"
   ]
  },
  {
   "cell_type": "markdown",
   "metadata": {},
   "source": [
    "## Model calibraion\n",
    "\n",
    "Before applying the draft `model.yaml` for calibration, we need to ensure the information is correct. \n",
    "\n",
    "The \"Inputs\" in the `LSM` and `Routing` sections should all be populated. Some default values may be used (e.g., `S0`, `U0`, and `SnowS`). They should be updated according to the user's needs. For this tutorial, no modifications are needed. You might notice that all the parameters have a value of `-99`. This is the default value in HydroCNHS, indicating that those values are subject to calibration if not provided by the user.\n",
    "\n",
    "Below, we provide a sample calibration code using genetic algorithm (GA) and Kling-Gupta efficiency (KGE) at WSLO as the objective. The calibration will take around 2 to 3 hours depending on your hardware.\n",
    "\n",
    "Note: By running the following code, the entire `Cali_HydroModel_gwlf_KGE` folder will be overwritten. "
   ]
  },
  {
   "cell_type": "code",
   "execution_count": 18,
   "metadata": {},
   "outputs": [
    {
     "name": "stdout",
     "output_type": "stream",
     "text": [
      "GA Calibration Guide\n",
      "Step 1: set or load (GA_auto_save.pickle).\n",
      "Step 2: run.\n",
      "[01/02 10:41:20] HydroCNHS.GA [WARNING] Current calibration folder exists. Default to overwrite the folder!\n",
      "C:\\Users\\CL\\Documents\\GitHub\\HydroCNHS\\tutorials\\Tutorial_1-Build_a_Semi-distributed_Hydrological_Model\\Cali_HydroModel_gwlf_KGE\n"
     ]
    },
    {
     "name": "stderr",
     "output_type": "stream",
     "text": [
      "c:\\Users\\CL\\miniconda3\\envs\\drb\\Lib\\site-packages\\hydrocnhs\\util.py:271: FutureWarning: Setting an item of incompatible dtype is deprecated and will raise an error in a future version of pandas. Value '[25, 100]' has dtype incompatible with int64, please explicitly cast to a compatible dtype first.\n",
      "  df.loc[k, :] = str(v)\n",
      "c:\\Users\\CL\\miniconda3\\envs\\drb\\Lib\\site-packages\\hydrocnhs\\util.py:271: FutureWarning: Setting an item of incompatible dtype is deprecated and will raise an error in a future version of pandas. Value '[25, 100]' has dtype incompatible with int64, please explicitly cast to a compatible dtype first.\n",
      "  df.loc[k, :] = str(v)\n",
      "c:\\Users\\CL\\miniconda3\\envs\\drb\\Lib\\site-packages\\hydrocnhs\\util.py:271: FutureWarning: Setting an item of incompatible dtype is deprecated and will raise an error in a future version of pandas. Value '[25, 100]' has dtype incompatible with int64, please explicitly cast to a compatible dtype first.\n",
      "  df.loc[k, :] = str(v)\n",
      "c:\\Users\\CL\\miniconda3\\envs\\drb\\Lib\\site-packages\\hydrocnhs\\util.py:271: FutureWarning: Setting an item of incompatible dtype is deprecated and will raise an error in a future version of pandas. Value '[25, 100]' has dtype incompatible with int64, please explicitly cast to a compatible dtype first.\n",
      "  df.loc[k, :] = str(v)\n",
      "c:\\Users\\CL\\miniconda3\\envs\\drb\\Lib\\site-packages\\hydrocnhs\\util.py:271: FutureWarning: Setting an item of incompatible dtype is deprecated and will raise an error in a future version of pandas. Value '[25, 100]' has dtype incompatible with int64, please explicitly cast to a compatible dtype first.\n",
      "  df.loc[k, :] = str(v)\n",
      "c:\\Users\\CL\\miniconda3\\envs\\drb\\Lib\\site-packages\\hydrocnhs\\util.py:271: FutureWarning: Setting an item of incompatible dtype is deprecated and will raise an error in a future version of pandas. Value '[25, 100]' has dtype incompatible with int64, please explicitly cast to a compatible dtype first.\n",
      "  df.loc[k, :] = str(v)\n",
      "c:\\Users\\CL\\miniconda3\\envs\\drb\\Lib\\site-packages\\hydrocnhs\\util.py:277: FutureWarning: Setting an item of incompatible dtype is deprecated and will raise an error in a future version of pandas. Value '[1, 100]' has dtype incompatible with int64, please explicitly cast to a compatible dtype first.\n",
      "  df.loc[k, df.loc[k, :].isna() == False] = str(v)\n",
      "c:\\Users\\CL\\miniconda3\\envs\\drb\\Lib\\site-packages\\hydrocnhs\\util.py:277: FutureWarning: Setting an item of incompatible dtype is deprecated and will raise an error in a future version of pandas. Value '[1, 100]' has dtype incompatible with int64, please explicitly cast to a compatible dtype first.\n",
      "  df.loc[k, df.loc[k, :].isna() == False] = str(v)\n",
      "c:\\Users\\CL\\miniconda3\\envs\\drb\\Lib\\site-packages\\hydrocnhs\\util.py:277: FutureWarning: Setting an item of incompatible dtype is deprecated and will raise an error in a future version of pandas. Value '[1, 100]' has dtype incompatible with int64, please explicitly cast to a compatible dtype first.\n",
      "  df.loc[k, df.loc[k, :].isna() == False] = str(v)\n",
      "c:\\Users\\CL\\miniconda3\\envs\\drb\\Lib\\site-packages\\hydrocnhs\\util.py:277: FutureWarning: Setting an item of incompatible dtype is deprecated and will raise an error in a future version of pandas. Value '[1, 100]' has dtype incompatible with int64, please explicitly cast to a compatible dtype first.\n",
      "  df.loc[k, df.loc[k, :].isna() == False] = str(v)\n",
      "c:\\Users\\CL\\miniconda3\\envs\\drb\\Lib\\site-packages\\hydrocnhs\\util.py:277: FutureWarning: Setting an item of incompatible dtype is deprecated and will raise an error in a future version of pandas. Value '[1, 100]' has dtype incompatible with int64, please explicitly cast to a compatible dtype first.\n",
      "  df.loc[k, df.loc[k, :].isna() == False] = str(v)\n",
      "c:\\Users\\CL\\miniconda3\\envs\\drb\\Lib\\site-packages\\hydrocnhs\\util.py:277: FutureWarning: Setting an item of incompatible dtype is deprecated and will raise an error in a future version of pandas. Value '[1, 100]' has dtype incompatible with float64, please explicitly cast to a compatible dtype first.\n",
      "  df.loc[k, df.loc[k, :].isna() == False] = str(v)\n",
      "[Parallel(n_jobs=-1)]: Using backend LokyBackend with 12 concurrent workers.\n",
      "[Parallel(n_jobs=-1)]: Done  26 tasks      | elapsed:   35.2s\n",
      "[Parallel(n_jobs=-1)]: Done 100 out of 100 | elapsed:  1.4min finished\n"
     ]
    },
    {
     "name": "stdout",
     "output_type": "stream",
     "text": [
      "\n",
      "=====Generation 0=====\n",
      "  Elapsed time 00:01:25\n",
      "  Min 0.22605\n",
      "  Max 0.92429\n",
      "  Avg 0.66237\n",
      "  Std 0.14465\n"
     ]
    },
    {
     "name": "stderr",
     "output_type": "stream",
     "text": [
      "[Parallel(n_jobs=-1)]: Using backend LokyBackend with 12 concurrent workers.\n",
      "[Parallel(n_jobs=-1)]: Done  26 tasks      | elapsed:   25.2s\n",
      "[Parallel(n_jobs=-1)]: Done  99 out of  99 | elapsed:  1.2min finished\n"
     ]
    },
    {
     "name": "stdout",
     "output_type": "stream",
     "text": [
      "\n",
      "=====Generation 1=====\n",
      "  Elapsed time 00:02:39\n",
      "  Min 0.23829\n",
      "  Max 0.92537\n",
      "  Avg 0.69316\n",
      "  Std 0.14193\n"
     ]
    },
    {
     "name": "stderr",
     "output_type": "stream",
     "text": [
      "[Parallel(n_jobs=-1)]: Using backend LokyBackend with 12 concurrent workers.\n",
      "[Parallel(n_jobs=-1)]: Done  26 tasks      | elapsed:   23.9s\n",
      "[Parallel(n_jobs=-1)]: Done  99 out of  99 | elapsed:  1.2min finished\n"
     ]
    },
    {
     "name": "stdout",
     "output_type": "stream",
     "text": [
      "\n",
      "=====Generation 2=====\n",
      "  Elapsed time 00:03:51\n",
      "  Min 0.25742\n",
      "  Max 0.93526\n",
      "  Avg 0.69808\n",
      "  Std 0.13554\n"
     ]
    },
    {
     "name": "stderr",
     "output_type": "stream",
     "text": [
      "[Parallel(n_jobs=-1)]: Using backend LokyBackend with 12 concurrent workers.\n",
      "[Parallel(n_jobs=-1)]: Done  26 tasks      | elapsed:   27.0s\n",
      "[Parallel(n_jobs=-1)]: Done  99 out of  99 | elapsed:  1.3min finished\n"
     ]
    },
    {
     "name": "stdout",
     "output_type": "stream",
     "text": [
      "\n",
      "=====Generation 3=====\n",
      "  Elapsed time 00:05:08\n",
      "  Min 0.36877\n",
      "  Max 0.93526\n",
      "  Avg 0.73055\n",
      "  Std 0.1181\n"
     ]
    },
    {
     "name": "stderr",
     "output_type": "stream",
     "text": [
      "[Parallel(n_jobs=-1)]: Using backend LokyBackend with 12 concurrent workers.\n",
      "[Parallel(n_jobs=-1)]: Done  26 tasks      | elapsed:   24.8s\n",
      "[Parallel(n_jobs=-1)]: Done  99 out of  99 | elapsed:  1.2min finished\n"
     ]
    },
    {
     "name": "stdout",
     "output_type": "stream",
     "text": [
      "\n",
      "=====Generation 4=====\n",
      "  Elapsed time 00:06:23\n",
      "  Min 0.42374\n",
      "  Max 0.93526\n",
      "  Avg 0.7443\n",
      "  Std 0.11081\n"
     ]
    },
    {
     "name": "stderr",
     "output_type": "stream",
     "text": [
      "[Parallel(n_jobs=-1)]: Using backend LokyBackend with 12 concurrent workers.\n",
      "[Parallel(n_jobs=-1)]: Done  26 tasks      | elapsed:   23.7s\n",
      "[Parallel(n_jobs=-1)]: Done  99 out of  99 | elapsed:  1.2min finished\n"
     ]
    },
    {
     "name": "stdout",
     "output_type": "stream",
     "text": [
      "\n",
      "=====Generation 5=====\n",
      "  Elapsed time 00:07:37\n",
      "  Min 0.38773\n",
      "  Max 0.93526\n",
      "  Avg 0.76297\n",
      "  Std 0.1106\n"
     ]
    },
    {
     "name": "stderr",
     "output_type": "stream",
     "text": [
      "[Parallel(n_jobs=-1)]: Using backend LokyBackend with 12 concurrent workers.\n",
      "[Parallel(n_jobs=-1)]: Done  26 tasks      | elapsed:   28.8s\n",
      "[Parallel(n_jobs=-1)]: Done  99 out of  99 | elapsed:  1.3min finished\n"
     ]
    },
    {
     "name": "stdout",
     "output_type": "stream",
     "text": [
      "\n",
      "=====Generation 6=====\n",
      "  Elapsed time 00:08:57\n",
      "  Min 0.45166\n",
      "  Max 0.93526\n",
      "  Avg 0.79287\n",
      "  Std 0.09685\n"
     ]
    },
    {
     "name": "stderr",
     "output_type": "stream",
     "text": [
      "[Parallel(n_jobs=-1)]: Using backend LokyBackend with 12 concurrent workers.\n",
      "[Parallel(n_jobs=-1)]: Done  26 tasks      | elapsed:   25.2s\n",
      "[Parallel(n_jobs=-1)]: Done  99 out of  99 | elapsed:  1.2min finished\n"
     ]
    },
    {
     "name": "stdout",
     "output_type": "stream",
     "text": [
      "\n",
      "=====Generation 7=====\n",
      "  Elapsed time 00:10:11\n",
      "  Min 0.54428\n",
      "  Max 0.93985\n",
      "  Avg 0.80099\n",
      "  Std 0.09372\n"
     ]
    },
    {
     "name": "stderr",
     "output_type": "stream",
     "text": [
      "[Parallel(n_jobs=-1)]: Using backend LokyBackend with 12 concurrent workers.\n",
      "[Parallel(n_jobs=-1)]: Done  26 tasks      | elapsed:   23.7s\n",
      "[Parallel(n_jobs=-1)]: Done  99 out of  99 | elapsed:  1.2min finished\n"
     ]
    },
    {
     "name": "stdout",
     "output_type": "stream",
     "text": [
      "\n",
      "=====Generation 8=====\n",
      "  Elapsed time 00:11:25\n",
      "  Min 0.55846\n",
      "  Max 0.93985\n",
      "  Avg 0.80806\n",
      "  Std 0.09316\n"
     ]
    },
    {
     "name": "stderr",
     "output_type": "stream",
     "text": [
      "[Parallel(n_jobs=-1)]: Using backend LokyBackend with 12 concurrent workers.\n",
      "[Parallel(n_jobs=-1)]: Done  26 tasks      | elapsed:   25.5s\n",
      "[Parallel(n_jobs=-1)]: Done  99 out of  99 | elapsed:  1.2min finished\n"
     ]
    },
    {
     "name": "stdout",
     "output_type": "stream",
     "text": [
      "\n",
      "=====Generation 9=====\n",
      "  Elapsed time 00:12:39\n",
      "  Min 0.46108\n",
      "  Max 0.93985\n",
      "  Avg 0.81603\n",
      "  Std 0.09173\n"
     ]
    },
    {
     "name": "stderr",
     "output_type": "stream",
     "text": [
      "[Parallel(n_jobs=-1)]: Using backend LokyBackend with 12 concurrent workers.\n",
      "[Parallel(n_jobs=-1)]: Done  26 tasks      | elapsed:   24.6s\n",
      "[Parallel(n_jobs=-1)]: Done  99 out of  99 | elapsed:  1.3min finished\n"
     ]
    },
    {
     "name": "stdout",
     "output_type": "stream",
     "text": [
      "\n",
      "=====Generation 10=====\n",
      "  Elapsed time 00:13:57\n",
      "  Min 0.50799\n",
      "  Max 0.93985\n",
      "  Avg 0.83759\n",
      "  Std 0.08041\n"
     ]
    },
    {
     "name": "stderr",
     "output_type": "stream",
     "text": [
      "[Parallel(n_jobs=-1)]: Using backend LokyBackend with 12 concurrent workers.\n",
      "[Parallel(n_jobs=-1)]: Done  26 tasks      | elapsed:   26.3s\n",
      "[Parallel(n_jobs=-1)]: Done  99 out of  99 | elapsed:  1.2min finished\n"
     ]
    },
    {
     "name": "stdout",
     "output_type": "stream",
     "text": [
      "\n",
      "=====Generation 11=====\n",
      "  Elapsed time 00:15:14\n",
      "  Min 0.609\n",
      "  Max 0.93985\n",
      "  Avg 0.83651\n",
      "  Std 0.07855\n"
     ]
    },
    {
     "name": "stderr",
     "output_type": "stream",
     "text": [
      "[Parallel(n_jobs=-1)]: Using backend LokyBackend with 12 concurrent workers.\n",
      "[Parallel(n_jobs=-1)]: Done  26 tasks      | elapsed:   25.9s\n"
     ]
    },
    {
     "ename": "KeyboardInterrupt",
     "evalue": "",
     "output_type": "error",
     "traceback": [
      "\u001b[1;31m---------------------------------------------------------------------------\u001b[0m",
      "\u001b[1;31mKeyboardInterrupt\u001b[0m                         Traceback (most recent call last)",
      "Cell \u001b[1;32mIn[18], line 89\u001b[0m\n\u001b[0;32m     87\u001b[0m ga \u001b[38;5;241m=\u001b[39m cali\u001b[38;5;241m.\u001b[39mGA_DEAP(evaluation, rn_gen)\n\u001b[0;32m     88\u001b[0m ga\u001b[38;5;241m.\u001b[39mset(cali_inputs, config, formatter, name\u001b[38;5;241m=\u001b[39m\u001b[38;5;124m\"\u001b[39m\u001b[38;5;124mCali_HydroModel_gwlf_KGE\u001b[39m\u001b[38;5;124m\"\u001b[39m)\n\u001b[1;32m---> 89\u001b[0m ga\u001b[38;5;241m.\u001b[39mrun()\n\u001b[0;32m     90\u001b[0m summary \u001b[38;5;241m=\u001b[39m ga\u001b[38;5;241m.\u001b[39msummary\n\u001b[0;32m     91\u001b[0m individual \u001b[38;5;241m=\u001b[39m ga\u001b[38;5;241m.\u001b[39msolution\n",
      "File \u001b[1;32mc:\\Users\\CL\\miniconda3\\envs\\drb\\Lib\\site-packages\\hydrocnhs\\calibration\\ga_deap.py:474\u001b[0m, in \u001b[0;36mGA_DEAP.run\u001b[1;34m(self, guess_pop)\u001b[0m\n\u001b[0;32m    472\u001b[0m scaled_pop \u001b[38;5;241m=\u001b[39m \u001b[38;5;28mlist\u001b[39m(\u001b[38;5;28mmap\u001b[39m(tb\u001b[38;5;241m.\u001b[39mscale, invalid_ind))\n\u001b[0;32m    473\u001b[0m rn_gen_pop \u001b[38;5;241m=\u001b[39m \u001b[38;5;28mself\u001b[39m\u001b[38;5;241m.\u001b[39mgen_rn_gens(\u001b[38;5;28mself\u001b[39m\u001b[38;5;241m.\u001b[39mrng_seeds[\u001b[38;5;28mself\u001b[39m\u001b[38;5;241m.\u001b[39mcurrent_gen], size[\u001b[38;5;241m0\u001b[39m])\n\u001b[1;32m--> 474\u001b[0m fitnesses \u001b[38;5;241m=\u001b[39m Parallel(n_jobs\u001b[38;5;241m=\u001b[39mparal_cores, verbose\u001b[38;5;241m=\u001b[39mparal_verbose)(\n\u001b[0;32m    475\u001b[0m     delayed(tb\u001b[38;5;241m.\u001b[39mevaluate)(\n\u001b[0;32m    476\u001b[0m         np\u001b[38;5;241m.\u001b[39marray(scaled_pop[k]),\n\u001b[0;32m    477\u001b[0m         (cali_wd, \u001b[38;5;28mself\u001b[39m\u001b[38;5;241m.\u001b[39mcurrent_gen, k, formatter, rn_gen_pop[k]),\n\u001b[0;32m    478\u001b[0m     )\n\u001b[0;32m    479\u001b[0m     \u001b[38;5;28;01mfor\u001b[39;00m k \u001b[38;5;129;01min\u001b[39;00m \u001b[38;5;28mrange\u001b[39m(\u001b[38;5;28mlen\u001b[39m(invalid_ind))\n\u001b[0;32m    480\u001b[0m )\n\u001b[0;32m    481\u001b[0m \u001b[38;5;28;01mfor\u001b[39;00m ind, fit \u001b[38;5;129;01min\u001b[39;00m \u001b[38;5;28mzip\u001b[39m(invalid_ind, fitnesses):\n\u001b[0;32m    482\u001b[0m     ind\u001b[38;5;241m.\u001b[39mfitness\u001b[38;5;241m.\u001b[39mvalues \u001b[38;5;241m=\u001b[39m fit\n",
      "File \u001b[1;32mc:\\Users\\CL\\miniconda3\\envs\\drb\\Lib\\site-packages\\joblib\\parallel.py:2007\u001b[0m, in \u001b[0;36mParallel.__call__\u001b[1;34m(self, iterable)\u001b[0m\n\u001b[0;32m   2001\u001b[0m \u001b[38;5;66;03m# The first item from the output is blank, but it makes the interpreter\u001b[39;00m\n\u001b[0;32m   2002\u001b[0m \u001b[38;5;66;03m# progress until it enters the Try/Except block of the generator and\u001b[39;00m\n\u001b[0;32m   2003\u001b[0m \u001b[38;5;66;03m# reaches the first `yield` statement. This starts the asynchronous\u001b[39;00m\n\u001b[0;32m   2004\u001b[0m \u001b[38;5;66;03m# dispatch of the tasks to the workers.\u001b[39;00m\n\u001b[0;32m   2005\u001b[0m \u001b[38;5;28mnext\u001b[39m(output)\n\u001b[1;32m-> 2007\u001b[0m \u001b[38;5;28;01mreturn\u001b[39;00m output \u001b[38;5;28;01mif\u001b[39;00m \u001b[38;5;28mself\u001b[39m\u001b[38;5;241m.\u001b[39mreturn_generator \u001b[38;5;28;01melse\u001b[39;00m \u001b[38;5;28mlist\u001b[39m(output)\n",
      "File \u001b[1;32mc:\\Users\\CL\\miniconda3\\envs\\drb\\Lib\\site-packages\\joblib\\parallel.py:1650\u001b[0m, in \u001b[0;36mParallel._get_outputs\u001b[1;34m(self, iterator, pre_dispatch)\u001b[0m\n\u001b[0;32m   1647\u001b[0m     \u001b[38;5;28;01myield\u001b[39;00m\n\u001b[0;32m   1649\u001b[0m     \u001b[38;5;28;01mwith\u001b[39;00m \u001b[38;5;28mself\u001b[39m\u001b[38;5;241m.\u001b[39m_backend\u001b[38;5;241m.\u001b[39mretrieval_context():\n\u001b[1;32m-> 1650\u001b[0m         \u001b[38;5;28;01myield from\u001b[39;00m \u001b[38;5;28mself\u001b[39m\u001b[38;5;241m.\u001b[39m_retrieve()\n\u001b[0;32m   1652\u001b[0m \u001b[38;5;28;01mexcept\u001b[39;00m \u001b[38;5;167;01mGeneratorExit\u001b[39;00m:\n\u001b[0;32m   1653\u001b[0m     \u001b[38;5;66;03m# The generator has been garbage collected before being fully\u001b[39;00m\n\u001b[0;32m   1654\u001b[0m     \u001b[38;5;66;03m# consumed. This aborts the remaining tasks if possible and warn\u001b[39;00m\n\u001b[0;32m   1655\u001b[0m     \u001b[38;5;66;03m# the user if necessary.\u001b[39;00m\n\u001b[0;32m   1656\u001b[0m     \u001b[38;5;28mself\u001b[39m\u001b[38;5;241m.\u001b[39m_exception \u001b[38;5;241m=\u001b[39m \u001b[38;5;28;01mTrue\u001b[39;00m\n",
      "File \u001b[1;32mc:\\Users\\CL\\miniconda3\\envs\\drb\\Lib\\site-packages\\joblib\\parallel.py:1762\u001b[0m, in \u001b[0;36mParallel._retrieve\u001b[1;34m(self)\u001b[0m\n\u001b[0;32m   1757\u001b[0m \u001b[38;5;66;03m# If the next job is not ready for retrieval yet, we just wait for\u001b[39;00m\n\u001b[0;32m   1758\u001b[0m \u001b[38;5;66;03m# async callbacks to progress.\u001b[39;00m\n\u001b[0;32m   1759\u001b[0m \u001b[38;5;28;01mif\u001b[39;00m ((\u001b[38;5;28mlen\u001b[39m(\u001b[38;5;28mself\u001b[39m\u001b[38;5;241m.\u001b[39m_jobs) \u001b[38;5;241m==\u001b[39m \u001b[38;5;241m0\u001b[39m) \u001b[38;5;129;01mor\u001b[39;00m\n\u001b[0;32m   1760\u001b[0m     (\u001b[38;5;28mself\u001b[39m\u001b[38;5;241m.\u001b[39m_jobs[\u001b[38;5;241m0\u001b[39m]\u001b[38;5;241m.\u001b[39mget_status(\n\u001b[0;32m   1761\u001b[0m         timeout\u001b[38;5;241m=\u001b[39m\u001b[38;5;28mself\u001b[39m\u001b[38;5;241m.\u001b[39mtimeout) \u001b[38;5;241m==\u001b[39m TASK_PENDING)):\n\u001b[1;32m-> 1762\u001b[0m     time\u001b[38;5;241m.\u001b[39msleep(\u001b[38;5;241m0.01\u001b[39m)\n\u001b[0;32m   1763\u001b[0m     \u001b[38;5;28;01mcontinue\u001b[39;00m\n\u001b[0;32m   1765\u001b[0m \u001b[38;5;66;03m# We need to be careful: the job list can be filling up as\u001b[39;00m\n\u001b[0;32m   1766\u001b[0m \u001b[38;5;66;03m# we empty it and Python list are not thread-safe by\u001b[39;00m\n\u001b[0;32m   1767\u001b[0m \u001b[38;5;66;03m# default hence the use of the lock\u001b[39;00m\n",
      "\u001b[1;31mKeyboardInterrupt\u001b[0m: "
     ]
    }
   ],
   "source": [
    "import pandas as pd\n",
    "import hydrocnhs.calibration as cali\n",
    "from copy import deepcopy\n",
    "\n",
    "# Load climate inputs\n",
    "temp = pd.read_csv(\n",
    "    os.path.join(wd, \"Data\", \"Temp_degC.csv\"), index_col=[\"Date\"]\n",
    ").to_dict(orient=\"list\")\n",
    "prec = pd.read_csv(os.path.join(wd, \"Data\", \"Prec_cm.csv\"), index_col=[\"Date\"]).to_dict(\n",
    "    orient=\"list\"\n",
    ")\n",
    "pet = pd.read_csv(os.path.join(wd, \"Data\", \"Pet_cm.csv\"), index_col=[\"Date\"]).to_dict(\n",
    "    orient=\"list\"\n",
    ")\n",
    "\n",
    "# Load flow gauge monthly data at WSLO\n",
    "obv_flow_WSLO = pd.read_csv(\n",
    "    os.path.join(wd, \"Data\", \"WSLO_M_cms.csv\"), index_col=[\"Date\"], parse_dates=[\"Date\"]\n",
    ")\n",
    "\n",
    "# Load model (the model can be loaded by giving the path of the model configuration file)\n",
    "model_dict = hydrocnhs.load_model(os.path.join(wd, \"model.yaml\"))\n",
    "\n",
    "# Generate default parameter bounds\n",
    "df_list, df_name = hydrocnhs.write_model_to_df(model_dict)\n",
    "par_bound_df_list, df_name = hydrocnhs.gen_default_bounds(model_dict)\n",
    "\n",
    "# Create convertor for calibration. Check the manual for converter details.\n",
    "converter = cali.Convertor()\n",
    "cali_inputs = converter.gen_cali_inputs(wd, df_list, par_bound_df_list)\n",
    "formatter = converter.formatter\n",
    "\n",
    "# Code evaluation function for GA algorthm\n",
    "def evaluation(individual, info):\n",
    "    cali_wd, current_generation, ith_individual, formatter, _ = info\n",
    "    name = \"{}-{}\".format(current_generation, ith_individual)\n",
    "\n",
    "    ##### individual -> model\n",
    "    # Convert 1D array to a list of dataframes.\n",
    "    df_list = cali.Convertor.to_df_list(individual, formatter)\n",
    "    # Feed dataframes in df_list to model dictionary.\n",
    "    model = deepcopy(model_dict)\n",
    "    for i, df in enumerate(df_list):\n",
    "        s = df_name[i].split(\"_\")[0]\n",
    "        model = hydrocnhs.load_df_to_model_dict(model, df, s, \"Pars\")\n",
    "\n",
    "    ##### Run simuluation\n",
    "    model = hydrocnhs.Model(model, name)\n",
    "    Q = model.run(temp, prec, pet)\n",
    "\n",
    "    ##### Get simulation data\n",
    "    # Streamflow of routing outlets.\n",
    "    cali_target = [\"WSLO\"]\n",
    "    cali_period = (\"1981-1-1\", \"2005-12-31\")\n",
    "    sim_Q_D = pd.DataFrame(Q, index=model.pd_date_index)[cali_target]\n",
    "    # Resample the daily simulation output to monthly outputs.\n",
    "    sim_Q_M = sim_Q_D[cali_target].resample(\"MS\").mean()\n",
    "\n",
    "    KGE = hydrocnhs.Indicator().get_kge(\n",
    "        x_obv=obv_flow_WSLO[cali_period[0] : cali_period[1]][cali_target],\n",
    "        y_sim=sim_Q_M[cali_period[0] : cali_period[1]][cali_target],\n",
    "    )\n",
    "\n",
    "    fitness = KGE\n",
    "    return (fitness,)\n",
    "\n",
    "\n",
    "config = {\n",
    "    \"min_or_max\": \"max\",\n",
    "    \"pop_size\": 100,\n",
    "    \"num_ellite\": 1,\n",
    "    \"prob_cross\": 0.5,\n",
    "    \"prob_mut\": 0.15,\n",
    "    \"stochastic\": False,\n",
    "    \"max_gen\": 100,\n",
    "    \"sampling_method\": \"LHC\",\n",
    "    \"drop_record\": False,\n",
    "    \"paral_cores\": -1,\n",
    "    \"paral_verbose\": 1,\n",
    "    \"auto_save\": True,\n",
    "    \"print_level\": 1,\n",
    "    \"plot\": True,\n",
    "}\n",
    "\n",
    "seed = 5\n",
    "rn_gen = hydrocnhs.create_rn_gen(seed)\n",
    "ga = cali.GA_DEAP(evaluation, rn_gen)\n",
    "ga.set(cali_inputs, config, formatter, name=\"Cali_HydroModel_gwlf_KGE\")\n",
    "ga.run()\n",
    "summary = ga.summary\n",
    "individual = ga.solution\n",
    "\n",
    "##### Output the calibrated model.\n",
    "df_list = cali.Convertor.to_df_list(individual, formatter)\n",
    "model_best = deepcopy(model_dict)\n",
    "for i, df in enumerate(df_list):\n",
    "    s = df_name[i].split(\"_\")[0]\n",
    "    model = hydrocnhs.load_df_to_model_dict(model_best, df, s, \"Pars\")\n",
    "hydrocnhs.write_model(\n",
    "    model_best, os.path.join(ga.cali_wd, \"Best_HydroModel_gwlf_KGE.yaml\")\n",
    ")"
   ]
  }
 ],
 "metadata": {
  "kernelspec": {
   "display_name": "yrb",
   "language": "python",
   "name": "python3"
  },
  "language_info": {
   "codemirror_mode": {
    "name": "ipython",
    "version": 3
   },
   "file_extension": ".py",
   "mimetype": "text/x-python",
   "name": "python",
   "nbconvert_exporter": "python",
   "pygments_lexer": "ipython3",
   "version": "3.12.9"
  }
 },
 "nbformat": 4,
 "nbformat_minor": 2
}
