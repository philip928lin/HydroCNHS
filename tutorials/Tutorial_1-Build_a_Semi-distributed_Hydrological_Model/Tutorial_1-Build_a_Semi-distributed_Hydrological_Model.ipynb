{
 "cells": [
  {
   "cell_type": "markdown",
   "metadata": {},
   "source": [
    "# Tutorial 1: Build a Semi-distributed Hydrological Model\n",
    "To get familiar with the HydroCNHS model construction process, let’s start with a hydrological model without human components. \n",
    "\n",
    "We adopted the following delineated watershed as a demonstration (Figure 1), in which we want to build a semi-distributed hydrological model to simulate the streamflow at the basin outlet, WSLO. The corresponding subbasins’ information is provided in Table 1.\n",
    "\n",
    "<img src=\"./NB_Figs/example_watershed.png\" alt=\"Example watershed.\" width=\"400\"/>\n",
    "\n",
    "*Figure 1. Example watershed*\n",
    "\n",
    "*Table 1. Subbasins’ information*\n",
    "| Subbasin/outlet | Drainage area [ha] | Latitude [deg] | Flow length to WSLO [m] |\n",
    "|-----------------|-------------------:|---------------:|------------------------:|\n",
    "| Hagg            | 10034.2408         | 45.469         | 101469.139              |\n",
    "| DLLO            | 22568.2404         | 45.475         | 91813.075               |\n",
    "| TRGC            | 24044.6363         | 45.502         | 80064.864               |\n",
    "| DAIRY           | 59822.7546         | 45.520         | 70988.164               |\n",
    "| RCTV            | 19682.6046         | 45.502         | 60398.680               |\n",
    "| WSLO            | 47646.8477         | 45.350         | 0                       |\n",
    "\n"
   ]
  },
  {
   "cell_type": "code",
   "execution_count": 1,
   "metadata": {},
   "outputs": [],
   "source": [
    "import os\n",
    "import pandas as pd\n",
    "import hydrocnhs"
   ]
  },
  {
   "cell_type": "markdown",
   "metadata": {},
   "source": [
    "## Run a simulation\n",
    "\n",
    "First, let's set up the working directory to run this tutorial."
   ]
  },
  {
   "cell_type": "code",
   "execution_count": 2,
   "metadata": {},
   "outputs": [
    {
     "name": "stdout",
     "output_type": "stream",
     "text": [
      "C:\\Users\\CL\\Documents\\GitHub\\HydroCNHS\\tutorials\\Tutorial_1-Build_a_Semi-distributed_Hydrological_Model\n"
     ]
    }
   ],
   "source": [
    "# Set the working directory\n",
    "wd = os.path.abspath(\n",
    "    os.path.join(\n",
    "        os.path.dirname(hydrocnhs.__file__),\n",
    "        '..', 'tutorials',\n",
    "        'Tutorial_1-Build_a_Semi-distributed_Hydrological_Model'\n",
    "        )\n",
    "    )\n",
    "\n",
    "print(wd)"
   ]
  },
  {
   "cell_type": "markdown",
   "metadata": {},
   "source": [
    "Then, we load the climate inputs, including temperature, precipitation, and potential evapotranspiration, from `.csv` and convert them into `dictionaries`."
   ]
  },
  {
   "cell_type": "code",
   "execution_count": 3,
   "metadata": {},
   "outputs": [],
   "source": [
    "# Load climate inputs\n",
    "data_path = os.path.join(wd, \"Data\")\n",
    "\n",
    "temp = pd.read_csv(\n",
    "    os.path.join(data_path, \"Temp_degC.csv\"), index_col=[\"Date\"]\n",
    ").to_dict(orient=\"list\")\n",
    "\n",
    "prec = pd.read_csv(os.path.join(data_path, \"Prec_cm.csv\"), index_col=[\"Date\"]).to_dict(\n",
    "    orient=\"list\"\n",
    ")\n",
    "\n",
    "pet = pd.read_csv(os.path.join(data_path, \"Pet_cm.csv\"), index_col=[\"Date\"]).to_dict(\n",
    "    orient=\"list\"\n",
    ")"
   ]
  },
  {
   "cell_type": "markdown",
   "metadata": {},
   "source": [
    "Next, we load a calibrated model to give a taste of how a simulation looks like before jumping into details about how to construct and calibrated model.\n",
    "\n",
    "The `Model` in HydroCNHS is defined in a single `.yaml` file. The file will be loaded into Python and displayed as a `dictionary`. We highly recommend that you open `Best_HydroModel_gwlf_KGE.yaml`, located in `Tutorial_1-Build_a_Semi-distributed_Hydrological_Model/Cali_HydroModel_gwlf_KGE/Cali_HydroModel_gwlf_KGE`, to get a quick look at how a model is constructed.\n"
   ]
  },
  {
   "cell_type": "code",
   "execution_count": 4,
   "metadata": {},
   "outputs": [
    {
     "name": "stdout",
     "output_type": "stream",
     "text": [
      "C:\\Users\\CL\\Documents\\GitHub\\HydroCNHS\\tutorials\\Tutorial_1-Build_a_Semi-distributed_Hydrological_Model\\Cali_HydroModel_gwlf_KGE\\Best_HydroModel_gwlf_KGE.yaml\n",
      "[09/07 12:03:50] HydroCNHS.sc [INFO] Parsed model data summary:\n",
      "SimSeq\n",
      "  ['WSLO']\n",
      "RoutingOutlets\n",
      "  ['WSLO']\n",
      "DamAgents\n",
      "  None\n",
      "ConveyingAgents\n",
      "  None\n",
      "RiverDivAgents\n",
      "  None\n",
      "InsituAgents\n",
      "  None\n",
      "AgSimSeq\n",
      "  None\n"
     ]
    }
   ],
   "source": [
    "# Add model path\n",
    "model_path = os.path.join(\n",
    "    wd, \"Cali_HydroModel_gwlf_KGE\", \"Best_HydroModel_gwlf_KGE.yaml\"\n",
    "    )\n",
    "print(model_path)\n",
    "\n",
    "# Load the model\n",
    "model_dict = hydrocnhs.load_model(model_path)\n",
    "# Here we manually change the working directory in the model directory\n",
    "model_dict[\"Path\"][\"WD\"] = wd"
   ]
  },
  {
   "cell_type": "markdown",
   "metadata": {},
   "source": [
    "After `Best_HydroModel_gwlf_KGE.yaml` is loaded, a summary printout shows a single routing outlet, 'WSLO,' with no other agents listed.\n",
    "\n",
    "Now, we can apply `model_dict` to create a model object for the simulation."
   ]
  },
  {
   "cell_type": "code",
   "execution_count": 5,
   "metadata": {},
   "outputs": [
    {
     "name": "stdout",
     "output_type": "stream",
     "text": [
      "[09/07 12:03:50] HydroCNHS.sc [INFO] Parsed model data summary:\n",
      "SimSeq\n",
      "  ['WSLO']\n",
      "RoutingOutlets\n",
      "  ['WSLO']\n",
      "DamAgents\n",
      "  None\n",
      "ConveyingAgents\n",
      "  None\n",
      "RiverDivAgents\n",
      "  None\n",
      "InsituAgents\n",
      "  None\n",
      "AgSimSeq\n",
      "  None\n",
      "[09/07 12:03:50] HydroCNHS.dc [INFO] Add field Q_runoff (<class 'dict'>).\n",
      "[09/07 12:03:50] HydroCNHS.dc [INFO] Add field Q_routed (<class 'dict'>).\n",
      "[09/07 12:03:50] HydroCNHS.dc [INFO] Add field prec (<class 'dict'>).\n",
      "[09/07 12:03:50] HydroCNHS.dc [INFO] Add field temp (<class 'dict'>).\n",
      "[09/07 12:03:50] HydroCNHS.dc [INFO] Add field pet (<class 'dict'>).\n",
      "[09/07 12:03:50] HydroCNHS.dc [INFO] Add field UH_Lohmann (<class 'dict'>).\n",
      "[09/07 12:03:50] HydroCNHS.dc [INFO] Add field UH_Lohmann_convey (<class 'dict'>).\n"
     ]
    }
   ],
   "source": [
    "# Create the model object\n",
    "model = hydrocnhs.Model(model_dict)"
   ]
  },
  {
   "cell_type": "markdown",
   "metadata": {},
   "source": [
    "With that, we can start the simulation by calling `run` method with climate inputs as arguments."
   ]
  },
  {
   "cell_type": "code",
   "execution_count": 6,
   "metadata": {},
   "outputs": [
    {
     "name": "stdout",
     "output_type": "stream",
     "text": [
      "[09/07 12:03:50] HydroCNHS [INFO] Load temp & prec & pet with total length 12053.\n",
      "[09/07 12:03:50] HydroCNHS [INFO] Set rainfall-runoff to GWLF.\n",
      "[09/07 12:03:51] HydroCNHS [INFO] Complete rainfall-runoff simulation setup. [00:00:00]\n",
      "[09/07 12:03:51] HydroCNHS [INFO] Start forming 6 UHs for Lohmann routing. [00:00:00]\n",
      "[09/07 12:03:53] HydroCNHS [INFO] Complete forming UHs for Lohmann routing. [00:00:02]\n",
      "[09/07 12:03:53] HydroCNHS [INFO] Start a pure hydrological simulation (no human component).\n",
      "[09/07 12:03:55] HydroCNHS [INFO] \n",
      "Compute rainfall-runoffs for 12053 time steps.\n"
     ]
    },
    {
     "name": "stderr",
     "output_type": "stream",
     "text": [
      "12053it [00:00, 39096.06it/s]"
     ]
    },
    {
     "name": "stdout",
     "output_type": "stream",
     "text": [
      "\n",
      "[09/07 12:03:55] HydroCNHS [INFO] Complete HydroCNHS simulation! [00:00:04]\n",
      "\n",
      "                Hagg      DLLO       TRGC      DAIRY      RCTV       WSLO\n",
      "1981-01-01  2.526067  4.067260  12.838741  26.357862  5.005605  51.985477\n",
      "1981-02-01  4.960201  4.975534  15.321548  34.900794  8.212731  73.016122\n",
      "1981-03-01  1.547300  1.163473   2.473601   9.360561  1.253275  44.330615\n",
      "1981-04-01  1.720808  1.688222   4.057178  11.438015  1.174595  29.586883\n",
      "1981-05-01  0.335844  0.000063   0.000188   0.194160  0.000208   0.397095\n"
     ]
    },
    {
     "name": "stderr",
     "output_type": "stream",
     "text": [
      "\n"
     ]
    }
   ],
   "source": [
    "# Run a simulation.\n",
    "Q = model.run(temp, prec, pet)\n",
    "\n",
    "# Ture the output to a pandas DataFrame. Here, we resample the daily output to monthly.\n",
    "results = pd.DataFrame(Q, index=model.pd_date_index).resample(\"MS\").mean()\n",
    "print(results.head())"
   ]
  },
  {
   "cell_type": "markdown",
   "metadata": {},
   "source": [
    "Below, we compare the simulated discharge at WSLO (routing outlet) with the observation."
   ]
  },
  {
   "cell_type": "code",
   "execution_count": 7,
   "metadata": {},
   "outputs": [
    {
     "data": {
      "text/plain": [
       "<matplotlib.legend.Legend at 0x24644fdbb60>"
      ]
     },
     "execution_count": 7,
     "metadata": {},
     "output_type": "execute_result"
    },
    {
     "data": {
      "image/png": "[encoded data removed]",
      "text/plain": [
       "<Figure size 640x480 with 1 Axes>"
      ]
     },
     "metadata": {},
     "output_type": "display_data"
    }
   ],
   "source": [
    "import matplotlib.pyplot as plt\n",
    "\n",
    "# Load the observed flow data\n",
    "obv_flow_WSLO = pd.read_csv(\n",
    "    os.path.join(wd, \"Data\", \"WSLO_M_cms.csv\"), index_col=[\"Date\"], parse_dates=[\"Date\"]\n",
    ")\n",
    "\n",
    "# Plot\n",
    "fig, ax = plt.subplots()\n",
    "ax.plot(obv_flow_WSLO.index, obv_flow_WSLO.loc[:, \"WSLO\"], label=\"Obv\")\n",
    "ax.plot(obv_flow_WSLO.index, results[\"WSLO\"], ls=\"--\", label=\"Sim\")\n",
    "ax.set_ylabel(\"Discharge (cubic meters per second)\")\n",
    "ax.legend()"
   ]
  },
  {
   "cell_type": "markdown",
   "metadata": {},
   "source": [
    "## Construct a model\n",
    "\n",
    "Now, we have experience how to run a simulation using `HydroCNHS`. Next, we want to dive a little bit further to construct a model ourselves. \n",
    "\n",
    "To that, HydroCNHS includes a model builder designed to assist users in creating a draft `model.yaml` file.\n",
    "\n",
    "First, initialize a model builder object with a working directory. The instructions will then pop out to help you create a model file. You can recall the instructions by calling `mb.help()`."
   ]
  },
  {
   "cell_type": "code",
   "execution_count": 8,
   "metadata": {},
   "outputs": [
    {
     "name": "stdout",
     "output_type": "stream",
     "text": [
      "Follow the following steps to create model & ABM script templates:\n",
      "\tStep 1: set_water_system()\n",
      "\tStep 2: set_rainfall_runoff()\n",
      "\tStep 3: set_routing_outlet(), one at a time.\n",
      "\tStep 4: (optional) set_sediment().\n",
      "\tStep 5: (optional) add_sediment(), one at a time.\n",
      "\tStep 6: (optional) set_ABM().\n",
      "\tStep 7: (optional) add_agent().\n",
      "\tStep 8: (optional) add_institution().\n",
      "\tStep 9: write_model_to_yaml()\n",
      "\tStep 10: (optional) gen_ABM_script_template()\n",
      "Open the generated draft 'model.yaml' (& ABM module template) and further edit them.\n",
      "Use .help to re-print the above instructions.\n"
     ]
    }
   ],
   "source": [
    "# We reuse the working directory used above.\n",
    "mb = hydrocnhs.ModelBuilder(wd)"
   ]
  },
  {
   "cell_type": "markdown",
   "metadata": {},
   "source": [
    "Following the instructions, we first configure a water system by setting the simulation period, which includes the start and end dates."
   ]
  },
  {
   "cell_type": "code",
   "execution_count": 9,
   "metadata": {},
   "outputs": [],
   "source": [
    "mb.set_water_system(start_date=\"1981/1/1\", end_date=\"2013/12/31\")"
   ]
  },
  {
   "cell_type": "markdown",
   "metadata": {},
   "source": [
    "Then, we can add subbasins (i.e., `outlet_list`) to the model. We adopt the GWLF model as the rainfall-runoff model (i.e., `runoff_model`). We also assign the corresponding subbasins' areas (i.e., `area_list`) and latitudes (i.e., `lat_list`) using the information from Table 4. Note that `area_list` and `lat_list` are optional arguments. Users can manually enter this information into the `model.yaml` file.\n"
   ]
  },
  {
   "cell_type": "code",
   "execution_count": 10,
   "metadata": {},
   "outputs": [],
   "source": [
    "# outlet list includes all the outlets in the model, routing outlets and non-routing outlets.\n",
    "outlet_list = ['Hagg', 'DLLO', 'TRGC', 'DAIRY', 'RCTV', 'WSLO']\n",
    "area_list = [10034.2408, 22568.2404, 24044.6363, 59822.7546, 19682.6046, 47646.8477]\n",
    "lat_list = [45.469, 45.475, 45.502, 45.520, 45.502, 45.350]\n",
    "mb.set_rainfall_runoff(\n",
    "    outlet_list=outlet_list,area_list=area_list,\n",
    "    lat_list=lat_list, runoff_model=\"GWLF\"\n",
    "    )"
   ]
  },
  {
   "cell_type": "markdown",
   "metadata": {},
   "source": [
    "Next, we specify the routing outlet setting. Here, we only have one routing outlet, WSLO, hence, we only need to run the following code once, and all the outlets are considered upstream outlets of WSLO."
   ]
  },
  {
   "cell_type": "code",
   "execution_count": 11,
   "metadata": {},
   "outputs": [],
   "source": [
    "flow_length_list = [101469.139, 91813.075, 80064.864, 70988.164, 60398.680, 0] # km\n",
    "mb.set_routing_outlet(\n",
    "    routing_outlet=\"WSLO\",\n",
    "    upstream_outlet_list=outlet_list,\n",
    "    flow_length_list=flow_length_list\n",
    "    )"
   ]
  },
  {
   "cell_type": "markdown",
   "metadata": {},
   "source": [
    "Since we don't have any agents in this tutorial, we have done all the setup. We can print out the model for quick view and then write it to `model.yaml` file."
   ]
  },
  {
   "cell_type": "code",
   "execution_count": 12,
   "metadata": {},
   "outputs": [
    {
     "name": "stdout",
     "output_type": "stream",
     "text": [
      "Path\n",
      "  WD\n",
      "    C:\\Users\\CL\\Documents\\GitHub\\HydroCNHS\\tutorials\\Tutorial_1-Build_a_Semi-distributed_Hydrological_Model\n",
      "  Modules\n",
      "    \n",
      "WaterSystem\n",
      "  StartDate\n",
      "    1981/1/1\n",
      "  EndDate\n",
      "    2013/12/31\n",
      "  DataLength\n",
      "    12053\n",
      "  NumSubbasins\n",
      "    6\n",
      "  Outlets\n",
      "    ['Hagg', 'DLLO', 'TRGC', 'DAIRY', 'RCTV', 'WSLO']\n",
      "  NodeGroups\n",
      "    []\n",
      "  RainfallRunoff\n",
      "    GWLF\n",
      "  Routing\n",
      "    Lohmann\n",
      "  ABM\n",
      "    None\n",
      "RainfallRunoff\n",
      "  Hagg\n",
      "    Inputs\n",
      "      {'Area': 10034.2408, 'Latitude': 45.469, 'S0': 2, 'U0': 10, 'SnowS': 5}\n",
      "    Pars\n",
      "      {'CN2': -99, 'IS': -99, 'Res': -99, 'Sep': -99, 'Alpha': -99, 'Beta': -99, 'Ur': -99, 'Df': -99, 'Kc': -99}\n",
      "  DLLO\n",
      "    Inputs\n",
      "      {'Area': 22568.2404, 'Latitude': 45.475, 'S0': 2, 'U0': 10, 'SnowS': 5}\n",
      "    Pars\n",
      "      {'CN2': -99, 'IS': -99, 'Res': -99, 'Sep': -99, 'Alpha': -99, 'Beta': -99, 'Ur': -99, 'Df': -99, 'Kc': -99}\n",
      "  TRGC\n",
      "    Inputs\n",
      "      {'Area': 24044.6363, 'Latitude': 45.502, 'S0': 2, 'U0': 10, 'SnowS': 5}\n",
      "    Pars\n",
      "      {'CN2': -99, 'IS': -99, 'Res': -99, 'Sep': -99, 'Alpha': -99, 'Beta': -99, 'Ur': -99, 'Df': -99, 'Kc': -99}\n",
      "  DAIRY\n",
      "    Inputs\n",
      "      {'Area': 59822.7546, 'Latitude': 45.52, 'S0': 2, 'U0': 10, 'SnowS': 5}\n",
      "    Pars\n",
      "      {'CN2': -99, 'IS': -99, 'Res': -99, 'Sep': -99, 'Alpha': -99, 'Beta': -99, 'Ur': -99, 'Df': -99, 'Kc': -99}\n",
      "  RCTV\n",
      "    Inputs\n",
      "      {'Area': 19682.6046, 'Latitude': 45.502, 'S0': 2, 'U0': 10, 'SnowS': 5}\n",
      "    Pars\n",
      "      {'CN2': -99, 'IS': -99, 'Res': -99, 'Sep': -99, 'Alpha': -99, 'Beta': -99, 'Ur': -99, 'Df': -99, 'Kc': -99}\n",
      "  WSLO\n",
      "    Inputs\n",
      "      {'Area': 47646.8477, 'Latitude': 45.35, 'S0': 2, 'U0': 10, 'SnowS': 5}\n",
      "    Pars\n",
      "      {'CN2': -99, 'IS': -99, 'Res': -99, 'Sep': -99, 'Alpha': -99, 'Beta': -99, 'Ur': -99, 'Df': -99, 'Kc': -99}\n",
      "Routing\n",
      "  WSLO\n",
      "    Hagg\n",
      "      {'Inputs': {'FlowLength': 101469.139, 'InstreamControl': False}, 'Pars': {'GShape': -99, 'GScale': -99, 'Velo': -99, 'Diff': -99}}\n",
      "    DLLO\n",
      "      {'Inputs': {'FlowLength': 91813.075, 'InstreamControl': False}, 'Pars': {'GShape': -99, 'GScale': -99, 'Velo': -99, 'Diff': -99}}\n",
      "    TRGC\n",
      "      {'Inputs': {'FlowLength': 80064.864, 'InstreamControl': False}, 'Pars': {'GShape': -99, 'GScale': -99, 'Velo': -99, 'Diff': -99}}\n",
      "    DAIRY\n",
      "      {'Inputs': {'FlowLength': 70988.164, 'InstreamControl': False}, 'Pars': {'GShape': -99, 'GScale': -99, 'Velo': -99, 'Diff': -99}}\n",
      "    RCTV\n",
      "      {'Inputs': {'FlowLength': 60398.68, 'InstreamControl': False}, 'Pars': {'GShape': -99, 'GScale': -99, 'Velo': -99, 'Diff': -99}}\n",
      "    WSLO\n",
      "      {'Inputs': {'FlowLength': 0, 'InstreamControl': False}, 'Pars': {'GShape': -99, 'GScale': -99, 'Velo': None, 'Diff': None}}\n",
      "[09/07 12:27:18] HydroCNHS.sc [INFO] Model is saved at C:\\Users\\CL\\Documents\\GitHub\\HydroCNHS\\tutorials\\Tutorial_1-Build_a_Semi-distributed_Hydrological_Model\\model.yaml.\n",
      "Model configuration file (.yaml) have been save at C:\\Users\\CL\\Documents\\GitHub\\HydroCNHS\\tutorials\\Tutorial_1-Build_a_Semi-distributed_Hydrological_Model\\model.yaml. Please open the file and further edit it.\n"
     ]
    }
   ],
   "source": [
    "# Print the model in the console\n",
    "mb.print_model()\n",
    "\n",
    "# Output draft model configuration file (model.yaml)\n",
    "mb.write_model_to_yaml(filename=\"model.yaml\")"
   ]
  },
  {
   "cell_type": "markdown",
   "metadata": {},
   "source": [
    "## Model calibraion\n",
    "\n",
    "Before applying the draft `model.yaml` for calibration, we need to ensure the information is correct. \n",
    "\n",
    "The \"Inputs\" in the `LSM` and `Routing` sections should all be populated. Some default values may be used (e.g., `S0`, `U0`, and `SnowS`). They should be updated according to the user's needs. For this tutorial, no modifications are needed. You might notice that all the parameters have a value of `-99`. This is the default value in HydroCNHS, indicating that those values are subject to calibration if not provided by the user.\n",
    "\n",
    "Below, we provide a sample calibration code using genetic algorithm (GA) and Kling-Gupta efficiency (KGE) at WSLO as the objective. The calibration will take around 2 to 3 hours depending on your hardware.\n",
    "\n",
    "Note: By running the following code, the entire `Cali_HydroModel_gwlf_KGE` folder will be overwritten. "
   ]
  },
  {
   "cell_type": "code",
   "execution_count": 15,
   "metadata": {},
   "outputs": [
    {
     "name": "stdout",
     "output_type": "stream",
     "text": [
      "[09/07 12:47:25] HydroCNHS.sc [INFO] Parsed model data summary:\n",
      "SimSeq\n",
      "  ['WSLO']\n",
      "RoutingOutlets\n",
      "  ['WSLO']\n",
      "DamAgents\n",
      "  None\n",
      "ConveyingAgents\n",
      "  None\n",
      "RiverDivAgents\n",
      "  None\n",
      "InsituAgents\n",
      "  None\n",
      "AgSimSeq\n",
      "  None\n",
      "GA Calibration Guide\n",
      "Step 1: set or load (GA_auto_save.pickle).\n",
      "Step 2: run.\n",
      "[09/07 12:47:25] HydroCNHS.GA [INFO] User-provided random number generator is assigned.\n",
      "[09/07 12:47:25] HydroCNHS.GA [WARNING] Current calibration folder exists. Default to overwrite the folder!\n",
      "C:\\Users\\CL\\Documents\\GitHub\\HydroCNHS\\tutorials\\Tutorial_1-Build_a_Semi-distributed_Hydrological_Model\\Cali_HydroModel_gwlf_KGE\n"
     ]
    },
    {
     "name": "stderr",
     "output_type": "stream",
     "text": [
      "C:\\Users\\CL\\Documents\\GitHub\\HydroCNHS\\hydrocnhs\\util.py:266: FutureWarning: Setting an item of incompatible dtype is deprecated and will raise an error in a future version of pandas. Value '[25, 100]' has dtype incompatible with int64, please explicitly cast to a compatible dtype first.\n",
      "  df.loc[k, :] = str(v)\n",
      "C:\\Users\\CL\\Documents\\GitHub\\HydroCNHS\\hydrocnhs\\util.py:266: FutureWarning: Setting an item of incompatible dtype is deprecated and will raise an error in a future version of pandas. Value '[25, 100]' has dtype incompatible with int64, please explicitly cast to a compatible dtype first.\n",
      "  df.loc[k, :] = str(v)\n",
      "C:\\Users\\CL\\Documents\\GitHub\\HydroCNHS\\hydrocnhs\\util.py:266: FutureWarning: Setting an item of incompatible dtype is deprecated and will raise an error in a future version of pandas. Value '[25, 100]' has dtype incompatible with int64, please explicitly cast to a compatible dtype first.\n",
      "  df.loc[k, :] = str(v)\n",
      "C:\\Users\\CL\\Documents\\GitHub\\HydroCNHS\\hydrocnhs\\util.py:266: FutureWarning: Setting an item of incompatible dtype is deprecated and will raise an error in a future version of pandas. Value '[25, 100]' has dtype incompatible with int64, please explicitly cast to a compatible dtype first.\n",
      "  df.loc[k, :] = str(v)\n",
      "C:\\Users\\CL\\Documents\\GitHub\\HydroCNHS\\hydrocnhs\\util.py:266: FutureWarning: Setting an item of incompatible dtype is deprecated and will raise an error in a future version of pandas. Value '[25, 100]' has dtype incompatible with int64, please explicitly cast to a compatible dtype first.\n",
      "  df.loc[k, :] = str(v)\n",
      "C:\\Users\\CL\\Documents\\GitHub\\HydroCNHS\\hydrocnhs\\util.py:266: FutureWarning: Setting an item of incompatible dtype is deprecated and will raise an error in a future version of pandas. Value '[25, 100]' has dtype incompatible with int64, please explicitly cast to a compatible dtype first.\n",
      "  df.loc[k, :] = str(v)\n",
      "C:\\Users\\CL\\Documents\\GitHub\\HydroCNHS\\hydrocnhs\\util.py:272: FutureWarning: Setting an item of incompatible dtype is deprecated and will raise an error in a future version of pandas. Value '[1, 100]' has dtype incompatible with int64, please explicitly cast to a compatible dtype first.\n",
      "  df.loc[k, df.loc[k, :].isna() == False] = str(v)\n",
      "C:\\Users\\CL\\Documents\\GitHub\\HydroCNHS\\hydrocnhs\\util.py:272: FutureWarning: Setting an item of incompatible dtype is deprecated and will raise an error in a future version of pandas. Value '[1, 100]' has dtype incompatible with int64, please explicitly cast to a compatible dtype first.\n",
      "  df.loc[k, df.loc[k, :].isna() == False] = str(v)\n",
      "C:\\Users\\CL\\Documents\\GitHub\\HydroCNHS\\hydrocnhs\\util.py:272: FutureWarning: Setting an item of incompatible dtype is deprecated and will raise an error in a future version of pandas. Value '[1, 100]' has dtype incompatible with int64, please explicitly cast to a compatible dtype first.\n",
      "  df.loc[k, df.loc[k, :].isna() == False] = str(v)\n",
      "C:\\Users\\CL\\Documents\\GitHub\\HydroCNHS\\hydrocnhs\\util.py:272: FutureWarning: Setting an item of incompatible dtype is deprecated and will raise an error in a future version of pandas. Value '[1, 100]' has dtype incompatible with int64, please explicitly cast to a compatible dtype first.\n",
      "  df.loc[k, df.loc[k, :].isna() == False] = str(v)\n",
      "C:\\Users\\CL\\Documents\\GitHub\\HydroCNHS\\hydrocnhs\\util.py:272: FutureWarning: Setting an item of incompatible dtype is deprecated and will raise an error in a future version of pandas. Value '[1, 100]' has dtype incompatible with int64, please explicitly cast to a compatible dtype first.\n",
      "  df.loc[k, df.loc[k, :].isna() == False] = str(v)\n",
      "C:\\Users\\CL\\Documents\\GitHub\\HydroCNHS\\hydrocnhs\\util.py:272: FutureWarning: Setting an item of incompatible dtype is deprecated and will raise an error in a future version of pandas. Value '[1, 100]' has dtype incompatible with float64, please explicitly cast to a compatible dtype first.\n",
      "  df.loc[k, df.loc[k, :].isna() == False] = str(v)\n",
      "[Parallel(n_jobs=-1)]: Using backend LokyBackend with 12 concurrent workers.\n",
      "[Parallel(n_jobs=-1)]: Done  26 tasks      | elapsed:   22.3s\n",
      "[Parallel(n_jobs=-1)]: Done 100 out of 100 | elapsed:   57.2s finished\n"
     ]
    },
    {
     "name": "stdout",
     "output_type": "stream",
     "text": [
      "\n",
      "=====Generation 0=====\n",
      "  Elapsed time 00:00:57\n",
      "  Min -0.26206\n",
      "  Max -0.00039\n",
      "  Avg -0.06191\n",
      "  Std 0.04882\n"
     ]
    },
    {
     "name": "stderr",
     "output_type": "stream",
     "text": [
      "[Parallel(n_jobs=-1)]: Using backend LokyBackend with 12 concurrent workers.\n",
      "[Parallel(n_jobs=-1)]: Done  26 tasks      | elapsed:   17.4s\n",
      "[Parallel(n_jobs=-1)]: Done  99 out of  99 | elapsed:   54.7s finished\n"
     ]
    },
    {
     "name": "stdout",
     "output_type": "stream",
     "text": [
      "\n",
      "=====Generation 1=====\n",
      "  Elapsed time 00:01:52\n",
      "  Min -0.05012\n",
      "  Max -3e-05\n",
      "  Avg -0.00188\n",
      "  Std 0.00716\n"
     ]
    },
    {
     "name": "stderr",
     "output_type": "stream",
     "text": [
      "[Parallel(n_jobs=-1)]: Using backend LokyBackend with 12 concurrent workers.\n",
      "[Parallel(n_jobs=-1)]: Done  26 tasks      | elapsed:   14.7s\n",
      "[Parallel(n_jobs=-1)]: Done  99 out of  99 | elapsed:   46.1s finished\n"
     ]
    },
    {
     "name": "stdout",
     "output_type": "stream",
     "text": [
      "\n",
      "=====Generation 2=====\n",
      "  Elapsed time 00:02:38\n",
      "  Min -0.01405\n",
      "  Max -1e-05\n",
      "  Avg -0.00031\n",
      "  Std 0.00181\n"
     ]
    },
    {
     "name": "stderr",
     "output_type": "stream",
     "text": [
      "[Parallel(n_jobs=-1)]: Using backend LokyBackend with 12 concurrent workers.\n",
      "[Parallel(n_jobs=-1)]: Done  26 tasks      | elapsed:   17.9s\n",
      "[Parallel(n_jobs=-1)]: Done  99 out of  99 | elapsed:   48.5s finished\n"
     ]
    },
    {
     "name": "stdout",
     "output_type": "stream",
     "text": [
      "\n",
      "=====Generation 3=====\n",
      "  Elapsed time 00:03:27\n",
      "  Min -0.05057\n",
      "  Max -1e-05\n",
      "  Avg -0.00092\n",
      "  Std 0.00529\n"
     ]
    },
    {
     "name": "stderr",
     "output_type": "stream",
     "text": [
      "[Parallel(n_jobs=-1)]: Using backend LokyBackend with 12 concurrent workers.\n",
      "[Parallel(n_jobs=-1)]: Done  26 tasks      | elapsed:   15.2s\n",
      "[Parallel(n_jobs=-1)]: Done  99 out of  99 | elapsed:   45.6s finished\n"
     ]
    },
    {
     "name": "stdout",
     "output_type": "stream",
     "text": [
      "\n",
      "=====Generation 4=====\n",
      "  Elapsed time 00:04:13\n",
      "  Min -0.02953\n",
      "  Max -1e-05\n",
      "  Avg -0.00108\n",
      "  Std 0.0042\n"
     ]
    },
    {
     "name": "stderr",
     "output_type": "stream",
     "text": [
      "[Parallel(n_jobs=-1)]: Using backend LokyBackend with 12 concurrent workers.\n",
      "[Parallel(n_jobs=-1)]: Done  26 tasks      | elapsed:   14.9s\n",
      "[Parallel(n_jobs=-1)]: Done  99 out of  99 | elapsed:   44.7s finished\n"
     ]
    },
    {
     "name": "stdout",
     "output_type": "stream",
     "text": [
      "\n",
      "=====Generation 5=====\n",
      "  Elapsed time 00:04:58\n",
      "  Min -0.05368\n",
      "  Max -0.0\n",
      "  Avg -0.00075\n",
      "  Std 0.00539\n"
     ]
    },
    {
     "name": "stderr",
     "output_type": "stream",
     "text": [
      "[Parallel(n_jobs=-1)]: Using backend LokyBackend with 12 concurrent workers.\n",
      "[Parallel(n_jobs=-1)]: Done  26 tasks      | elapsed:   15.3s\n",
      "[Parallel(n_jobs=-1)]: Done  99 out of  99 | elapsed:   46.4s finished\n"
     ]
    },
    {
     "name": "stdout",
     "output_type": "stream",
     "text": [
      "\n",
      "=====Generation 6=====\n",
      "  Elapsed time 00:05:45\n",
      "  Min -0.034\n",
      "  Max -0.0\n",
      "  Avg -0.00158\n",
      "  Std 0.00607\n"
     ]
    },
    {
     "name": "stderr",
     "output_type": "stream",
     "text": [
      "[Parallel(n_jobs=-1)]: Using backend LokyBackend with 12 concurrent workers.\n",
      "[Parallel(n_jobs=-1)]: Done  26 tasks      | elapsed:   15.3s\n",
      "[Parallel(n_jobs=-1)]: Done  99 out of  99 | elapsed:   46.5s finished\n"
     ]
    },
    {
     "name": "stdout",
     "output_type": "stream",
     "text": [
      "\n",
      "=====Generation 7=====\n",
      "  Elapsed time 00:06:32\n",
      "  Min -0.0283\n",
      "  Max -0.0\n",
      "  Avg -0.00062\n",
      "  Std 0.00301\n"
     ]
    },
    {
     "name": "stderr",
     "output_type": "stream",
     "text": [
      "[Parallel(n_jobs=-1)]: Using backend LokyBackend with 12 concurrent workers.\n",
      "[Parallel(n_jobs=-1)]: Done  26 tasks      | elapsed:   15.2s\n",
      "[Parallel(n_jobs=-1)]: Done  99 out of  99 | elapsed:   46.5s finished\n"
     ]
    },
    {
     "name": "stdout",
     "output_type": "stream",
     "text": [
      "\n",
      "=====Generation 8=====\n",
      "  Elapsed time 00:07:19\n",
      "  Min -0.07037\n",
      "  Max -0.0\n",
      "  Avg -0.00142\n",
      "  Std 0.0077\n"
     ]
    },
    {
     "name": "stderr",
     "output_type": "stream",
     "text": [
      "[Parallel(n_jobs=-1)]: Using backend LokyBackend with 12 concurrent workers.\n",
      "[Parallel(n_jobs=-1)]: Done  26 tasks      | elapsed:   15.2s\n",
      "[Parallel(n_jobs=-1)]: Done  99 out of  99 | elapsed:   47.2s finished\n"
     ]
    },
    {
     "name": "stdout",
     "output_type": "stream",
     "text": [
      "\n",
      "=====Generation 9=====\n",
      "  Elapsed time 00:08:07\n",
      "  Min -0.02315\n",
      "  Max -0.0\n",
      "  Avg -0.00054\n",
      "  Std 0.00258\n"
     ]
    },
    {
     "name": "stderr",
     "output_type": "stream",
     "text": [
      "[Parallel(n_jobs=-1)]: Using backend LokyBackend with 12 concurrent workers.\n",
      "[Parallel(n_jobs=-1)]: Done  26 tasks      | elapsed:   15.4s\n",
      "[Parallel(n_jobs=-1)]: Done  99 out of  99 | elapsed:   46.1s finished\n"
     ]
    },
    {
     "name": "stdout",
     "output_type": "stream",
     "text": [
      "\n",
      "=====Generation 10=====\n",
      "  Elapsed time 00:08:53\n",
      "  Min -0.02634\n",
      "  Max -0.0\n",
      "  Avg -0.00028\n",
      "  Std 0.00262\n"
     ]
    },
    {
     "name": "stderr",
     "output_type": "stream",
     "text": [
      "[Parallel(n_jobs=-1)]: Using backend LokyBackend with 12 concurrent workers.\n",
      "[Parallel(n_jobs=-1)]: Done  26 tasks      | elapsed:   15.3s\n",
      "[Parallel(n_jobs=-1)]: Done  99 out of  99 | elapsed:   48.2s finished\n"
     ]
    },
    {
     "name": "stdout",
     "output_type": "stream",
     "text": [
      "\n",
      "=====Generation 11=====\n",
      "  Elapsed time 00:09:42\n",
      "  Min -0.04389\n",
      "  Max -0.0\n",
      "  Avg -0.00308\n",
      "  Std 0.00859\n"
     ]
    },
    {
     "name": "stderr",
     "output_type": "stream",
     "text": [
      "[Parallel(n_jobs=-1)]: Using backend LokyBackend with 12 concurrent workers.\n",
      "[Parallel(n_jobs=-1)]: Done  26 tasks      | elapsed:   15.4s\n",
      "[Parallel(n_jobs=-1)]: Done  99 out of  99 | elapsed:   46.8s finished\n"
     ]
    },
    {
     "name": "stdout",
     "output_type": "stream",
     "text": [
      "\n",
      "=====Generation 12=====\n",
      "  Elapsed time 00:10:29\n",
      "  Min -0.03428\n",
      "  Max -0.0\n",
      "  Avg -0.00204\n",
      "  Std 0.00626\n"
     ]
    },
    {
     "name": "stderr",
     "output_type": "stream",
     "text": [
      "[Parallel(n_jobs=-1)]: Using backend LokyBackend with 12 concurrent workers.\n",
      "[Parallel(n_jobs=-1)]: Done  26 tasks      | elapsed:   15.0s\n",
      "[Parallel(n_jobs=-1)]: Done  99 out of  99 | elapsed:   46.7s finished\n"
     ]
    },
    {
     "name": "stdout",
     "output_type": "stream",
     "text": [
      "\n",
      "=====Generation 13=====\n",
      "  Elapsed time 00:11:16\n",
      "  Min -0.05836\n",
      "  Max -0.0\n",
      "  Avg -0.00269\n",
      "  Std 0.00914\n"
     ]
    },
    {
     "name": "stderr",
     "output_type": "stream",
     "text": [
      "[Parallel(n_jobs=-1)]: Using backend LokyBackend with 12 concurrent workers.\n",
      "[Parallel(n_jobs=-1)]: Done  26 tasks      | elapsed:   14.9s\n",
      "[Parallel(n_jobs=-1)]: Done  99 out of  99 | elapsed:   46.1s finished\n"
     ]
    },
    {
     "name": "stdout",
     "output_type": "stream",
     "text": [
      "\n",
      "=====Generation 14=====\n",
      "  Elapsed time 00:12:03\n",
      "  Min -0.04239\n",
      "  Max -0.0\n",
      "  Avg -0.00177\n",
      "  Std 0.00647\n"
     ]
    },
    {
     "name": "stderr",
     "output_type": "stream",
     "text": [
      "[Parallel(n_jobs=-1)]: Using backend LokyBackend with 12 concurrent workers.\n",
      "[Parallel(n_jobs=-1)]: Done  26 tasks      | elapsed:   15.3s\n",
      "[Parallel(n_jobs=-1)]: Done  99 out of  99 | elapsed:   46.0s finished\n"
     ]
    },
    {
     "name": "stdout",
     "output_type": "stream",
     "text": [
      "\n",
      "=====Generation 15=====\n",
      "  Elapsed time 00:12:49\n",
      "  Min -0.07286\n",
      "  Max -0.0\n",
      "  Avg -0.0024\n",
      "  Std 0.00925\n"
     ]
    },
    {
     "name": "stderr",
     "output_type": "stream",
     "text": [
      "[Parallel(n_jobs=-1)]: Using backend LokyBackend with 12 concurrent workers.\n",
      "[Parallel(n_jobs=-1)]: Done  26 tasks      | elapsed:   15.5s\n",
      "[Parallel(n_jobs=-1)]: Done  99 out of  99 | elapsed:   47.8s finished\n"
     ]
    },
    {
     "name": "stdout",
     "output_type": "stream",
     "text": [
      "\n",
      "=====Generation 16=====\n",
      "  Elapsed time 00:13:38\n",
      "  Min -0.09547\n",
      "  Max -0.0\n",
      "  Avg -0.00338\n",
      "  Std 0.01224\n"
     ]
    },
    {
     "name": "stderr",
     "output_type": "stream",
     "text": [
      "[Parallel(n_jobs=-1)]: Using backend LokyBackend with 12 concurrent workers.\n",
      "[Parallel(n_jobs=-1)]: Done  26 tasks      | elapsed:   15.1s\n",
      "[Parallel(n_jobs=-1)]: Done  99 out of  99 | elapsed:   46.8s finished\n"
     ]
    },
    {
     "name": "stdout",
     "output_type": "stream",
     "text": [
      "\n",
      "=====Generation 17=====\n",
      "  Elapsed time 00:14:25\n",
      "  Min -0.0471\n",
      "  Max -0.0\n",
      "  Avg -0.00127\n",
      "  Std 0.00619\n"
     ]
    },
    {
     "name": "stderr",
     "output_type": "stream",
     "text": [
      "[Parallel(n_jobs=-1)]: Using backend LokyBackend with 12 concurrent workers.\n",
      "[Parallel(n_jobs=-1)]: Done  26 tasks      | elapsed:   14.9s\n",
      "[Parallel(n_jobs=-1)]: Done  99 out of  99 | elapsed:   45.7s finished\n"
     ]
    },
    {
     "name": "stdout",
     "output_type": "stream",
     "text": [
      "\n",
      "=====Generation 18=====\n",
      "  Elapsed time 00:15:11\n",
      "  Min -0.04669\n",
      "  Max -0.0\n",
      "  Avg -0.0011\n",
      "  Std 0.00554\n"
     ]
    },
    {
     "name": "stderr",
     "output_type": "stream",
     "text": [
      "[Parallel(n_jobs=-1)]: Using backend LokyBackend with 12 concurrent workers.\n",
      "[Parallel(n_jobs=-1)]: Done  26 tasks      | elapsed:   15.8s\n",
      "[Parallel(n_jobs=-1)]: Done  99 out of  99 | elapsed:   47.8s finished\n"
     ]
    },
    {
     "name": "stdout",
     "output_type": "stream",
     "text": [
      "\n",
      "=====Generation 19=====\n",
      "  Elapsed time 00:16:00\n",
      "  Min -0.09814\n",
      "  Max -0.0\n",
      "  Avg -0.00193\n",
      "  Std 0.01053\n"
     ]
    },
    {
     "name": "stderr",
     "output_type": "stream",
     "text": [
      "[Parallel(n_jobs=-1)]: Using backend LokyBackend with 12 concurrent workers.\n",
      "[Parallel(n_jobs=-1)]: Done  26 tasks      | elapsed:   16.2s\n",
      "[Parallel(n_jobs=-1)]: Done  99 out of  99 | elapsed:   50.1s finished\n"
     ]
    },
    {
     "name": "stdout",
     "output_type": "stream",
     "text": [
      "\n",
      "=====Generation 20=====\n",
      "  Elapsed time 00:16:50\n",
      "  Min -0.03513\n",
      "  Max -0.0\n",
      "  Avg -0.00086\n",
      "  Std 0.00461\n"
     ]
    },
    {
     "name": "stderr",
     "output_type": "stream",
     "text": [
      "[Parallel(n_jobs=-1)]: Using backend LokyBackend with 12 concurrent workers.\n",
      "[Parallel(n_jobs=-1)]: Done  26 tasks      | elapsed:   15.7s\n",
      "[Parallel(n_jobs=-1)]: Done  99 out of  99 | elapsed:   46.7s finished\n"
     ]
    },
    {
     "name": "stdout",
     "output_type": "stream",
     "text": [
      "\n",
      "=====Generation 21=====\n",
      "  Elapsed time 00:17:38\n",
      "  Min -0.03894\n",
      "  Max -0.0\n",
      "  Avg -0.00127\n",
      "  Std 0.00564\n"
     ]
    },
    {
     "name": "stderr",
     "output_type": "stream",
     "text": [
      "[Parallel(n_jobs=-1)]: Using backend LokyBackend with 12 concurrent workers.\n",
      "[Parallel(n_jobs=-1)]: Done  26 tasks      | elapsed:   15.6s\n",
      "[Parallel(n_jobs=-1)]: Done  99 out of  99 | elapsed:   47.1s finished\n"
     ]
    },
    {
     "name": "stdout",
     "output_type": "stream",
     "text": [
      "\n",
      "=====Generation 22=====\n",
      "  Elapsed time 00:18:25\n",
      "  Min -0.04324\n",
      "  Max -0.0\n",
      "  Avg -0.00105\n",
      "  Std 0.00505\n"
     ]
    },
    {
     "name": "stderr",
     "output_type": "stream",
     "text": [
      "[Parallel(n_jobs=-1)]: Using backend LokyBackend with 12 concurrent workers.\n",
      "[Parallel(n_jobs=-1)]: Done  26 tasks      | elapsed:   15.1s\n",
      "[Parallel(n_jobs=-1)]: Done  99 out of  99 | elapsed:   46.6s finished\n"
     ]
    },
    {
     "name": "stdout",
     "output_type": "stream",
     "text": [
      "\n",
      "=====Generation 23=====\n",
      "  Elapsed time 00:19:13\n",
      "  Min -0.10362\n",
      "  Max -0.0\n",
      "  Avg -0.00426\n",
      "  Std 0.01551\n"
     ]
    },
    {
     "name": "stderr",
     "output_type": "stream",
     "text": [
      "[Parallel(n_jobs=-1)]: Using backend LokyBackend with 12 concurrent workers.\n",
      "[Parallel(n_jobs=-1)]: Done  26 tasks      | elapsed:   15.7s\n",
      "[Parallel(n_jobs=-1)]: Done  99 out of  99 | elapsed:   48.8s finished\n"
     ]
    },
    {
     "name": "stdout",
     "output_type": "stream",
     "text": [
      "\n",
      "=====Generation 24=====\n",
      "  Elapsed time 00:20:02\n",
      "  Min -0.04593\n",
      "  Max -0.0\n",
      "  Avg -0.0017\n",
      "  Std 0.00644\n"
     ]
    },
    {
     "name": "stderr",
     "output_type": "stream",
     "text": [
      "[Parallel(n_jobs=-1)]: Using backend LokyBackend with 12 concurrent workers.\n",
      "[Parallel(n_jobs=-1)]: Done  26 tasks      | elapsed:   15.6s\n",
      "[Parallel(n_jobs=-1)]: Done  99 out of  99 | elapsed:   47.3s finished\n"
     ]
    },
    {
     "name": "stdout",
     "output_type": "stream",
     "text": [
      "\n",
      "=====Generation 25=====\n",
      "  Elapsed time 00:20:50\n",
      "  Min -0.05412\n",
      "  Max -0.0\n",
      "  Avg -0.00148\n",
      "  Std 0.00723\n"
     ]
    },
    {
     "name": "stderr",
     "output_type": "stream",
     "text": [
      "[Parallel(n_jobs=-1)]: Using backend LokyBackend with 12 concurrent workers.\n",
      "[Parallel(n_jobs=-1)]: Done  26 tasks      | elapsed:   15.4s\n",
      "[Parallel(n_jobs=-1)]: Done  99 out of  99 | elapsed:   47.2s finished\n"
     ]
    },
    {
     "name": "stdout",
     "output_type": "stream",
     "text": [
      "\n",
      "=====Generation 26=====\n",
      "  Elapsed time 00:21:38\n",
      "  Min -0.03413\n",
      "  Max -0.0\n",
      "  Avg -0.00086\n",
      "  Std 0.0039\n"
     ]
    },
    {
     "name": "stderr",
     "output_type": "stream",
     "text": [
      "[Parallel(n_jobs=-1)]: Using backend LokyBackend with 12 concurrent workers.\n",
      "[Parallel(n_jobs=-1)]: Done  26 tasks      | elapsed:   15.1s\n",
      "[Parallel(n_jobs=-1)]: Done  99 out of  99 | elapsed:   47.0s finished\n"
     ]
    },
    {
     "name": "stdout",
     "output_type": "stream",
     "text": [
      "\n",
      "=====Generation 27=====\n",
      "  Elapsed time 00:22:26\n",
      "  Min -0.0324\n",
      "  Max -0.0\n",
      "  Avg -0.001\n",
      "  Std 0.00455\n"
     ]
    },
    {
     "name": "stderr",
     "output_type": "stream",
     "text": [
      "[Parallel(n_jobs=-1)]: Using backend LokyBackend with 12 concurrent workers.\n",
      "[Parallel(n_jobs=-1)]: Done  26 tasks      | elapsed:   15.7s\n",
      "[Parallel(n_jobs=-1)]: Done  99 out of  99 | elapsed:   50.0s finished\n"
     ]
    },
    {
     "name": "stdout",
     "output_type": "stream",
     "text": [
      "\n",
      "=====Generation 28=====\n",
      "  Elapsed time 00:23:16\n",
      "  Min -0.09845\n",
      "  Max -0.0\n",
      "  Avg -0.00259\n",
      "  Std 0.01232\n"
     ]
    },
    {
     "name": "stderr",
     "output_type": "stream",
     "text": [
      "[Parallel(n_jobs=-1)]: Using backend LokyBackend with 12 concurrent workers.\n",
      "[Parallel(n_jobs=-1)]: Done  26 tasks      | elapsed:   16.6s\n",
      "[Parallel(n_jobs=-1)]: Done  99 out of  99 | elapsed:   49.3s finished\n"
     ]
    },
    {
     "name": "stdout",
     "output_type": "stream",
     "text": [
      "\n",
      "=====Generation 29=====\n",
      "  Elapsed time 00:24:06\n",
      "  Min -0.0483\n",
      "  Max -0.0\n",
      "  Avg -0.00203\n",
      "  Std 0.00804\n"
     ]
    },
    {
     "name": "stderr",
     "output_type": "stream",
     "text": [
      "[Parallel(n_jobs=-1)]: Using backend LokyBackend with 12 concurrent workers.\n",
      "[Parallel(n_jobs=-1)]: Done  26 tasks      | elapsed:   15.1s\n",
      "[Parallel(n_jobs=-1)]: Done  99 out of  99 | elapsed:   48.8s finished\n"
     ]
    },
    {
     "name": "stdout",
     "output_type": "stream",
     "text": [
      "\n",
      "=====Generation 30=====\n",
      "  Elapsed time 00:24:56\n",
      "  Min -0.03247\n",
      "  Max -0.0\n",
      "  Avg -0.00073\n",
      "  Std 0.00398\n"
     ]
    },
    {
     "name": "stderr",
     "output_type": "stream",
     "text": [
      "[Parallel(n_jobs=-1)]: Using backend LokyBackend with 12 concurrent workers.\n",
      "[Parallel(n_jobs=-1)]: Done  26 tasks      | elapsed:   21.0s\n",
      "[Parallel(n_jobs=-1)]: Done  99 out of  99 | elapsed:  1.2min finished\n"
     ]
    },
    {
     "name": "stdout",
     "output_type": "stream",
     "text": [
      "\n",
      "=====Generation 31=====\n",
      "  Elapsed time 00:26:09\n",
      "  Min -0.01883\n",
      "  Max -0.0\n",
      "  Avg -0.00071\n",
      "  Std 0.00268\n"
     ]
    },
    {
     "name": "stderr",
     "output_type": "stream",
     "text": [
      "[Parallel(n_jobs=-1)]: Using backend LokyBackend with 12 concurrent workers.\n",
      "[Parallel(n_jobs=-1)]: Done  26 tasks      | elapsed:   16.9s\n",
      "[Parallel(n_jobs=-1)]: Done  99 out of  99 | elapsed:   52.1s finished\n"
     ]
    },
    {
     "name": "stdout",
     "output_type": "stream",
     "text": [
      "\n",
      "=====Generation 32=====\n",
      "  Elapsed time 00:27:03\n",
      "  Min -0.05818\n",
      "  Max -0.0\n",
      "  Avg -0.00103\n",
      "  Std 0.00599\n"
     ]
    },
    {
     "name": "stderr",
     "output_type": "stream",
     "text": [
      "[Parallel(n_jobs=-1)]: Using backend LokyBackend with 12 concurrent workers.\n",
      "[Parallel(n_jobs=-1)]: Done  26 tasks      | elapsed:   16.0s\n",
      "[Parallel(n_jobs=-1)]: Done  99 out of  99 | elapsed:   51.0s finished\n"
     ]
    },
    {
     "name": "stdout",
     "output_type": "stream",
     "text": [
      "\n",
      "=====Generation 33=====\n",
      "  Elapsed time 00:27:55\n",
      "  Min -0.0853\n",
      "  Max -0.0\n",
      "  Avg -0.00324\n",
      "  Std 0.01103\n"
     ]
    },
    {
     "name": "stderr",
     "output_type": "stream",
     "text": [
      "[Parallel(n_jobs=-1)]: Using backend LokyBackend with 12 concurrent workers.\n",
      "[Parallel(n_jobs=-1)]: Done  26 tasks      | elapsed:   16.6s\n",
      "[Parallel(n_jobs=-1)]: Done  99 out of  99 | elapsed:   51.2s finished\n"
     ]
    },
    {
     "name": "stdout",
     "output_type": "stream",
     "text": [
      "\n",
      "=====Generation 34=====\n",
      "  Elapsed time 00:28:47\n",
      "  Min -0.03786\n",
      "  Max -0.0\n",
      "  Avg -0.00189\n",
      "  Std 0.00691\n"
     ]
    },
    {
     "name": "stderr",
     "output_type": "stream",
     "text": [
      "[Parallel(n_jobs=-1)]: Using backend LokyBackend with 12 concurrent workers.\n",
      "[Parallel(n_jobs=-1)]: Done  26 tasks      | elapsed:   16.4s\n",
      "[Parallel(n_jobs=-1)]: Done  99 out of  99 | elapsed:   56.3s finished\n"
     ]
    },
    {
     "name": "stdout",
     "output_type": "stream",
     "text": [
      "\n",
      "=====Generation 35=====\n",
      "  Elapsed time 00:29:45\n",
      "  Min -0.03915\n",
      "  Max -0.0\n",
      "  Avg -0.00091\n",
      "  Std 0.00456\n"
     ]
    },
    {
     "name": "stderr",
     "output_type": "stream",
     "text": [
      "[Parallel(n_jobs=-1)]: Using backend LokyBackend with 12 concurrent workers.\n",
      "[Parallel(n_jobs=-1)]: Done  26 tasks      | elapsed:   16.0s\n",
      "[Parallel(n_jobs=-1)]: Done  99 out of  99 | elapsed:   56.6s finished\n"
     ]
    },
    {
     "name": "stdout",
     "output_type": "stream",
     "text": [
      "\n",
      "=====Generation 36=====\n",
      "  Elapsed time 00:30:42\n",
      "  Min -0.0551\n",
      "  Max -0.0\n",
      "  Avg -0.00111\n",
      "  Std 0.00604\n"
     ]
    },
    {
     "name": "stderr",
     "output_type": "stream",
     "text": [
      "[Parallel(n_jobs=-1)]: Using backend LokyBackend with 12 concurrent workers.\n",
      "[Parallel(n_jobs=-1)]: Done  26 tasks      | elapsed:   22.0s\n",
      "[Parallel(n_jobs=-1)]: Done  99 out of  99 | elapsed:  1.2min finished\n"
     ]
    },
    {
     "name": "stdout",
     "output_type": "stream",
     "text": [
      "\n",
      "=====Generation 37=====\n",
      "  Elapsed time 00:31:55\n",
      "  Min -0.02529\n",
      "  Max -0.0\n",
      "  Avg -0.00133\n",
      "  Std 0.00446\n"
     ]
    },
    {
     "name": "stderr",
     "output_type": "stream",
     "text": [
      "[Parallel(n_jobs=-1)]: Using backend LokyBackend with 12 concurrent workers.\n",
      "[Parallel(n_jobs=-1)]: Done  26 tasks      | elapsed:   16.1s\n",
      "[Parallel(n_jobs=-1)]: Done  99 out of  99 | elapsed:   57.9s finished\n"
     ]
    },
    {
     "name": "stdout",
     "output_type": "stream",
     "text": [
      "\n",
      "=====Generation 38=====\n",
      "  Elapsed time 00:32:54\n",
      "  Min -0.06534\n",
      "  Max -0.0\n",
      "  Avg -0.00141\n",
      "  Std 0.00744\n"
     ]
    },
    {
     "name": "stderr",
     "output_type": "stream",
     "text": [
      "[Parallel(n_jobs=-1)]: Using backend LokyBackend with 12 concurrent workers.\n",
      "[Parallel(n_jobs=-1)]: Done  26 tasks      | elapsed:   22.5s\n",
      "[Parallel(n_jobs=-1)]: Done  99 out of  99 | elapsed:  1.2min finished\n"
     ]
    },
    {
     "name": "stdout",
     "output_type": "stream",
     "text": [
      "\n",
      "=====Generation 39=====\n",
      "  Elapsed time 00:34:08\n",
      "  Min -0.01592\n",
      "  Max -0.0\n",
      "  Avg -0.00024\n",
      "  Std 0.00163\n"
     ]
    },
    {
     "name": "stderr",
     "output_type": "stream",
     "text": [
      "[Parallel(n_jobs=-1)]: Using backend LokyBackend with 12 concurrent workers.\n",
      "[Parallel(n_jobs=-1)]: Done  26 tasks      | elapsed:   23.2s\n",
      "[Parallel(n_jobs=-1)]: Done  99 out of  99 | elapsed:  1.2min finished\n"
     ]
    },
    {
     "name": "stdout",
     "output_type": "stream",
     "text": [
      "\n",
      "=====Generation 40=====\n",
      "  Elapsed time 00:35:21\n",
      "  Min -0.04931\n",
      "  Max -0.0\n",
      "  Avg -0.00179\n",
      "  Std 0.00732\n"
     ]
    },
    {
     "name": "stderr",
     "output_type": "stream",
     "text": [
      "[Parallel(n_jobs=-1)]: Using backend LokyBackend with 12 concurrent workers.\n",
      "[Parallel(n_jobs=-1)]: Done  26 tasks      | elapsed:   16.2s\n",
      "[Parallel(n_jobs=-1)]: Done  99 out of  99 | elapsed:   59.0s finished\n"
     ]
    },
    {
     "name": "stdout",
     "output_type": "stream",
     "text": [
      "\n",
      "=====Generation 41=====\n",
      "  Elapsed time 00:36:22\n",
      "  Min -0.02446\n",
      "  Max -0.0\n",
      "  Avg -0.0006\n",
      "  Std 0.00286\n"
     ]
    },
    {
     "name": "stderr",
     "output_type": "stream",
     "text": [
      "[Parallel(n_jobs=-1)]: Using backend LokyBackend with 12 concurrent workers.\n",
      "[Parallel(n_jobs=-1)]: Done  26 tasks      | elapsed:   20.6s\n",
      "[Parallel(n_jobs=-1)]: Done  99 out of  99 | elapsed:   54.5s finished\n"
     ]
    },
    {
     "name": "stdout",
     "output_type": "stream",
     "text": [
      "\n",
      "=====Generation 42=====\n",
      "  Elapsed time 00:37:17\n",
      "  Min -0.01253\n",
      "  Max -0.0\n",
      "  Avg -0.00049\n",
      "  Std 0.00184\n"
     ]
    },
    {
     "name": "stderr",
     "output_type": "stream",
     "text": [
      "[Parallel(n_jobs=-1)]: Using backend LokyBackend with 12 concurrent workers.\n",
      "[Parallel(n_jobs=-1)]: Done  26 tasks      | elapsed:   17.0s\n",
      "[Parallel(n_jobs=-1)]: Done  99 out of  99 | elapsed:   55.3s finished\n"
     ]
    },
    {
     "name": "stdout",
     "output_type": "stream",
     "text": [
      "\n",
      "=====Generation 43=====\n",
      "  Elapsed time 00:38:14\n",
      "  Min -0.00611\n",
      "  Max -0.0\n",
      "  Avg -0.0001\n",
      "  Std 0.00064\n"
     ]
    },
    {
     "name": "stderr",
     "output_type": "stream",
     "text": [
      "[Parallel(n_jobs=-1)]: Using backend LokyBackend with 12 concurrent workers.\n",
      "[Parallel(n_jobs=-1)]: Done  26 tasks      | elapsed:   15.9s\n",
      "[Parallel(n_jobs=-1)]: Done  99 out of  99 | elapsed:   49.5s finished\n"
     ]
    },
    {
     "name": "stdout",
     "output_type": "stream",
     "text": [
      "\n",
      "=====Generation 44=====\n",
      "  Elapsed time 00:39:05\n",
      "  Min -0.04183\n",
      "  Max -0.0\n",
      "  Avg -0.00113\n",
      "  Std 0.00532\n"
     ]
    },
    {
     "name": "stderr",
     "output_type": "stream",
     "text": [
      "[Parallel(n_jobs=-1)]: Using backend LokyBackend with 12 concurrent workers.\n",
      "[Parallel(n_jobs=-1)]: Done  26 tasks      | elapsed:   16.2s\n",
      "[Parallel(n_jobs=-1)]: Done  99 out of  99 | elapsed:   49.4s finished\n"
     ]
    },
    {
     "name": "stdout",
     "output_type": "stream",
     "text": [
      "\n",
      "=====Generation 45=====\n",
      "  Elapsed time 00:39:56\n",
      "  Min -0.03145\n",
      "  Max -0.0\n",
      "  Avg -0.00083\n",
      "  Std 0.00412\n"
     ]
    },
    {
     "name": "stderr",
     "output_type": "stream",
     "text": [
      "[Parallel(n_jobs=-1)]: Using backend LokyBackend with 12 concurrent workers.\n",
      "[Parallel(n_jobs=-1)]: Done  26 tasks      | elapsed:   16.5s\n",
      "[Parallel(n_jobs=-1)]: Done  99 out of  99 | elapsed:   49.8s finished\n"
     ]
    },
    {
     "name": "stdout",
     "output_type": "stream",
     "text": [
      "\n",
      "=====Generation 46=====\n",
      "  Elapsed time 00:40:47\n",
      "  Min -0.01504\n",
      "  Max -0.0\n",
      "  Avg -0.00047\n",
      "  Std 0.00191\n"
     ]
    },
    {
     "name": "stderr",
     "output_type": "stream",
     "text": [
      "[Parallel(n_jobs=-1)]: Using backend LokyBackend with 12 concurrent workers.\n",
      "[Parallel(n_jobs=-1)]: Done  26 tasks      | elapsed:   16.8s\n",
      "[Parallel(n_jobs=-1)]: Done  99 out of  99 | elapsed:   50.9s finished\n"
     ]
    },
    {
     "name": "stdout",
     "output_type": "stream",
     "text": [
      "\n",
      "=====Generation 47=====\n",
      "  Elapsed time 00:41:39\n",
      "  Min -0.03314\n",
      "  Max -0.0\n",
      "  Avg -0.0017\n",
      "  Std 0.00576\n"
     ]
    },
    {
     "name": "stderr",
     "output_type": "stream",
     "text": [
      "[Parallel(n_jobs=-1)]: Using backend LokyBackend with 12 concurrent workers.\n",
      "[Parallel(n_jobs=-1)]: Done  26 tasks      | elapsed:   15.7s\n",
      "[Parallel(n_jobs=-1)]: Done  99 out of  99 | elapsed:   49.7s finished\n"
     ]
    },
    {
     "name": "stdout",
     "output_type": "stream",
     "text": [
      "\n",
      "=====Generation 48=====\n",
      "  Elapsed time 00:42:30\n",
      "  Min -0.03556\n",
      "  Max -0.0\n",
      "  Avg -0.00079\n",
      "  Std 0.00426\n"
     ]
    },
    {
     "name": "stderr",
     "output_type": "stream",
     "text": [
      "[Parallel(n_jobs=-1)]: Using backend LokyBackend with 12 concurrent workers.\n",
      "[Parallel(n_jobs=-1)]: Done  26 tasks      | elapsed:   15.7s\n",
      "[Parallel(n_jobs=-1)]: Done  99 out of  99 | elapsed:   49.0s finished\n"
     ]
    },
    {
     "name": "stdout",
     "output_type": "stream",
     "text": [
      "\n",
      "=====Generation 49=====\n",
      "  Elapsed time 00:43:20\n",
      "  Min -0.01866\n",
      "  Max -0.0\n",
      "  Avg -0.00034\n",
      "  Std 0.00208\n"
     ]
    },
    {
     "name": "stderr",
     "output_type": "stream",
     "text": [
      "[Parallel(n_jobs=-1)]: Using backend LokyBackend with 12 concurrent workers.\n",
      "[Parallel(n_jobs=-1)]: Done  26 tasks      | elapsed:   16.0s\n",
      "[Parallel(n_jobs=-1)]: Done  99 out of  99 | elapsed:   51.4s finished\n"
     ]
    },
    {
     "name": "stdout",
     "output_type": "stream",
     "text": [
      "\n",
      "=====Generation 50=====\n",
      "  Elapsed time 00:44:12\n",
      "  Min -0.09575\n",
      "  Max -0.0\n",
      "  Avg -0.00163\n",
      "  Std 0.01123\n"
     ]
    },
    {
     "name": "stderr",
     "output_type": "stream",
     "text": [
      "[Parallel(n_jobs=-1)]: Using backend LokyBackend with 12 concurrent workers.\n",
      "[Parallel(n_jobs=-1)]: Done  26 tasks      | elapsed:   16.5s\n",
      "[Parallel(n_jobs=-1)]: Done  99 out of  99 | elapsed:   49.5s finished\n"
     ]
    },
    {
     "name": "stdout",
     "output_type": "stream",
     "text": [
      "\n",
      "=====Generation 51=====\n",
      "  Elapsed time 00:45:04\n",
      "  Min -0.08642\n",
      "  Max -0.0\n",
      "  Avg -0.00251\n",
      "  Std 0.01048\n"
     ]
    },
    {
     "name": "stderr",
     "output_type": "stream",
     "text": [
      "[Parallel(n_jobs=-1)]: Using backend LokyBackend with 12 concurrent workers.\n",
      "[Parallel(n_jobs=-1)]: Done  26 tasks      | elapsed:   16.0s\n",
      "[Parallel(n_jobs=-1)]: Done  99 out of  99 | elapsed:   51.0s finished\n"
     ]
    },
    {
     "name": "stdout",
     "output_type": "stream",
     "text": [
      "\n",
      "=====Generation 52=====\n",
      "  Elapsed time 00:45:56\n",
      "  Min -0.02917\n",
      "  Max -0.0\n",
      "  Avg -0.00067\n",
      "  Std 0.00344\n"
     ]
    },
    {
     "name": "stderr",
     "output_type": "stream",
     "text": [
      "[Parallel(n_jobs=-1)]: Using backend LokyBackend with 12 concurrent workers.\n",
      "[Parallel(n_jobs=-1)]: Done  26 tasks      | elapsed:   16.4s\n",
      "[Parallel(n_jobs=-1)]: Done  99 out of  99 | elapsed:   54.7s finished\n"
     ]
    },
    {
     "name": "stdout",
     "output_type": "stream",
     "text": [
      "\n",
      "=====Generation 53=====\n",
      "  Elapsed time 00:46:52\n",
      "  Min -0.00486\n",
      "  Max -0.0\n",
      "  Avg -0.00012\n",
      "  Std 0.0006\n"
     ]
    },
    {
     "name": "stderr",
     "output_type": "stream",
     "text": [
      "[Parallel(n_jobs=-1)]: Using backend LokyBackend with 12 concurrent workers.\n",
      "[Parallel(n_jobs=-1)]: Done  26 tasks      | elapsed:   16.9s\n",
      "[Parallel(n_jobs=-1)]: Done  99 out of  99 | elapsed:   49.6s finished\n"
     ]
    },
    {
     "name": "stdout",
     "output_type": "stream",
     "text": [
      "\n",
      "=====Generation 54=====\n",
      "  Elapsed time 00:47:43\n",
      "  Min -0.02795\n",
      "  Max -0.0\n",
      "  Avg -0.00098\n",
      "  Std 0.0038\n"
     ]
    },
    {
     "name": "stderr",
     "output_type": "stream",
     "text": [
      "[Parallel(n_jobs=-1)]: Using backend LokyBackend with 12 concurrent workers.\n",
      "[Parallel(n_jobs=-1)]: Done  26 tasks      | elapsed:   15.8s\n",
      "[Parallel(n_jobs=-1)]: Done  99 out of  99 | elapsed:   48.7s finished\n"
     ]
    },
    {
     "name": "stdout",
     "output_type": "stream",
     "text": [
      "\n",
      "=====Generation 55=====\n",
      "  Elapsed time 00:48:33\n",
      "  Min -0.03329\n",
      "  Max -0.0\n",
      "  Avg -0.00122\n",
      "  Std 0.00518\n"
     ]
    },
    {
     "name": "stderr",
     "output_type": "stream",
     "text": [
      "[Parallel(n_jobs=-1)]: Using backend LokyBackend with 12 concurrent workers.\n",
      "[Parallel(n_jobs=-1)]: Done  26 tasks      | elapsed:   15.6s\n",
      "[Parallel(n_jobs=-1)]: Done  99 out of  99 | elapsed:   48.2s finished\n"
     ]
    },
    {
     "name": "stdout",
     "output_type": "stream",
     "text": [
      "\n",
      "=====Generation 56=====\n",
      "  Elapsed time 00:49:23\n",
      "  Min -0.05672\n",
      "  Max -0.0\n",
      "  Avg -0.00157\n",
      "  Std 0.00766\n"
     ]
    },
    {
     "name": "stderr",
     "output_type": "stream",
     "text": [
      "[Parallel(n_jobs=-1)]: Using backend LokyBackend with 12 concurrent workers.\n",
      "[Parallel(n_jobs=-1)]: Done  26 tasks      | elapsed:   16.8s\n",
      "[Parallel(n_jobs=-1)]: Done  99 out of  99 | elapsed:   51.2s finished\n"
     ]
    },
    {
     "name": "stdout",
     "output_type": "stream",
     "text": [
      "\n",
      "=====Generation 57=====\n",
      "  Elapsed time 00:50:15\n",
      "  Min -0.02202\n",
      "  Max -0.0\n",
      "  Avg -0.00061\n",
      "  Std 0.00264\n"
     ]
    },
    {
     "name": "stderr",
     "output_type": "stream",
     "text": [
      "[Parallel(n_jobs=-1)]: Using backend LokyBackend with 12 concurrent workers.\n",
      "[Parallel(n_jobs=-1)]: Done  26 tasks      | elapsed:   16.6s\n",
      "[Parallel(n_jobs=-1)]: Done  99 out of  99 | elapsed:   51.5s finished\n"
     ]
    },
    {
     "name": "stdout",
     "output_type": "stream",
     "text": [
      "\n",
      "=====Generation 58=====\n",
      "  Elapsed time 00:51:08\n",
      "  Min -0.04439\n",
      "  Max -0.0\n",
      "  Avg -0.00237\n",
      "  Std 0.00801\n"
     ]
    },
    {
     "name": "stderr",
     "output_type": "stream",
     "text": [
      "[Parallel(n_jobs=-1)]: Using backend LokyBackend with 12 concurrent workers.\n",
      "[Parallel(n_jobs=-1)]: Done  26 tasks      | elapsed:   15.8s\n",
      "[Parallel(n_jobs=-1)]: Done  99 out of  99 | elapsed:   48.0s finished\n"
     ]
    },
    {
     "name": "stdout",
     "output_type": "stream",
     "text": [
      "\n",
      "=====Generation 59=====\n",
      "  Elapsed time 00:51:58\n",
      "  Min -0.08251\n",
      "  Max -0.0\n",
      "  Avg -0.00392\n",
      "  Std 0.01326\n"
     ]
    },
    {
     "name": "stderr",
     "output_type": "stream",
     "text": [
      "[Parallel(n_jobs=-1)]: Using backend LokyBackend with 12 concurrent workers.\n",
      "[Parallel(n_jobs=-1)]: Done  26 tasks      | elapsed:   15.8s\n",
      "[Parallel(n_jobs=-1)]: Done  99 out of  99 | elapsed:   49.5s finished\n"
     ]
    },
    {
     "name": "stdout",
     "output_type": "stream",
     "text": [
      "\n",
      "=====Generation 60=====\n",
      "  Elapsed time 00:52:49\n",
      "  Min -0.02028\n",
      "  Max -0.0\n",
      "  Avg -0.00086\n",
      "  Std 0.00344\n"
     ]
    },
    {
     "name": "stderr",
     "output_type": "stream",
     "text": [
      "[Parallel(n_jobs=-1)]: Using backend LokyBackend with 12 concurrent workers.\n",
      "[Parallel(n_jobs=-1)]: Done  26 tasks      | elapsed:   16.5s\n",
      "[Parallel(n_jobs=-1)]: Done  99 out of  99 | elapsed:   50.7s finished\n"
     ]
    },
    {
     "name": "stdout",
     "output_type": "stream",
     "text": [
      "\n",
      "=====Generation 61=====\n",
      "  Elapsed time 00:53:41\n",
      "  Min -0.02956\n",
      "  Max -0.0\n",
      "  Avg -0.0009\n",
      "  Std 0.00409\n"
     ]
    },
    {
     "name": "stderr",
     "output_type": "stream",
     "text": [
      "[Parallel(n_jobs=-1)]: Using backend LokyBackend with 12 concurrent workers.\n",
      "[Parallel(n_jobs=-1)]: Done  26 tasks      | elapsed:   16.5s\n",
      "[Parallel(n_jobs=-1)]: Done  99 out of  99 | elapsed:   51.1s finished\n"
     ]
    },
    {
     "name": "stdout",
     "output_type": "stream",
     "text": [
      "\n",
      "=====Generation 62=====\n",
      "  Elapsed time 00:54:34\n",
      "  Min -0.06219\n",
      "  Max -0.0\n",
      "  Avg -0.00119\n",
      "  Std 0.00672\n"
     ]
    },
    {
     "name": "stderr",
     "output_type": "stream",
     "text": [
      "[Parallel(n_jobs=-1)]: Using backend LokyBackend with 12 concurrent workers.\n",
      "[Parallel(n_jobs=-1)]: Done  26 tasks      | elapsed:   15.9s\n",
      "[Parallel(n_jobs=-1)]: Done  99 out of  99 | elapsed:   48.2s finished\n"
     ]
    },
    {
     "name": "stdout",
     "output_type": "stream",
     "text": [
      "\n",
      "=====Generation 63=====\n",
      "  Elapsed time 00:55:23\n",
      "  Min -0.0702\n",
      "  Max -0.0\n",
      "  Avg -0.00239\n",
      "  Std 0.00948\n"
     ]
    },
    {
     "name": "stderr",
     "output_type": "stream",
     "text": [
      "[Parallel(n_jobs=-1)]: Using backend LokyBackend with 12 concurrent workers.\n",
      "[Parallel(n_jobs=-1)]: Done  26 tasks      | elapsed:   15.7s\n",
      "[Parallel(n_jobs=-1)]: Done  99 out of  99 | elapsed:   49.6s finished\n"
     ]
    },
    {
     "name": "stdout",
     "output_type": "stream",
     "text": [
      "\n",
      "=====Generation 64=====\n",
      "  Elapsed time 00:56:14\n",
      "  Min -0.02519\n",
      "  Max -0.0\n",
      "  Avg -0.0012\n",
      "  Std 0.00429\n"
     ]
    },
    {
     "name": "stderr",
     "output_type": "stream",
     "text": [
      "[Parallel(n_jobs=-1)]: Using backend LokyBackend with 12 concurrent workers.\n",
      "[Parallel(n_jobs=-1)]: Done  26 tasks      | elapsed:   17.0s\n",
      "[Parallel(n_jobs=-1)]: Done  99 out of  99 | elapsed:   51.0s finished\n"
     ]
    },
    {
     "name": "stdout",
     "output_type": "stream",
     "text": [
      "\n",
      "=====Generation 65=====\n",
      "  Elapsed time 00:57:07\n",
      "  Min -0.03289\n",
      "  Max -0.0\n",
      "  Avg -0.00113\n",
      "  Std 0.00455\n"
     ]
    },
    {
     "name": "stderr",
     "output_type": "stream",
     "text": [
      "[Parallel(n_jobs=-1)]: Using backend LokyBackend with 12 concurrent workers.\n",
      "[Parallel(n_jobs=-1)]: Done  26 tasks      | elapsed:   15.6s\n",
      "[Parallel(n_jobs=-1)]: Done  99 out of  99 | elapsed:   48.1s finished\n"
     ]
    },
    {
     "name": "stdout",
     "output_type": "stream",
     "text": [
      "\n",
      "=====Generation 66=====\n",
      "  Elapsed time 00:57:56\n",
      "  Min -0.01661\n",
      "  Max -0.0\n",
      "  Avg -0.00044\n",
      "  Std 0.00213\n"
     ]
    },
    {
     "name": "stderr",
     "output_type": "stream",
     "text": [
      "[Parallel(n_jobs=-1)]: Using backend LokyBackend with 12 concurrent workers.\n",
      "[Parallel(n_jobs=-1)]: Done  26 tasks      | elapsed:   15.5s\n",
      "[Parallel(n_jobs=-1)]: Done  99 out of  99 | elapsed:   47.7s finished\n"
     ]
    },
    {
     "name": "stdout",
     "output_type": "stream",
     "text": [
      "\n",
      "=====Generation 67=====\n",
      "  Elapsed time 00:58:46\n",
      "  Min -0.03105\n",
      "  Max -0.0\n",
      "  Avg -0.00087\n",
      "  Std 0.00383\n"
     ]
    },
    {
     "name": "stderr",
     "output_type": "stream",
     "text": [
      "[Parallel(n_jobs=-1)]: Using backend LokyBackend with 12 concurrent workers.\n",
      "[Parallel(n_jobs=-1)]: Done  26 tasks      | elapsed:   15.6s\n",
      "[Parallel(n_jobs=-1)]: Done  99 out of  99 | elapsed:   48.3s finished\n"
     ]
    },
    {
     "name": "stdout",
     "output_type": "stream",
     "text": [
      "\n",
      "=====Generation 68=====\n",
      "  Elapsed time 00:59:36\n",
      "  Min -0.02234\n",
      "  Max -0.0\n",
      "  Avg -0.00048\n",
      "  Std 0.00267\n"
     ]
    },
    {
     "name": "stderr",
     "output_type": "stream",
     "text": [
      "[Parallel(n_jobs=-1)]: Using backend LokyBackend with 12 concurrent workers.\n",
      "[Parallel(n_jobs=-1)]: Done  26 tasks      | elapsed:   16.6s\n",
      "[Parallel(n_jobs=-1)]: Done  99 out of  99 | elapsed:   51.6s finished\n"
     ]
    },
    {
     "name": "stdout",
     "output_type": "stream",
     "text": [
      "\n",
      "=====Generation 69=====\n",
      "  Elapsed time 01:00:29\n",
      "  Min -0.01154\n",
      "  Max -0.0\n",
      "  Avg -0.00027\n",
      "  Std 0.00149\n"
     ]
    },
    {
     "name": "stderr",
     "output_type": "stream",
     "text": [
      "[Parallel(n_jobs=-1)]: Using backend LokyBackend with 12 concurrent workers.\n",
      "[Parallel(n_jobs=-1)]: Done  26 tasks      | elapsed:   16.5s\n",
      "[Parallel(n_jobs=-1)]: Done  99 out of  99 | elapsed:   51.2s finished\n"
     ]
    },
    {
     "name": "stdout",
     "output_type": "stream",
     "text": [
      "\n",
      "=====Generation 70=====\n",
      "  Elapsed time 01:01:22\n",
      "  Min -0.03319\n",
      "  Max -0.0\n",
      "  Avg -0.00141\n",
      "  Std 0.00541\n"
     ]
    },
    {
     "name": "stderr",
     "output_type": "stream",
     "text": [
      "[Parallel(n_jobs=-1)]: Using backend LokyBackend with 12 concurrent workers.\n",
      "[Parallel(n_jobs=-1)]: Done  26 tasks      | elapsed:   16.5s\n",
      "[Parallel(n_jobs=-1)]: Done  99 out of  99 | elapsed:   49.2s finished\n"
     ]
    },
    {
     "name": "stdout",
     "output_type": "stream",
     "text": [
      "\n",
      "=====Generation 71=====\n",
      "  Elapsed time 01:02:13\n",
      "  Min -0.06306\n",
      "  Max -0.0\n",
      "  Avg -0.00185\n",
      "  Std 0.00932\n"
     ]
    },
    {
     "name": "stderr",
     "output_type": "stream",
     "text": [
      "[Parallel(n_jobs=-1)]: Using backend LokyBackend with 12 concurrent workers.\n",
      "[Parallel(n_jobs=-1)]: Done  26 tasks      | elapsed:   15.7s\n",
      "[Parallel(n_jobs=-1)]: Done  99 out of  99 | elapsed:   48.2s finished\n"
     ]
    },
    {
     "name": "stdout",
     "output_type": "stream",
     "text": [
      "\n",
      "=====Generation 72=====\n",
      "  Elapsed time 01:03:03\n",
      "  Min -0.03659\n",
      "  Max -0.0\n",
      "  Avg -0.00142\n",
      "  Std 0.00595\n"
     ]
    },
    {
     "name": "stderr",
     "output_type": "stream",
     "text": [
      "[Parallel(n_jobs=-1)]: Using backend LokyBackend with 12 concurrent workers.\n",
      "[Parallel(n_jobs=-1)]: Done  26 tasks      | elapsed:   15.5s\n",
      "[Parallel(n_jobs=-1)]: Done  99 out of  99 | elapsed:   49.9s finished\n"
     ]
    },
    {
     "name": "stdout",
     "output_type": "stream",
     "text": [
      "\n",
      "=====Generation 73=====\n",
      "  Elapsed time 01:03:55\n",
      "  Min -0.03119\n",
      "  Max -0.0\n",
      "  Avg -0.00162\n",
      "  Std 0.00529\n"
     ]
    },
    {
     "name": "stderr",
     "output_type": "stream",
     "text": [
      "[Parallel(n_jobs=-1)]: Using backend LokyBackend with 12 concurrent workers.\n",
      "[Parallel(n_jobs=-1)]: Done  26 tasks      | elapsed:   16.8s\n",
      "[Parallel(n_jobs=-1)]: Done  99 out of  99 | elapsed:   51.5s finished\n"
     ]
    },
    {
     "name": "stdout",
     "output_type": "stream",
     "text": [
      "\n",
      "=====Generation 74=====\n",
      "  Elapsed time 01:04:48\n",
      "  Min -0.03333\n",
      "  Max -0.0\n",
      "  Avg -0.00062\n",
      "  Std 0.00366\n"
     ]
    },
    {
     "name": "stderr",
     "output_type": "stream",
     "text": [
      "[Parallel(n_jobs=-1)]: Using backend LokyBackend with 12 concurrent workers.\n",
      "[Parallel(n_jobs=-1)]: Done  26 tasks      | elapsed:   15.9s\n",
      "[Parallel(n_jobs=-1)]: Done  99 out of  99 | elapsed:   48.5s finished\n"
     ]
    },
    {
     "name": "stdout",
     "output_type": "stream",
     "text": [
      "\n",
      "=====Generation 75=====\n",
      "  Elapsed time 01:05:38\n",
      "  Min -0.04915\n",
      "  Max -0.0\n",
      "  Avg -0.00176\n",
      "  Std 0.00652\n"
     ]
    },
    {
     "name": "stderr",
     "output_type": "stream",
     "text": [
      "[Parallel(n_jobs=-1)]: Using backend LokyBackend with 12 concurrent workers.\n",
      "[Parallel(n_jobs=-1)]: Done  26 tasks      | elapsed:   15.7s\n",
      "[Parallel(n_jobs=-1)]: Done  99 out of  99 | elapsed:   48.8s finished\n"
     ]
    },
    {
     "name": "stdout",
     "output_type": "stream",
     "text": [
      "\n",
      "=====Generation 76=====\n",
      "  Elapsed time 01:06:29\n",
      "  Min -0.02737\n",
      "  Max -0.0\n",
      "  Avg -0.00129\n",
      "  Std 0.00471\n"
     ]
    },
    {
     "name": "stderr",
     "output_type": "stream",
     "text": [
      "[Parallel(n_jobs=-1)]: Using backend LokyBackend with 12 concurrent workers.\n",
      "[Parallel(n_jobs=-1)]: Done  26 tasks      | elapsed:   16.7s\n",
      "[Parallel(n_jobs=-1)]: Done  99 out of  99 | elapsed:   51.5s finished\n"
     ]
    },
    {
     "name": "stdout",
     "output_type": "stream",
     "text": [
      "\n",
      "=====Generation 77=====\n",
      "  Elapsed time 01:07:22\n",
      "  Min -0.02293\n",
      "  Max -0.0\n",
      "  Avg -0.0009\n",
      "  Std 0.00347\n"
     ]
    },
    {
     "name": "stderr",
     "output_type": "stream",
     "text": [
      "[Parallel(n_jobs=-1)]: Using backend LokyBackend with 12 concurrent workers.\n",
      "[Parallel(n_jobs=-1)]: Done  26 tasks      | elapsed:   16.4s\n",
      "[Parallel(n_jobs=-1)]: Done  99 out of  99 | elapsed:   49.7s finished\n"
     ]
    },
    {
     "name": "stdout",
     "output_type": "stream",
     "text": [
      "\n",
      "=====Generation 78=====\n",
      "  Elapsed time 01:08:13\n",
      "  Min -0.03026\n",
      "  Max -0.0\n",
      "  Avg -0.00114\n",
      "  Std 0.00508\n"
     ]
    },
    {
     "name": "stderr",
     "output_type": "stream",
     "text": [
      "[Parallel(n_jobs=-1)]: Using backend LokyBackend with 12 concurrent workers.\n",
      "[Parallel(n_jobs=-1)]: Done  26 tasks      | elapsed:   16.5s\n",
      "[Parallel(n_jobs=-1)]: Done  99 out of  99 | elapsed:   48.3s finished\n"
     ]
    },
    {
     "name": "stdout",
     "output_type": "stream",
     "text": [
      "\n",
      "=====Generation 79=====\n",
      "  Elapsed time 01:09:03\n",
      "  Min -0.02918\n",
      "  Max -0.0\n",
      "  Avg -0.00091\n",
      "  Std 0.00406\n"
     ]
    },
    {
     "name": "stderr",
     "output_type": "stream",
     "text": [
      "[Parallel(n_jobs=-1)]: Using backend LokyBackend with 12 concurrent workers.\n",
      "[Parallel(n_jobs=-1)]: Done  26 tasks      | elapsed:   15.8s\n",
      "[Parallel(n_jobs=-1)]: Done  99 out of  99 | elapsed:   49.0s finished\n"
     ]
    },
    {
     "name": "stdout",
     "output_type": "stream",
     "text": [
      "\n",
      "=====Generation 80=====\n",
      "  Elapsed time 01:09:54\n",
      "  Min -0.05182\n",
      "  Max -0.0\n",
      "  Avg -0.00211\n",
      "  Std 0.00749\n"
     ]
    },
    {
     "name": "stderr",
     "output_type": "stream",
     "text": [
      "[Parallel(n_jobs=-1)]: Using backend LokyBackend with 12 concurrent workers.\n",
      "[Parallel(n_jobs=-1)]: Done  26 tasks      | elapsed:   16.0s\n",
      "[Parallel(n_jobs=-1)]: Done  99 out of  99 | elapsed:   51.1s finished\n"
     ]
    },
    {
     "name": "stdout",
     "output_type": "stream",
     "text": [
      "\n",
      "=====Generation 81=====\n",
      "  Elapsed time 01:10:47\n",
      "  Min -0.04699\n",
      "  Max -0.0\n",
      "  Avg -0.00139\n",
      "  Std 0.00643\n"
     ]
    },
    {
     "name": "stderr",
     "output_type": "stream",
     "text": [
      "[Parallel(n_jobs=-1)]: Using backend LokyBackend with 12 concurrent workers.\n",
      "[Parallel(n_jobs=-1)]: Done  26 tasks      | elapsed:   16.6s\n",
      "[Parallel(n_jobs=-1)]: Done  99 out of  99 | elapsed:   50.3s finished\n"
     ]
    },
    {
     "name": "stdout",
     "output_type": "stream",
     "text": [
      "\n",
      "=====Generation 82=====\n",
      "  Elapsed time 01:11:40\n",
      "  Min -0.04867\n",
      "  Max -0.0\n",
      "  Avg -0.00116\n",
      "  Std 0.00591\n"
     ]
    },
    {
     "name": "stderr",
     "output_type": "stream",
     "text": [
      "[Parallel(n_jobs=-1)]: Using backend LokyBackend with 12 concurrent workers.\n",
      "[Parallel(n_jobs=-1)]: Done  26 tasks      | elapsed:   16.0s\n",
      "[Parallel(n_jobs=-1)]: Done  99 out of  99 | elapsed:   48.4s finished\n"
     ]
    },
    {
     "name": "stdout",
     "output_type": "stream",
     "text": [
      "\n",
      "=====Generation 83=====\n",
      "  Elapsed time 01:12:30\n",
      "  Min -0.02105\n",
      "  Max -0.0\n",
      "  Avg -0.00028\n",
      "  Std 0.00216\n"
     ]
    },
    {
     "name": "stderr",
     "output_type": "stream",
     "text": [
      "[Parallel(n_jobs=-1)]: Using backend LokyBackend with 12 concurrent workers.\n",
      "[Parallel(n_jobs=-1)]: Done  26 tasks      | elapsed:   15.9s\n",
      "[Parallel(n_jobs=-1)]: Done  99 out of  99 | elapsed:   52.1s finished\n"
     ]
    },
    {
     "name": "stdout",
     "output_type": "stream",
     "text": [
      "\n",
      "=====Generation 84=====\n",
      "  Elapsed time 01:13:24\n",
      "  Min -0.05883\n",
      "  Max -0.0\n",
      "  Avg -0.00173\n",
      "  Std 0.00842\n"
     ]
    },
    {
     "name": "stderr",
     "output_type": "stream",
     "text": [
      "[Parallel(n_jobs=-1)]: Using backend LokyBackend with 12 concurrent workers.\n",
      "[Parallel(n_jobs=-1)]: Done  26 tasks      | elapsed:   16.8s\n",
      "[Parallel(n_jobs=-1)]: Done  99 out of  99 | elapsed:   50.0s finished\n"
     ]
    },
    {
     "name": "stdout",
     "output_type": "stream",
     "text": [
      "\n",
      "=====Generation 85=====\n",
      "  Elapsed time 01:14:16\n",
      "  Min -0.035\n",
      "  Max -0.0\n",
      "  Avg -0.00082\n",
      "  Std 0.00389\n"
     ]
    },
    {
     "name": "stderr",
     "output_type": "stream",
     "text": [
      "[Parallel(n_jobs=-1)]: Using backend LokyBackend with 12 concurrent workers.\n",
      "[Parallel(n_jobs=-1)]: Done  26 tasks      | elapsed:   15.8s\n",
      "[Parallel(n_jobs=-1)]: Done  99 out of  99 | elapsed:   48.8s finished\n"
     ]
    },
    {
     "name": "stdout",
     "output_type": "stream",
     "text": [
      "\n",
      "=====Generation 86=====\n",
      "  Elapsed time 01:15:06\n",
      "  Min -0.10006\n",
      "  Max -0.0\n",
      "  Avg -0.00231\n",
      "  Std 0.01199\n"
     ]
    },
    {
     "name": "stderr",
     "output_type": "stream",
     "text": [
      "[Parallel(n_jobs=-1)]: Using backend LokyBackend with 12 concurrent workers.\n",
      "[Parallel(n_jobs=-1)]: Done  26 tasks      | elapsed:   15.4s\n",
      "[Parallel(n_jobs=-1)]: Done  99 out of  99 | elapsed:   48.5s finished\n"
     ]
    },
    {
     "name": "stdout",
     "output_type": "stream",
     "text": [
      "\n",
      "=====Generation 87=====\n",
      "  Elapsed time 01:15:57\n",
      "  Min -0.06287\n",
      "  Max -0.0\n",
      "  Avg -0.00163\n",
      "  Std 0.00694\n"
     ]
    },
    {
     "name": "stderr",
     "output_type": "stream",
     "text": [
      "[Parallel(n_jobs=-1)]: Using backend LokyBackend with 12 concurrent workers.\n",
      "[Parallel(n_jobs=-1)]: Done  26 tasks      | elapsed:   15.5s\n",
      "[Parallel(n_jobs=-1)]: Done  99 out of  99 | elapsed:   46.3s finished\n"
     ]
    },
    {
     "name": "stdout",
     "output_type": "stream",
     "text": [
      "\n",
      "=====Generation 88=====\n",
      "  Elapsed time 01:16:45\n",
      "  Min -0.0329\n",
      "  Max -0.0\n",
      "  Avg -0.00126\n",
      "  Std 0.00537\n"
     ]
    },
    {
     "name": "stderr",
     "output_type": "stream",
     "text": [
      "[Parallel(n_jobs=-1)]: Using backend LokyBackend with 12 concurrent workers.\n",
      "[Parallel(n_jobs=-1)]: Done  26 tasks      | elapsed:   15.2s\n",
      "[Parallel(n_jobs=-1)]: Done  99 out of  99 | elapsed:   48.0s finished\n"
     ]
    },
    {
     "name": "stdout",
     "output_type": "stream",
     "text": [
      "\n",
      "=====Generation 89=====\n",
      "  Elapsed time 01:17:35\n",
      "  Min -0.04064\n",
      "  Max -0.0\n",
      "  Avg -0.00151\n",
      "  Std 0.00584\n"
     ]
    },
    {
     "name": "stderr",
     "output_type": "stream",
     "text": [
      "[Parallel(n_jobs=-1)]: Using backend LokyBackend with 12 concurrent workers.\n",
      "[Parallel(n_jobs=-1)]: Done  26 tasks      | elapsed:   15.2s\n",
      "[Parallel(n_jobs=-1)]: Done  99 out of  99 | elapsed:   45.8s finished\n"
     ]
    },
    {
     "name": "stdout",
     "output_type": "stream",
     "text": [
      "\n",
      "=====Generation 90=====\n",
      "  Elapsed time 01:18:23\n",
      "  Min -0.0629\n",
      "  Max -0.0\n",
      "  Avg -0.00159\n",
      "  Std 0.00833\n"
     ]
    },
    {
     "name": "stderr",
     "output_type": "stream",
     "text": [
      "[Parallel(n_jobs=-1)]: Using backend LokyBackend with 12 concurrent workers.\n",
      "[Parallel(n_jobs=-1)]: Done  26 tasks      | elapsed:   14.7s\n",
      "[Parallel(n_jobs=-1)]: Done  99 out of  99 | elapsed:   44.6s finished\n"
     ]
    },
    {
     "name": "stdout",
     "output_type": "stream",
     "text": [
      "\n",
      "=====Generation 91=====\n",
      "  Elapsed time 01:19:09\n",
      "  Min -0.02873\n",
      "  Max -0.0\n",
      "  Avg -0.0008\n",
      "  Std 0.00391\n"
     ]
    },
    {
     "name": "stderr",
     "output_type": "stream",
     "text": [
      "[Parallel(n_jobs=-1)]: Using backend LokyBackend with 12 concurrent workers.\n",
      "[Parallel(n_jobs=-1)]: Done  26 tasks      | elapsed:   14.7s\n",
      "[Parallel(n_jobs=-1)]: Done  99 out of  99 | elapsed:   44.4s finished\n"
     ]
    },
    {
     "name": "stdout",
     "output_type": "stream",
     "text": [
      "\n",
      "=====Generation 92=====\n",
      "  Elapsed time 01:19:55\n",
      "  Min -0.03926\n",
      "  Max -0.0\n",
      "  Avg -0.0009\n",
      "  Std 0.00432\n"
     ]
    },
    {
     "name": "stderr",
     "output_type": "stream",
     "text": [
      "[Parallel(n_jobs=-1)]: Using backend LokyBackend with 12 concurrent workers.\n",
      "[Parallel(n_jobs=-1)]: Done  26 tasks      | elapsed:   14.7s\n",
      "[Parallel(n_jobs=-1)]: Done  99 out of  99 | elapsed:   44.7s finished\n"
     ]
    },
    {
     "name": "stdout",
     "output_type": "stream",
     "text": [
      "\n",
      "=====Generation 93=====\n",
      "  Elapsed time 01:20:41\n",
      "  Min -0.02306\n",
      "  Max -0.0\n",
      "  Avg -0.00086\n",
      "  Std 0.00319\n"
     ]
    },
    {
     "name": "stderr",
     "output_type": "stream",
     "text": [
      "[Parallel(n_jobs=-1)]: Using backend LokyBackend with 12 concurrent workers.\n",
      "[Parallel(n_jobs=-1)]: Done  26 tasks      | elapsed:   14.7s\n",
      "[Parallel(n_jobs=-1)]: Done  99 out of  99 | elapsed:   47.0s finished\n"
     ]
    },
    {
     "name": "stdout",
     "output_type": "stream",
     "text": [
      "\n",
      "=====Generation 94=====\n",
      "  Elapsed time 01:21:30\n",
      "  Min -0.04042\n",
      "  Max -0.0\n",
      "  Avg -0.00064\n",
      "  Std 0.0042\n"
     ]
    },
    {
     "name": "stderr",
     "output_type": "stream",
     "text": [
      "[Parallel(n_jobs=-1)]: Using backend LokyBackend with 12 concurrent workers.\n",
      "[Parallel(n_jobs=-1)]: Done  26 tasks      | elapsed:   15.4s\n",
      "[Parallel(n_jobs=-1)]: Done  99 out of  99 | elapsed:   46.3s finished\n"
     ]
    },
    {
     "name": "stdout",
     "output_type": "stream",
     "text": [
      "\n",
      "=====Generation 95=====\n",
      "  Elapsed time 01:22:18\n",
      "  Min -0.00883\n",
      "  Max -0.0\n",
      "  Avg -0.00038\n",
      "  Std 0.00139\n"
     ]
    },
    {
     "name": "stderr",
     "output_type": "stream",
     "text": [
      "[Parallel(n_jobs=-1)]: Using backend LokyBackend with 12 concurrent workers.\n",
      "[Parallel(n_jobs=-1)]: Done  26 tasks      | elapsed:   14.6s\n",
      "[Parallel(n_jobs=-1)]: Done  99 out of  99 | elapsed:   44.7s finished\n"
     ]
    },
    {
     "name": "stdout",
     "output_type": "stream",
     "text": [
      "\n",
      "=====Generation 96=====\n",
      "  Elapsed time 01:23:05\n",
      "  Min -0.02889\n",
      "  Max -0.0\n",
      "  Avg -0.00079\n",
      "  Std 0.00359\n"
     ]
    },
    {
     "name": "stderr",
     "output_type": "stream",
     "text": [
      "[Parallel(n_jobs=-1)]: Using backend LokyBackend with 12 concurrent workers.\n",
      "[Parallel(n_jobs=-1)]: Done  26 tasks      | elapsed:   14.7s\n",
      "[Parallel(n_jobs=-1)]: Done  99 out of  99 | elapsed:   45.0s finished\n"
     ]
    },
    {
     "name": "stdout",
     "output_type": "stream",
     "text": [
      "\n",
      "=====Generation 97=====\n",
      "  Elapsed time 01:23:51\n",
      "  Min -0.0258\n",
      "  Max -0.0\n",
      "  Avg -0.00044\n",
      "  Std 0.00266\n"
     ]
    },
    {
     "name": "stderr",
     "output_type": "stream",
     "text": [
      "[Parallel(n_jobs=-1)]: Using backend LokyBackend with 12 concurrent workers.\n",
      "[Parallel(n_jobs=-1)]: Done  26 tasks      | elapsed:   14.7s\n",
      "[Parallel(n_jobs=-1)]: Done  99 out of  99 | elapsed:   45.1s finished\n"
     ]
    },
    {
     "name": "stdout",
     "output_type": "stream",
     "text": [
      "\n",
      "=====Generation 98=====\n",
      "  Elapsed time 01:24:38\n",
      "  Min -0.02929\n",
      "  Max -0.0\n",
      "  Avg -0.00035\n",
      "  Std 0.00293\n"
     ]
    },
    {
     "name": "stderr",
     "output_type": "stream",
     "text": [
      "[Parallel(n_jobs=-1)]: Using backend LokyBackend with 12 concurrent workers.\n",
      "[Parallel(n_jobs=-1)]: Done  26 tasks      | elapsed:   15.5s\n",
      "[Parallel(n_jobs=-1)]: Done  99 out of  99 | elapsed:   47.2s finished\n"
     ]
    },
    {
     "name": "stdout",
     "output_type": "stream",
     "text": [
      "\n",
      "=====Generation 99=====\n",
      "  Elapsed time 01:25:27\n",
      "  Min -0.0348\n",
      "  Max -0.0\n",
      "  Avg -0.00103\n",
      "  Std 0.00477\n"
     ]
    },
    {
     "name": "stderr",
     "output_type": "stream",
     "text": [
      "[Parallel(n_jobs=-1)]: Using backend LokyBackend with 12 concurrent workers.\n",
      "[Parallel(n_jobs=-1)]: Done  26 tasks      | elapsed:   16.0s\n",
      "[Parallel(n_jobs=-1)]: Done  99 out of  99 | elapsed:   46.0s finished\n"
     ]
    },
    {
     "name": "stdout",
     "output_type": "stream",
     "text": [
      "\n",
      "=====Generation 100=====\n",
      "  Elapsed time 01:26:15\n",
      "  Min -0.08777\n",
      "  Max -0.0\n",
      "  Avg -0.00221\n",
      "  Std 0.01022\n",
      "\n",
      "GA done!\n",
      "\n",
      "[09/07 02:13:42] HydroCNHS.sc [INFO] Model is saved at C:\\Users\\CL\\Documents\\GitHub\\HydroCNHS\\tutorials\\Tutorial_1-Build_a_Semi-distributed_Hydrological_Model\\Cali_HydroModel_gwlf_KGE\\Best_HydroModel_gwlf_KGE.yaml.\n"
     ]
    },
    {
     "name": "stderr",
     "output_type": "stream",
     "text": [
      "C:\\Users\\CL\\Documents\\GitHub\\HydroCNHS\\hydrocnhs\\util.py:371: FutureWarning: DataFrame.applymap has been deprecated. Use DataFrame.map instead.\n",
      "  df = df.applymap(parse)\n",
      "C:\\Users\\CL\\Documents\\GitHub\\HydroCNHS\\hydrocnhs\\util.py:371: FutureWarning: DataFrame.applymap has been deprecated. Use DataFrame.map instead.\n",
      "  df = df.applymap(parse)\n"
     ]
    }
   ],
   "source": [
    "import pandas as pd\n",
    "import hydrocnhs.calibration as cali\n",
    "from copy import deepcopy\n",
    "\n",
    "# Load climate inputs\n",
    "temp = pd.read_csv(\n",
    "    os.path.join(wd, \"Data\", \"Temp_degC.csv\"), index_col=[\"Date\"]\n",
    ").to_dict(orient=\"list\")\n",
    "prec = pd.read_csv(os.path.join(wd, \"Data\", \"Prec_cm.csv\"), index_col=[\"Date\"]).to_dict(\n",
    "    orient=\"list\"\n",
    ")\n",
    "pet = pd.read_csv(os.path.join(wd, \"Data\", \"Pet_cm.csv\"), index_col=[\"Date\"]).to_dict(\n",
    "    orient=\"list\"\n",
    ")\n",
    "\n",
    "# Load flow gauge monthly data at WSLO\n",
    "obv_flow_WSLO = pd.read_csv(\n",
    "    os.path.join(wd, \"Data\", \"WSLO_M_cms.csv\"), index_col=[\"Date\"], parse_dates=[\"Date\"]\n",
    ")\n",
    "\n",
    "# Load model (the model can be loaded by giving the path of the model configuration file)\n",
    "model_dict = hydrocnhs.load_model(os.path.join(wd, \"model.yaml\"))\n",
    "\n",
    "# Generate default parameter bounds\n",
    "df_list, df_name = hydrocnhs.write_model_to_df(model_dict)\n",
    "par_bound_df_list, df_name = hydrocnhs.gen_default_bounds(model_dict)\n",
    "\n",
    "# Create convertor for calibration. Check the manual for converter details.\n",
    "converter = cali.Convertor()\n",
    "cali_inputs = converter.gen_cali_inputs(wd, df_list, par_bound_df_list)\n",
    "formatter = converter.formatter\n",
    "\n",
    "# Code evaluation function for GA algorthm\n",
    "def evaluation(individual, info):\n",
    "    cali_wd, current_generation, ith_individual, formatter, _ = info\n",
    "    name = \"{}-{}\".format(current_generation, ith_individual)\n",
    "\n",
    "    ##### individual -> model\n",
    "    # Convert 1D array to a list of dataframes.\n",
    "    df_list = cali.Convertor.to_df_list(individual, formatter)\n",
    "    # Feed dataframes in df_list to model dictionary.\n",
    "    model = deepcopy(model_dict)\n",
    "    for i, df in enumerate(df_list):\n",
    "        s = df_name[i].split(\"_\")[0]\n",
    "        model = hydrocnhs.load_df_to_model_dict(model, df, s, \"Pars\")\n",
    "\n",
    "    ##### Run simuluation\n",
    "    model = hydrocnhs.Model(model, name)\n",
    "    Q = model.run(temp, prec, pet)\n",
    "\n",
    "    ##### Get simulation data\n",
    "    # Streamflow of routing outlets.\n",
    "    cali_target = [\"WSLO\"]\n",
    "    cali_period = (\"1981-1-1\", \"2005-12-31\")\n",
    "    sim_Q_D = pd.DataFrame(Q, index=model.pd_date_index)[cali_target]\n",
    "    # Resample the daily simulation output to monthly outputs.\n",
    "    sim_Q_M = sim_Q_D[cali_target].resample(\"MS\").mean()\n",
    "\n",
    "    KGE = hydrocnhs.Indicator().KGE(\n",
    "        x_obv=obv_flow_WSLO[cali_period[0] : cali_period[1]][cali_target],\n",
    "        y_sim=sim_Q_M[cali_period[0] : cali_period[1]][cali_target],\n",
    "    )\n",
    "\n",
    "    fitness = KGE\n",
    "    return (fitness,)\n",
    "\n",
    "\n",
    "config = {\n",
    "    \"min_or_max\": \"max\",\n",
    "    \"pop_size\": 100,\n",
    "    \"num_ellite\": 1,\n",
    "    \"prob_cross\": 0.5,\n",
    "    \"prob_mut\": 0.15,\n",
    "    \"stochastic\": False,\n",
    "    \"max_gen\": 100,\n",
    "    \"sampling_method\": \"LHC\",\n",
    "    \"drop_record\": False,\n",
    "    \"paral_cores\": -1,\n",
    "    \"paral_verbose\": 1,\n",
    "    \"auto_save\": True,\n",
    "    \"print_level\": 1,\n",
    "    \"plot\": True,\n",
    "}\n",
    "\n",
    "seed = 5\n",
    "rn_gen = hydrocnhs.create_rn_gen(seed)\n",
    "ga = cali.GA_DEAP(evaluation, rn_gen)\n",
    "ga.set(cali_inputs, config, formatter, name=\"Cali_HydroModel_gwlf_KGE\")\n",
    "ga.run()\n",
    "summary = ga.summary\n",
    "individual = ga.solution\n",
    "\n",
    "##### Output the calibrated model.\n",
    "df_list = cali.Convertor.to_df_list(individual, formatter)\n",
    "model_best = deepcopy(model_dict)\n",
    "for i, df in enumerate(df_list):\n",
    "    s = df_name[i].split(\"_\")[0]\n",
    "    model = hydrocnhs.load_df_to_model_dict(model_best, df, s, \"Pars\")\n",
    "hydrocnhs.write_model(\n",
    "    model_best, os.path.join(ga.cali_wd, \"Best_HydroModel_gwlf_KGE.yaml\")\n",
    ")"
   ]
  }
 ],
 "metadata": {
  "kernelspec": {
   "display_name": "cnhs",
   "language": "python",
   "name": "python3"
  },
  "language_info": {
   "codemirror_mode": {
    "name": "ipython",
    "version": 3
   },
   "file_extension": ".py",
   "mimetype": "text/x-python",
   "name": "python",
   "nbconvert_exporter": "python",
   "pygments_lexer": "ipython3",
   "version": "3.12.4"
  }
 },
 "nbformat": 4,
 "nbformat_minor": 2
}
