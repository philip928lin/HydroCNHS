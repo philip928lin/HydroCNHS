{
 "cells": [
  {
   "cell_type": "markdown",
   "metadata": {},
   "source": [
    "# Tutorial 2 - Build a Coupled Natural Human System\n",
    "\n",
    "Assuming that you have gone through Tutorial 1, Tutorial 2 will focus on how to add human layer into the system. Namely, we will couple an agent-based model (ABM) with a semi-distributed model.\n",
    "\n",
    "We adopt the Tualatin River Basin (TRB; Figure 1; Table 1) as the tutorial example. The corresponding subbasins' information is shown in Table 1. In this example, we consider three human components (Table 2), including (1) a reservoir (`ResAgt`), (2) an irrigation diversion (`DivAgt`), and (3) a trans-basin water transfer (`PipeAgt`), to demonstrate HydroCNHS's functionalities. Additionally, we model each human agent with different levels of behavioral complexity to provide users with a sense of how an agent can be modeled (Table 2). We will calibrate the model using the streamflow at DLLO and WSLO, reservoir releases from `ResAgt`, and water diversions from `DivAgt` on a monthly scale. More details about TRB can be found in *Lin et al. (2022)*. Here, we focus on the coding part.\n",
    "\n",
    "<img src=\"./NB_Figs/TRB_node_link.png\" alt=\"TRB_node_link\" width=\"400\"/>\n",
    "\n",
    "*Figure 1. The node-link structure of the Tualatin River Basin with human components.*\n",
    "\n",
    "\n",
    "*Table 1. Subbasins’ information for the Tualatin River Basin.*\n",
    "\n",
    "| Subbasin/outlet | Drainage area [ha] | Latitude [deg] | Flow length [m] |\n",
    "|-----------------|-------------------:|---------------:|----------------:|\n",
    "| HaggIn          |         10034.2408 |        45.469  |        0 (to HaggIn) |\n",
    "| TRTR            |           329.8013 |        45.458  |    30899.4048 (to DLLO) |\n",
    "| ResAgt\\*        |                –   |             –  |    9656.064 (to DLLO) |\n",
    "| DLLO            |         22238.4391 |        45.475  |  11748.211 (to TRGC) |\n",
    "| TRGC            |         24044.6363 |        45.502  |        0 (to TRGC) |\n",
    "| DAIRY           |         59822.7546 |        45.520  |  70988.164 (to WSLO) |\n",
    "| RCTV            |         19682.6046 |        45.502  |  60398.680 (to WSLO) |\n",
    "| WSLO            |         47646.8477 |        45.350  |        0 (to WSLO) |\n",
    "\n",
    "\\*ResAgt is a reservoir agent integrated with Dam API. It is considered a pseudo routing outlet.\n",
    "\n",
    "\n",
    "*Table 2. Summary of human components’ setting.*\n",
    "\n",
    "| Item                        | Agent name | API             | Behavioral design                       | From   |\n",
    "|-----------------------------|------------|-----------------|-----------------------------------------|--------|\n",
    "| Reservoir                   | ResAgt     | Dam API         | Fixed operational rules                 | HaggIn |\n",
    "| Irrigation diversion        | DivAgt     | RiverDiv API    | Calibrated adaptive behavioral rules    | TRGC   |\n",
    "| Trans-basin water transfer   | PipeAgt    | Conveying API   | External input data                     | –      |\n",
    "\n",
    "\n",
    "\n",
    "## Step 1: Create a model configuration file (`model.yaml`)\n",
    "\n",
    "Creating a node-link structure of a modeled water system is a vital step before using HydroCNHS. Subbasin outlets are determined based on the major tributaries in the TRB. However, the subbasin outlet, TRTR, is predefined because there is an inlet for trans-basin water transfer. For the routing outlet assignment, DLLO and WSLO are selected because the streamflow at these locations is part of the calibration targets. TRGC is also chosen since an agent integrated using the RiverDiv API can only divert water from a routing outlet. HaggIn is picked because it is the inflow for ResAgt (i.e., ResAgt takes water from HaggIn).\n",
    "\n",
    "With a node-link structure of the TRB water system, we can follow the same process shown in Tutorial 1 to initialize a model builder, set up the water system with the simulation period, add subbasins, and add four routing outlets. Note that ResAgt is considered a pseudo-routing outlet that needs to be assigned to one of the upstream outlets of a routing outlet.\n"
   ]
  },
  {
   "cell_type": "code",
   "execution_count": 1,
   "metadata": {},
   "outputs": [
    {
     "name": "stdout",
     "output_type": "stream",
     "text": [
      "Follow the following steps to create model & ABM script templates:\n",
      "\tStep 1: set_water_system()\n",
      "\tStep 2: set_rainfall_runoff()\n",
      "\tStep 3: set_routing_outlet(), one at a time.\n",
      "\tStep 4: (optional) set_sediment().\n",
      "\tStep 5: (optional) add_sediment(), one at a time.\n",
      "\tStep 6: (optional) set_ABM().\n",
      "\tStep 7: (optional) add_agent().\n",
      "\tStep 8: (optional) add_institution().\n",
      "\tStep 9: write_model_to_yaml()\n",
      "\tStep 10: (optional) gen_ABM_script_template()\n",
      "Open the generated draft 'model.yaml' (& ABM module template) and further edit them.\n",
      "Use .help to re-print the above instructions.\n"
     ]
    }
   ],
   "source": [
    "import os\n",
    "import hydrocnhs\n",
    "\n",
    "# Set the working directory\n",
    "wd = os.path.abspath(\n",
    "    os.path.join(\n",
    "        os.path.dirname(hydrocnhs.__file__),\n",
    "        '..', 'tutorials',\n",
    "        'Tutorial_2-Build_a_Coupled_Natural_Human_System'\n",
    "        )\n",
    "    )\n",
    "\n",
    "# Initialize a model builder object.\n",
    "mb = hydrocnhs.ModelBuilder(wd)\n",
    "\n",
    "# Setup a water system simulation information\n",
    "mb.set_water_system(start_date=\"1981/1/1\", end_date=\"2013/12/31\")\n",
    "\n",
    "# Setup land surface model (i.e., rainfall-runoff model)\n",
    "# Here we have seven subbasins and we select GWLF as the rainfall-runoff model.\n",
    "outlet_list = ['HaggIn', 'TRTR', 'DLLO', 'TRGC', 'DAIRY', 'RCTV', 'WSLO']\n",
    "area_list = [10034.2408, 329.8013, 22238.4391, 24044.6363, 59822.7546,\n",
    "            19682.6046, 47646.8477]\n",
    "lat_list = [45.469, 45.458, 45.475, 45.502, 45.520, 45.502, 45.350]\n",
    "mb.set_rainfall_runoff(outlet_list=outlet_list,area_list=area_list,\n",
    "                    lat_list=lat_list, runoff_model=\"GWLF\")\n",
    "\n",
    "# Setup routing outlets\n",
    "# Add WSLO\n",
    "mb.set_routing_outlet(routing_outlet=\"WSLO\",\n",
    "                    upstream_outlet_list=[\"TRGC\", \"DAIRY\", \"RCTV\", \"WSLO\"],\n",
    "                    flow_length_list=[80064.864, 70988.164, 60398.680, 0])\n",
    "# Add TRGC\n",
    "mb.set_routing_outlet(routing_outlet=\"TRGC\",\n",
    "                    upstream_outlet_list=[\"DLLO\", \"TRGC\"],\n",
    "                    flow_length_list=[11748.211, 0])\n",
    "# Add DLLO\n",
    "# Specify that ResAgt is an instream object.\n",
    "mb.set_routing_outlet(routing_outlet=\"DLLO\",\n",
    "                    upstream_outlet_list=[\"ResAgt\", \"TRTR\", \"DLLO\"],\n",
    "                    flow_length_list=[9656.064, 30899.4048, 0],\n",
    "                    instream_objects=[\"ResAgt\"])\n",
    "# Add HaggIn\n",
    "mb.set_routing_outlet(routing_outlet=\"HaggIn\",\n",
    "                    upstream_outlet_list=[\"HaggIn\"],\n",
    "                    flow_length_list=[0])"
   ]
  },
  {
   "cell_type": "markdown",
   "metadata": {},
   "source": [
    "### Initialize ABM setting\n",
    "\n",
    "To add human components, we first need to initialize the ABM setting block by assigning the directory of an ABM module folder and the planned ABM module filename. If these are not provided, default values will be applied, namely the working directory and \"ABM_module.py,\" respectively. The `abm_module_name` will be used as the filename for the ABM module template if users choose to generate one using the model builder.\n"
   ]
  },
  {
   "cell_type": "code",
   "execution_count": 2,
   "metadata": {},
   "outputs": [],
   "source": [
    "mb.set_ABM(abm_module_folder_path=wd, abm_module_name=\"TRB_ABM.py\")"
   ]
  },
  {
   "cell_type": "markdown",
   "metadata": {},
   "source": [
    "Next, we add human components (i.e., agents) to the model builder. We first add a reservoir agent (`ResAgt`), where its corresponding agent type class, agent name, API, link dictionary, and decision-making class can be assigned at this stage. Although not all information has to be provided now (i.e., it can be manually added to the `model.yaml` file later), we encourage users to provide complete details here.\n"
   ]
  },
  {
   "cell_type": "code",
   "execution_count": 3,
   "metadata": {},
   "outputs": [],
   "source": [
    "mb.add_agent(\n",
    "    agt_type_class=\"Reservoir_AgtType\", agt_name=\"ResAgt\",\n",
    "    api=mb.api.Dam,\n",
    "    link_dict={\"HaggIn\": -1, \"ResAgt\": 1},\n",
    "    dm_class=\"ReleaseDM\"\n",
    "    )"
   ]
  },
  {
   "cell_type": "markdown",
   "metadata": {},
   "source": [
    "The setting shown above means that `ResAgt` (an agent object) will be created from `Reservoir_AgtType` (an agent type class) and integrated into HydroCNHS using the Dam API. A decision-making object will be created from `ReleaseDM` (a decision-making class) and assigned to `ResAgt` as its attribute. This agent, `ResAgt`, will take water (factor = -1) from the `HaggIn` routing outlet and release (factor = 1) water to `ResAgt`. Remember that `ResAgt` itself is a pseudo-routing outlet.\n",
    "\n",
    "Following a similar procedure, we add a water diversion agent (`DivAgt`). However, we have parameters, including `ReturnFactor`, `a`, and `b`, involved in this agent. Hence, a dictionary is provided to the `par_dict` argument. The format of the parameter dictionary is that keys are parameter names, and values are parameter values (-99 means waiting to be calibrated).\n",
    "\n",
    "However, if the parameter is the factor used in the `link_dict`, users need to follow the format shown here. For example, if we want to calibrate a return factor (`ReturnFactor`) to determine the portion of diverted water returned to the `WSLO` subbasin, we provide a list, `[\"ReturnFactor\", 0, \"Plus\"]`, to the `link_dict` at `WSLO`. HydroCNHS will interpret it as taking the factor value from the parameter `ReturnFactor` with a list index of 0. \"Plus\" tells HydroCNHS to add water to `WSLO`. If water is taken from `WSLO`, then \"Minus\" should be assigned.\n",
    "\n",
    "Note: `-99` is a default value indicating that this parameter is subject to calibration."
   ]
  },
  {
   "cell_type": "code",
   "execution_count": 4,
   "metadata": {},
   "outputs": [],
   "source": [
    "mb.add_agent(\n",
    "    agt_type_class=\"Diversion_AgType\", agt_name=\"DivAgt\",\n",
    "    api=mb.api.RiverDiv,\n",
    "    link_dict={\"TRGC\": -1, \"WSLO\": [\"ReturnFactor\", 0, \"Plus\"]},\n",
    "    dm_class=\"DivertDM\",\n",
    "    par_dict={\"ReturnFactor\": [-99], \"a\": -99, \"b\":-99}\n",
    "    )"
   ]
  },
  {
   "cell_type": "markdown",
   "metadata": {},
   "source": [
    "Finally, we add a trans-basin water transfer agent (`PipeAgt`)."
   ]
  },
  {
   "cell_type": "code",
   "execution_count": 5,
   "metadata": {},
   "outputs": [],
   "source": [
    "mb.add_agent(\n",
    "    agt_type_class=\"Pipe_AgType\", agt_name=\"PipeAgt\",\n",
    "    api=mb.api.Conveying,\n",
    "    link_dict={\"TRTR\": 1},\n",
    "    dm_class=\"TransferDM\"\n",
    "    )"
   ]
  },
  {
   "cell_type": "markdown",
   "metadata": {},
   "source": [
    "### Add institution\n",
    "\n",
    "We did not include an institution in this TRB example; however, if users want to assign an institution (e.g., “ResDivInstitution”) to `ResAgt` and `DivAgt`, they should do so by assuming that there is cooperation between water release decisions and water diversion decisions. Namely, release decisions from `ResAgt` and diversion decisions from `DivAgt` are made simultaneously using a single decision-making object (Figure 2). Users can do the following.\n",
    "\n",
    "Note: `ResDivInstitution` will overwrite the originally assigned decision-making (DM) classes (if any) of `ResAgt` and `DivAgt`. The above command means that a single `ResDivInstitution` decision-making object, initialized from `ResDivDMClass`, will be assigned to the attributes (e.g., `self.dm`) of `ResAgt` and `DivAgt`. Users can utilize this property to design their agents.\n"
   ]
  },
  {
   "cell_type": "code",
   "execution_count": 6,
   "metadata": {},
   "outputs": [
    {
     "data": {
      "text/plain": [
       "'\\nmb.add_institution(\\n    institution=\"ResDivInstitution\",\\n    instit_dm_class=\" ResDivDMClass\",\\n    agent_list=[\" ResAgt \", \"DivAgt\"]\\n    )\\n'"
      ]
     },
     "execution_count": 6,
     "metadata": {},
     "output_type": "execute_result"
    }
   ],
   "source": [
    "# Do not run this cell for this tutorial\n",
    "\"\"\"\n",
    "mb.add_institution(\n",
    "    institution=\"ResDivInstitution\",\n",
    "    instit_dm_class=\" ResDivDMClass\",\n",
    "    agent_list=[\" ResAgt \", \"DivAgt\"]\n",
    "    )\n",
    "\"\"\""
   ]
  },
  {
   "cell_type": "markdown",
   "metadata": {},
   "source": [
    "### Generate `ABM module template` & output `model.yaml`\n",
    "\n",
    "In addition to outputting a model configuration file (`.yaml`), the model builder can generate an ABM module template (`.py`) for users. In this template, the model builder will create the outline of agent type classes and decision-making classes, allowing users to focus on programming the calculations for each class provided in the template.\n"
   ]
  },
  {
   "cell_type": "code",
   "execution_count": 7,
   "metadata": {},
   "outputs": [
    {
     "name": "stdout",
     "output_type": "stream",
     "text": [
      "[09/07 03:12:01] HydroCNHS.sc [INFO] Model is saved at C:\\Users\\CL\\Documents\\GitHub\\HydroCNHS\\tutorials\\Tutorial_2-Build_a_Coupled_Natural_Human_System\\model.yaml.\n",
      "Model configuration file (.yaml) have been save at C:\\Users\\CL\\Documents\\GitHub\\HydroCNHS\\tutorials\\Tutorial_2-Build_a_Coupled_Natural_Human_System\\model.yaml. Please open the file and further edit it.\n",
      "ABM module template (.py) have been save at C:\\Users\\CL\\Documents\\GitHub\\HydroCNHS\\tutorials\\Tutorial_2-Build_a_Coupled_Natural_Human_System\\TRB_ABM.py. Please open the file and further edit it.\n"
     ]
    }
   ],
   "source": [
    "# Output draft model configuration file (i.e., model.yaml) and ABM module template (i.e., TRB_ABM.py).\n",
    "mb.write_model_to_yaml(filename=\"model.yaml\")\n",
    "mb.gen_ABM_module_template()"
   ]
  },
  {
   "cell_type": "markdown",
   "metadata": {},
   "source": [
    "## Step 2: Complete a `model.yaml`\n",
    "\n",
    "After the model configuration file (`.yaml`) is created, users should open the file to complete and correct any missing or misinterpreted values. For this example, we will again keep the default values.\n",
    "\n",
    "## Step 3: Program ABM module (.py)**\n",
    "\n",
    "In the generated ABM module (`.py`), users will find two main types of classes: agent type classes (`AgtType`) and decision-making classes (`DMClass`/`Institutional DMClass`). Agent type classes are used to define agents' actions and store up-to-date information (e.g., current date and current time step) in agents' attributes. Decision-making classes are used to program specific decision-making processes. These decision-making classes can be further divided into `DMClass` and `Institutional DMClass`.\n",
    "\n",
    "The ABM design logic is illustrated in Figure 2. A \"class\" is a template for objects that can be instantiated with object-specific attributes and settings. For example, `Agent1` and `Agent2` are instantiated from the same `AgtType1` class. `Agent2`, `Agent4`, and `Agent5` are instantiated from the `AgtType2` class. Each agent will be assigned a DM object or Institution object as one of its attributes. DM objects instantiated from `DMClass` are not shared with other agents; namely, agents with DM objects will each have a unique DM object (e.g., `Agent1` and `Agent2` in Fig. 6). In contrast, an Institution object can be shared with multiple agents, allowing those agents to make decisions together. For example, multiple irrigation districts might make diversion decisions together to share the water shortage during a drought period. We will not implement the `Institutional DMClass` in this TRB example; however, we will show how to add an institution through the model builder.\n",
    "\n",
    "<img src=\"./NB_Figs/ABM_design_logic.png\" alt=\"ABM_design_logic.\" width=\"650\"/>\n",
    "\n",
    "*Figure 2. ABM Design Logic. An agent is a combination of an `AgtType` class and a `(Institutional) DM` class. An Institution object can be shared among a group of agent objects (i.e., making decisions together), while a DM object can only be assigned to one agent object.*\n",
    "\n",
    "\n",
    "\n",
    "### Agent Type Class (`AgtType`):\n",
    "\n",
    "- `self.name`: agent’s name\n",
    "- `self.config`: agent’s configuration dictionary, `{‘Attributes’: …, ‘Inputs’: …, ‘Pars’: …}`\n",
    "- `self.start_date`: start date (`datetime` object)\n",
    "- `self.current_date`: current date (`datetime` object)\n",
    "- `self.data_length`: data/simulation length\n",
    "- `self.t`: current timestep\n",
    "- `self.dc`: data collector object containing data. Routed streamflow (`Q_routed`) is also collected here.\n",
    "- `self.rn_gen`: NumPy random number generator\n",
    "- `self.agents`: a dictionary of all initialized agents, `{agt_name: agt object}`\n",
    "- `self.dm`: (Institutional) decision-making object if `DMClass` or institution is assigned to the agent, otherwise `None`\n"
   ]
  },
  {
   "cell_type": "code",
   "execution_count": 8,
   "metadata": {},
   "outputs": [],
   "source": [
    "from hydrocnhs.abm import Base, read_factor\n",
    "\n",
    "# AgtType\n",
    "class XXX_AgtType(Base):\n",
    "    def __init__(self, **kwargs):\n",
    "        super().__init__(**kwargs)\n",
    "        # The AgtType inherited attributes are applied.\n",
    "        # See the note at top.\n",
    "\n",
    "    def act(self, outlet):\n",
    "        # Read corresponding factor of the given outlet\n",
    "        factor = read_factor(self.config, outlet)\n",
    "\n",
    "        # Common usage:\n",
    "        # Get streamflow of outlet at timestep t\n",
    "        Q = self.dc.Q_routed[outlet][self.t]\n",
    "\n",
    "        # Make decision from (Institutional) decision-making\n",
    "        # object if self.dm is not None.\n",
    "        #decision = self.dm.make_dm(your_arguments)\n",
    "\n",
    "        if factor <= 0:     # Divert from the outlet\n",
    "            action = 0\n",
    "        elif factor > 0:    # Add to the outlet\n",
    "            action = 0\n",
    "\n",
    "        return action"
   ]
  },
  {
   "cell_type": "markdown",
   "metadata": {},
   "source": [
    "### (Institutional) decision-making classes (`DMClass`):\n",
    "\n",
    "- `self.name`: name of the agent or institution\n",
    "- `self.dc`: data collector object containing data. Routed streamflow (`Q_routed`) is also collected here.\n",
    "- `self.rn_gen`: NumPy random number generator\n"
   ]
  },
  {
   "cell_type": "code",
   "execution_count": 9,
   "metadata": {},
   "outputs": [],
   "source": [
    "# DMClass\n",
    "class XXX_DM(Base):\n",
    "    def __init__(self, **kwargs):\n",
    "        super().__init__(**kwargs)\n",
    "        # The (Institutional) DMClass inherited attributes are applied.\n",
    "        # See the note at top.\n",
    "\n",
    "    def make_dm(self, your_arguments):\n",
    "        # Decision-making calculation.\n",
    "        decision = None\n",
    "        return decision"
   ]
  },
  {
   "cell_type": "markdown",
   "metadata": {},
   "source": [
    "To keep the manual concise, we provide a complete ABM module for the TRB example at `./tutorials/Tutorial_2-Build_a_Coupled_Natural_Human_System/TRB_ABM_complete.py`. Formulation details can be found in *Lin et al. (2022)*, and more coding tips are available in the \"Advanced ABM Coding Tips\" section in the manual.\n"
   ]
  },
  {
   "cell_type": "markdown",
   "metadata": {},
   "source": [
    "## Step 4: Run a calibration\n",
    "\n",
    "First, we load `model.yaml`, the climate data, and the observed monthly flow data for DLLO and WSLO, reservoir releases from `ResAgt`, and water diversions from `DivAgt`. Here, we have calculated the evapotranspiration using the Hamon method, so PET data is input along with other data. \n",
    "\n",
    "Note: We manually change the ABM module from `TRB_ABM.py` to `TRB_ABM_complete.py` in `model.yaml` before continuing this tutorial. See the following code.\n"
   ]
  },
  {
   "cell_type": "code",
   "execution_count": 10,
   "metadata": {},
   "outputs": [
    {
     "name": "stdout",
     "output_type": "stream",
     "text": [
      "[09/07 03:32:23] HydroCNHS.sc [INFO] Parsed model data summary:\n",
      "SimSeq\n",
      "  ['HaggIn', 'ResAgt', 'DLLO', 'TRGC', 'WSLO']\n",
      "RoutingOutlets\n",
      "  ['HaggIn', 'DLLO', 'TRGC', 'WSLO']\n",
      "DamAgents\n",
      "  ['ResAgt']\n",
      "ConveyingAgents\n",
      "  ['PipeAgt']\n",
      "RiverDivAgents\n",
      "  ['DivAgt']\n",
      "InsituAgents\n",
      "  []\n",
      "AgSimSeq\n",
      "  AgSimMinus\n",
      "    HaggIn\n",
      "      {}\n",
      "    ResAgt\n",
      "      {}\n",
      "    DLLO\n",
      "      {}\n",
      "    TRGC\n",
      "      {'RiverDivAgents': [('DivAgt', 'TRGC')]}\n",
      "    WSLO\n",
      "      {}\n",
      "  AgSimPlus\n",
      "    HaggIn\n",
      "      {}\n",
      "    ResAgt\n",
      "      {'DamAgents': [('ResAgt', 'ResAgt')]}\n",
      "    DLLO\n",
      "      {'ConveyingAgents': [('PipeAgt', 'TRTR')]}\n",
      "    TRGC\n",
      "      {}\n",
      "    WSLO\n",
      "      {'RiverDivAgents': [('DivAgt', 'WSLO')]}\n"
     ]
    }
   ],
   "source": [
    "import matplotlib.pyplot as plt\n",
    "import pandas as pd\n",
    "import hydrocnhs.calibration as cali\n",
    "from copy import deepcopy\n",
    "\n",
    "# Load climate data\n",
    "temp = pd.read_csv(\n",
    "    os.path.join(wd,\"Data\",\"Temp_degC.csv\"), index_col=[\"Date\"]\n",
    "    ).to_dict(orient=\"list\")\n",
    "prec = pd.read_csv(\n",
    "    os.path.join(wd,\"Data\",\"Prec_cm.csv\"), index_col=[\"Date\"]\n",
    "    ).to_dict(orient=\"list\")\n",
    "pet = pd.read_csv(\n",
    "    os.path.join(wd,\"Data\",\"Pet_cm.csv\"), index_col=[\"Date\"]\n",
    "    ).to_dict(orient=\"list\")\n",
    "\n",
    "# Load flow gauge monthly data at WSLO\n",
    "obv_flow_data = pd.read_csv(os.path.join(wd,\"Data\",\"Cali_M_cms.csv\"),\n",
    "                            index_col=[\"Date\"], parse_dates=[\"Date\"])\n",
    "\n",
    "# Load model\n",
    "model_dict = hydrocnhs.load_model(os.path.join(wd, \"model.yaml\"))\n",
    "\n",
    "# Change the ABM module to the complete one.\n",
    "model_dict[\"WaterSystem\"][\"ABM\"][\"Modules\"] = [\"TRB_ABM_complete.py\"]"
   ]
  },
  {
   "cell_type": "markdown",
   "metadata": {},
   "source": [
    "Second, we generate default parameter bounds and create a converter for calibration. Note that we manually change the default ABM parameter bounds as shown in the code. Details about the converter are provided in the `Calibration` section in the manual.\n"
   ]
  },
  {
   "cell_type": "code",
   "execution_count": 11,
   "metadata": {},
   "outputs": [
    {
     "name": "stderr",
     "output_type": "stream",
     "text": [
      "C:\\Users\\CL\\Documents\\GitHub\\HydroCNHS\\hydrocnhs\\util.py:266: FutureWarning: Setting an item of incompatible dtype is deprecated and will raise an error in a future version of pandas. Value '[25, 100]' has dtype incompatible with int64, please explicitly cast to a compatible dtype first.\n",
      "  df.loc[k, :] = str(v)\n",
      "C:\\Users\\CL\\Documents\\GitHub\\HydroCNHS\\hydrocnhs\\util.py:266: FutureWarning: Setting an item of incompatible dtype is deprecated and will raise an error in a future version of pandas. Value '[25, 100]' has dtype incompatible with int64, please explicitly cast to a compatible dtype first.\n",
      "  df.loc[k, :] = str(v)\n",
      "C:\\Users\\CL\\Documents\\GitHub\\HydroCNHS\\hydrocnhs\\util.py:266: FutureWarning: Setting an item of incompatible dtype is deprecated and will raise an error in a future version of pandas. Value '[25, 100]' has dtype incompatible with int64, please explicitly cast to a compatible dtype first.\n",
      "  df.loc[k, :] = str(v)\n",
      "C:\\Users\\CL\\Documents\\GitHub\\HydroCNHS\\hydrocnhs\\util.py:266: FutureWarning: Setting an item of incompatible dtype is deprecated and will raise an error in a future version of pandas. Value '[25, 100]' has dtype incompatible with int64, please explicitly cast to a compatible dtype first.\n",
      "  df.loc[k, :] = str(v)\n",
      "C:\\Users\\CL\\Documents\\GitHub\\HydroCNHS\\hydrocnhs\\util.py:266: FutureWarning: Setting an item of incompatible dtype is deprecated and will raise an error in a future version of pandas. Value '[25, 100]' has dtype incompatible with int64, please explicitly cast to a compatible dtype first.\n",
      "  df.loc[k, :] = str(v)\n",
      "C:\\Users\\CL\\Documents\\GitHub\\HydroCNHS\\hydrocnhs\\util.py:266: FutureWarning: Setting an item of incompatible dtype is deprecated and will raise an error in a future version of pandas. Value '[25, 100]' has dtype incompatible with int64, please explicitly cast to a compatible dtype first.\n",
      "  df.loc[k, :] = str(v)\n",
      "C:\\Users\\CL\\Documents\\GitHub\\HydroCNHS\\hydrocnhs\\util.py:266: FutureWarning: Setting an item of incompatible dtype is deprecated and will raise an error in a future version of pandas. Value '[25, 100]' has dtype incompatible with int64, please explicitly cast to a compatible dtype first.\n",
      "  df.loc[k, :] = str(v)\n",
      "C:\\Users\\CL\\Documents\\GitHub\\HydroCNHS\\hydrocnhs\\util.py:272: FutureWarning: Setting an item of incompatible dtype is deprecated and will raise an error in a future version of pandas. Value '[1, 100]' has dtype incompatible with int64, please explicitly cast to a compatible dtype first.\n",
      "  df.loc[k, df.loc[k, :].isna() == False] = str(v)\n",
      "C:\\Users\\CL\\Documents\\GitHub\\HydroCNHS\\hydrocnhs\\util.py:272: FutureWarning: Setting an item of incompatible dtype is deprecated and will raise an error in a future version of pandas. Value '[1, 100]' has dtype incompatible with int64, please explicitly cast to a compatible dtype first.\n",
      "  df.loc[k, df.loc[k, :].isna() == False] = str(v)\n",
      "C:\\Users\\CL\\Documents\\GitHub\\HydroCNHS\\hydrocnhs\\util.py:272: FutureWarning: Setting an item of incompatible dtype is deprecated and will raise an error in a future version of pandas. Value '[1, 100]' has dtype incompatible with float64, please explicitly cast to a compatible dtype first.\n",
      "  df.loc[k, df.loc[k, :].isna() == False] = str(v)\n",
      "C:\\Users\\CL\\Documents\\GitHub\\HydroCNHS\\hydrocnhs\\util.py:272: FutureWarning: Setting an item of incompatible dtype is deprecated and will raise an error in a future version of pandas. Value '[1, 100]' has dtype incompatible with float64, please explicitly cast to a compatible dtype first.\n",
      "  df.loc[k, df.loc[k, :].isna() == False] = str(v)\n",
      "C:\\Users\\CL\\Documents\\GitHub\\HydroCNHS\\hydrocnhs\\util.py:272: FutureWarning: Setting an item of incompatible dtype is deprecated and will raise an error in a future version of pandas. Value '[1, 100]' has dtype incompatible with int64, please explicitly cast to a compatible dtype first.\n",
      "  df.loc[k, df.loc[k, :].isna() == False] = str(v)\n",
      "C:\\Users\\CL\\Documents\\GitHub\\HydroCNHS\\hydrocnhs\\util.py:272: FutureWarning: Setting an item of incompatible dtype is deprecated and will raise an error in a future version of pandas. Value '[1, 100]' has dtype incompatible with float64, please explicitly cast to a compatible dtype first.\n",
      "  df.loc[k, df.loc[k, :].isna() == False] = str(v)\n",
      "C:\\Users\\CL\\Documents\\GitHub\\HydroCNHS\\hydrocnhs\\util.py:272: FutureWarning: Setting an item of incompatible dtype is deprecated and will raise an error in a future version of pandas. Value '[1, 100]' has dtype incompatible with float64, please explicitly cast to a compatible dtype first.\n",
      "  df.loc[k, df.loc[k, :].isna() == False] = str(v)\n",
      "C:\\Users\\CL\\Documents\\GitHub\\HydroCNHS\\hydrocnhs\\util.py:272: FutureWarning: Setting an item of incompatible dtype is deprecated and will raise an error in a future version of pandas. Value '[0.5, 55]' has dtype incompatible with float64, please explicitly cast to a compatible dtype first.\n",
      "  df.loc[k, df.loc[k, :].isna() == False] = str(v)\n",
      "C:\\Users\\CL\\Documents\\GitHub\\HydroCNHS\\hydrocnhs\\util.py:272: FutureWarning: Setting an item of incompatible dtype is deprecated and will raise an error in a future version of pandas. Value '[0.5, 55]' has dtype incompatible with float64, please explicitly cast to a compatible dtype first.\n",
      "  df.loc[k, df.loc[k, :].isna() == False] = str(v)\n",
      "C:\\Users\\CL\\Documents\\GitHub\\HydroCNHS\\hydrocnhs\\util.py:272: FutureWarning: Setting an item of incompatible dtype is deprecated and will raise an error in a future version of pandas. Value '[0.5, 55]' has dtype incompatible with float64, please explicitly cast to a compatible dtype first.\n",
      "  df.loc[k, df.loc[k, :].isna() == False] = str(v)\n",
      "C:\\Users\\CL\\Documents\\GitHub\\HydroCNHS\\hydrocnhs\\util.py:279: FutureWarning: Setting an item of incompatible dtype is deprecated and will raise an error in a future version of pandas. Value '[0, 1]' has dtype incompatible with int64, please explicitly cast to a compatible dtype first.\n",
      "  df.loc[k, df.loc[k, :].isna() == False] = str([0, 1])\n",
      "C:\\Users\\CL\\Documents\\GitHub\\HydroCNHS\\hydrocnhs\\calibration\\convertor.py:89: FutureWarning: Downcasting behavior in `replace` is deprecated and will be removed in a future version. To retain the old behavior, explicitly call `result.infer_objects(copy=False)`. To opt-in to the future behavior, set `pd.set_option('future.no_silent_downcasting', True)`\n",
      "  df = df.replace({None: np.nan})\n"
     ]
    }
   ],
   "source": [
    "# Generate default parameter bounds\n",
    "df_list, df_name = hydrocnhs.write_model_to_df(model_dict)\n",
    "par_bound_df_list, df_name = hydrocnhs.gen_default_bounds(model_dict)\n",
    "\n",
    "# Modify the default bounds of ABM\n",
    "df_abm_bound = par_bound_df_list[2]\n",
    "df_abm_bound.loc[\"ReturnFactor.0\", [('DivAgt', 'Diversion_AgType')]] = \"[0, 0.5]\"\n",
    "df_abm_bound.loc[\"a\", [('DivAgt', 'Diversion_AgType')]] = \"[-1, 1]\"\n",
    "df_abm_bound.loc[\"b\", [('DivAgt', 'Diversion_AgType')]] = \"[-1, 1]\"\n",
    "\n",
    "# Create convertor for calibration\n",
    "converter = cali.Convertor()\n",
    "cali_inputs = converter.gen_cali_inputs(wd, df_list, par_bound_df_list)\n",
    "formatter = converter.formatter"
   ]
  },
  {
   "cell_type": "markdown",
   "metadata": {},
   "source": [
    "Third, we program the evaluation function for a genetic algorithm (GA). The mean Kling-Gupta efficiency (KGE) of the four calibration targets is adopted to represent the model performance.\n"
   ]
  },
  {
   "cell_type": "code",
   "execution_count": 13,
   "metadata": {},
   "outputs": [],
   "source": [
    "# Code evaluation function for GA algorthm\n",
    "def evaluation(individual, info):\n",
    "    cali_wd, current_generation, ith_individual, formatter, _ = info\n",
    "    name = \"{}-{}\".format(current_generation, ith_individual)\n",
    "\n",
    "    ##### individual -> model\n",
    "    # Convert 1D array to a list of dataframes.\n",
    "    df_list = cali.Convertor.to_df_list(individual, formatter)\n",
    "    # Feed dataframes in df_list to model dictionary.\n",
    "    model = deepcopy(model_dict)\n",
    "    for i, df in enumerate(df_list):\n",
    "        s = df_name[i].split(\"_\")[0]\n",
    "        model = hydrocnhs.load_df_to_model_dict(model, df, s, \"Pars\")\n",
    "\n",
    "    ##### Run simuluation\n",
    "    model = hydrocnhs.Model(model, name)\n",
    "    Q = model.run(temp, prec, pet)\n",
    "\n",
    "    ##### Get simulation data\n",
    "    # Streamflow of routing outlets.\n",
    "    cali_target = [\"WSLO\",\"DLLO\",\"ResAgt\",\"DivAgt\"]\n",
    "    cali_period = (\"1981-1-1\", \"2005-12-31\")\n",
    "    sim_Q_D = pd.DataFrame(Q, index=model.pd_date_index)[[\"WSLO\",\"DLLO\"]]\n",
    "    sim_Q_D[\"ResAgt\"] = model.dc.ResAgt[\"Release\"]\n",
    "    sim_Q_D[\"DivAgt\"] = model.dc.DivAgt[\"Diversion\"]\n",
    "    # Resample the daily simulation output to monthly outputs.\n",
    "    sim_Q_M = sim_Q_D[cali_target].resample(\"MS\").mean()\n",
    "\n",
    "    KGEs = []\n",
    "    for target in cali_target:\n",
    "        KGEs.append(hydrocnhs.Indicator().KGE(\n",
    "            x_obv=obv_flow_data[cali_period[0]:cali_period[1]][[target]],\n",
    "            y_sim=sim_Q_M[cali_period[0]:cali_period[1]][[target]]))\n",
    "\n",
    "    fitness = sum(KGEs)/4\n",
    "    return (fitness,)"
   ]
  },
  {
   "cell_type": "markdown",
   "metadata": {},
   "source": [
    "Fourth, we set up a GA for calibration. Again, we will explain calibration in more detail in the Calibration section. Here, only the code is demonstrated. Note that calibration might take some time to run, depending on your system specifications. Users can lower the `pop_size` and `max_gen` values if they want to experience the process rather than seeking convergence. To debug your code, set `paral_cores` to 1 to display the error message.\n"
   ]
  },
  {
   "cell_type": "code",
   "execution_count": 20,
   "metadata": {},
   "outputs": [
    {
     "name": "stdout",
     "output_type": "stream",
     "text": [
      "GA Calibration Guide\n",
      "Step 1: set or load (GA_auto_save.pickle).\n",
      "Step 2: run.\n",
      "[09/07 03:51:04] HydroCNHS.GA [INFO] User-provided random number generator is assigned.\n",
      "[09/07 03:51:04] HydroCNHS.GA [WARNING] Current calibration folder exists. Default to overwrite the folder!\n",
      "C:\\Users\\CL\\Documents\\GitHub\\HydroCNHS\\tutorials\\Tutorial_2-Build_a_Coupled_Natural_Human_System\\Cali_HydroABMModel_gwlf_KGE\n"
     ]
    },
    {
     "name": "stderr",
     "output_type": "stream",
     "text": [
      "[Parallel(n_jobs=-1)]: Using backend LokyBackend with 12 concurrent workers.\n",
      "[Parallel(n_jobs=-1)]: Done  26 tasks      | elapsed:   30.4s\n",
      "[Parallel(n_jobs=-1)]: Done 100 out of 100 | elapsed:  1.8min finished\n"
     ]
    },
    {
     "name": "stdout",
     "output_type": "stream",
     "text": [
      "\n",
      "=====Generation 0=====\n",
      "  Elapsed time 00:01:46\n",
      "  Min -0.52451\n",
      "  Max -0.14027\n",
      "  Avg -0.37339\n",
      "  Std 0.10851\n"
     ]
    },
    {
     "name": "stderr",
     "output_type": "stream",
     "text": [
      "[Parallel(n_jobs=-1)]: Using backend LokyBackend with 12 concurrent workers.\n",
      "[Parallel(n_jobs=-1)]: Done  26 tasks      | elapsed:   35.1s\n",
      "[Parallel(n_jobs=-1)]: Done  99 out of  99 | elapsed:  1.7min finished\n"
     ]
    },
    {
     "name": "stdout",
     "output_type": "stream",
     "text": [
      "\n",
      "=====Generation 1=====\n",
      "  Elapsed time 00:03:28\n",
      "  Min -0.39288\n",
      "  Max -0.1205\n",
      "  Avg -0.14498\n",
      "  Std 0.02978\n"
     ]
    },
    {
     "name": "stderr",
     "output_type": "stream",
     "text": [
      "[Parallel(n_jobs=-1)]: Using backend LokyBackend with 12 concurrent workers.\n",
      "[Parallel(n_jobs=-1)]: Done  26 tasks      | elapsed:   26.6s\n",
      "[Parallel(n_jobs=-1)]: Done  99 out of  99 | elapsed:  1.6min finished\n"
     ]
    },
    {
     "name": "stdout",
     "output_type": "stream",
     "text": [
      "\n",
      "=====Generation 2=====\n",
      "  Elapsed time 00:05:05\n",
      "  Min -0.23249\n",
      "  Max -0.05176\n",
      "  Avg -0.12245\n",
      "  Std 0.01507\n"
     ]
    },
    {
     "name": "stderr",
     "output_type": "stream",
     "text": [
      "[Parallel(n_jobs=-1)]: Using backend LokyBackend with 12 concurrent workers.\n",
      "[Parallel(n_jobs=-1)]: Done  26 tasks      | elapsed:   40.5s\n",
      "[Parallel(n_jobs=-1)]: Done  97 out of  97 | elapsed:  1.8min finished\n"
     ]
    },
    {
     "name": "stdout",
     "output_type": "stream",
     "text": [
      "\n",
      "=====Generation 3=====\n",
      "  Elapsed time 00:06:52\n",
      "  Min -0.25591\n",
      "  Max -0.04635\n",
      "  Avg -0.06258\n",
      "  Std 0.03904\n"
     ]
    },
    {
     "name": "stderr",
     "output_type": "stream",
     "text": [
      "[Parallel(n_jobs=-1)]: Using backend LokyBackend with 12 concurrent workers.\n",
      "[Parallel(n_jobs=-1)]: Done  26 tasks      | elapsed:   23.0s\n",
      "[Parallel(n_jobs=-1)]: Done  99 out of  99 | elapsed:  1.2min finished\n"
     ]
    },
    {
     "name": "stdout",
     "output_type": "stream",
     "text": [
      "\n",
      "=====Generation 4=====\n",
      "  Elapsed time 00:08:02\n",
      "  Min -0.16422\n",
      "  Max -0.04422\n",
      "  Avg -0.05199\n",
      "  Std 0.02204\n"
     ]
    },
    {
     "name": "stderr",
     "output_type": "stream",
     "text": [
      "[Parallel(n_jobs=-1)]: Using backend LokyBackend with 12 concurrent workers.\n",
      "[Parallel(n_jobs=-1)]: Done  26 tasks      | elapsed:   23.4s\n",
      "[Parallel(n_jobs=-1)]: Done  97 out of  97 | elapsed:  1.2min finished\n"
     ]
    },
    {
     "name": "stdout",
     "output_type": "stream",
     "text": [
      "\n",
      "=====Generation 5=====\n",
      "  Elapsed time 00:09:12\n",
      "  Min -0.25072\n",
      "  Max -0.02714\n",
      "  Avg -0.04843\n",
      "  Std 0.02365\n"
     ]
    },
    {
     "name": "stderr",
     "output_type": "stream",
     "text": [
      "[Parallel(n_jobs=-1)]: Using backend LokyBackend with 12 concurrent workers.\n",
      "[Parallel(n_jobs=-1)]: Done  26 tasks      | elapsed:   23.9s\n",
      "[Parallel(n_jobs=-1)]: Done  99 out of  99 | elapsed:  1.2min finished\n"
     ]
    },
    {
     "name": "stdout",
     "output_type": "stream",
     "text": [
      "\n",
      "=====Generation 6=====\n",
      "  Elapsed time 00:10:24\n",
      "  Min -0.22317\n",
      "  Max -0.02569\n",
      "  Avg -0.03347\n",
      "  Std 0.0311\n"
     ]
    },
    {
     "name": "stderr",
     "output_type": "stream",
     "text": [
      "[Parallel(n_jobs=-1)]: Using backend LokyBackend with 12 concurrent workers.\n",
      "[Parallel(n_jobs=-1)]: Done  26 tasks      | elapsed:   27.6s\n",
      "[Parallel(n_jobs=-1)]: Done  97 out of  97 | elapsed:  1.5min finished\n"
     ]
    },
    {
     "name": "stdout",
     "output_type": "stream",
     "text": [
      "\n",
      "=====Generation 7=====\n",
      "  Elapsed time 00:11:52\n",
      "  Min -0.13323\n",
      "  Max -0.02569\n",
      "  Avg -0.0273\n",
      "  Std 0.01161\n"
     ]
    },
    {
     "name": "stderr",
     "output_type": "stream",
     "text": [
      "[Parallel(n_jobs=-1)]: Using backend LokyBackend with 12 concurrent workers.\n",
      "[Parallel(n_jobs=-1)]: Done  26 tasks      | elapsed:   23.7s\n",
      "[Parallel(n_jobs=-1)]: Done  97 out of  97 | elapsed:  1.2min finished\n"
     ]
    },
    {
     "name": "stdout",
     "output_type": "stream",
     "text": [
      "\n",
      "=====Generation 8=====\n",
      "  Elapsed time 00:13:01\n",
      "  Min -0.20305\n",
      "  Max -0.01268\n",
      "  Avg -0.03372\n",
      "  Std 0.02991\n"
     ]
    },
    {
     "name": "stderr",
     "output_type": "stream",
     "text": [
      "[Parallel(n_jobs=-1)]: Using backend LokyBackend with 12 concurrent workers.\n",
      "[Parallel(n_jobs=-1)]: Done  26 tasks      | elapsed:   23.4s\n",
      "[Parallel(n_jobs=-1)]: Done  99 out of  99 | elapsed:  1.2min finished\n"
     ]
    },
    {
     "name": "stdout",
     "output_type": "stream",
     "text": [
      "\n",
      "=====Generation 9=====\n",
      "  Elapsed time 00:14:13\n",
      "  Min -0.17004\n",
      "  Max -0.00923\n",
      "  Avg -0.01791\n",
      "  Std 0.02219\n"
     ]
    },
    {
     "name": "stderr",
     "output_type": "stream",
     "text": [
      "[Parallel(n_jobs=-1)]: Using backend LokyBackend with 12 concurrent workers.\n",
      "[Parallel(n_jobs=-1)]: Done  26 tasks      | elapsed:   23.8s\n",
      "[Parallel(n_jobs=-1)]: Done  99 out of  99 | elapsed:  1.2min finished\n"
     ]
    },
    {
     "name": "stdout",
     "output_type": "stream",
     "text": [
      "\n",
      "=====Generation 10=====\n",
      "  Elapsed time 00:15:24\n",
      "  Min -0.38657\n",
      "  Max -0.00682\n",
      "  Avg -0.02046\n",
      "  Std 0.04735\n"
     ]
    },
    {
     "name": "stderr",
     "output_type": "stream",
     "text": [
      "[Parallel(n_jobs=-1)]: Using backend LokyBackend with 12 concurrent workers.\n",
      "[Parallel(n_jobs=-1)]: Done  26 tasks      | elapsed:   24.3s\n",
      "[Parallel(n_jobs=-1)]: Done  97 out of  97 | elapsed:  1.2min finished\n"
     ]
    },
    {
     "name": "stdout",
     "output_type": "stream",
     "text": [
      "\n",
      "=====Generation 11=====\n",
      "  Elapsed time 00:16:37\n",
      "  Min -0.26159\n",
      "  Max -0.00672\n",
      "  Avg -0.01498\n",
      "  Std 0.03208\n"
     ]
    },
    {
     "name": "stderr",
     "output_type": "stream",
     "text": [
      "[Parallel(n_jobs=-1)]: Using backend LokyBackend with 12 concurrent workers.\n",
      "[Parallel(n_jobs=-1)]: Done  26 tasks      | elapsed:   24.7s\n",
      "[Parallel(n_jobs=-1)]: Done  97 out of  97 | elapsed:  1.2min finished\n"
     ]
    },
    {
     "name": "stdout",
     "output_type": "stream",
     "text": [
      "\n",
      "=====Generation 12=====\n",
      "  Elapsed time 00:17:49\n",
      "  Min -0.11581\n",
      "  Max -0.00637\n",
      "  Avg -0.01022\n",
      "  Std 0.01467\n"
     ]
    },
    {
     "name": "stderr",
     "output_type": "stream",
     "text": [
      "[Parallel(n_jobs=-1)]: Using backend LokyBackend with 12 concurrent workers.\n",
      "[Parallel(n_jobs=-1)]: Done  26 tasks      | elapsed:   23.1s\n",
      "[Parallel(n_jobs=-1)]: Done  99 out of  99 | elapsed:  1.2min finished\n"
     ]
    },
    {
     "name": "stdout",
     "output_type": "stream",
     "text": [
      "\n",
      "=====Generation 13=====\n",
      "  Elapsed time 00:19:00\n",
      "  Min -0.04625\n",
      "  Max -0.00601\n",
      "  Avg -0.00703\n",
      "  Std 0.00431\n"
     ]
    },
    {
     "name": "stderr",
     "output_type": "stream",
     "text": [
      "[Parallel(n_jobs=-1)]: Using backend LokyBackend with 12 concurrent workers.\n",
      "[Parallel(n_jobs=-1)]: Done  26 tasks      | elapsed:   25.0s\n",
      "[Parallel(n_jobs=-1)]: Done  97 out of  97 | elapsed:  1.2min finished\n"
     ]
    },
    {
     "name": "stdout",
     "output_type": "stream",
     "text": [
      "\n",
      "=====Generation 14=====\n",
      "  Elapsed time 00:20:13\n",
      "  Min -0.38663\n",
      "  Max -0.00601\n",
      "  Avg -0.01511\n",
      "  Std 0.04116\n"
     ]
    },
    {
     "name": "stderr",
     "output_type": "stream",
     "text": [
      "[Parallel(n_jobs=-1)]: Using backend LokyBackend with 12 concurrent workers.\n",
      "[Parallel(n_jobs=-1)]: Done  26 tasks      | elapsed:   24.9s\n",
      "[Parallel(n_jobs=-1)]: Done  99 out of  99 | elapsed:  1.2min finished\n"
     ]
    },
    {
     "name": "stdout",
     "output_type": "stream",
     "text": [
      "\n",
      "=====Generation 15=====\n",
      "  Elapsed time 00:21:26\n",
      "  Min -0.24554\n",
      "  Max -0.00601\n",
      "  Avg -0.01432\n",
      "  Std 0.03447\n"
     ]
    },
    {
     "name": "stderr",
     "output_type": "stream",
     "text": [
      "[Parallel(n_jobs=-1)]: Using backend LokyBackend with 12 concurrent workers.\n",
      "[Parallel(n_jobs=-1)]: Done  26 tasks      | elapsed:   23.4s\n",
      "[Parallel(n_jobs=-1)]: Done  99 out of  99 | elapsed:  1.2min finished\n"
     ]
    },
    {
     "name": "stdout",
     "output_type": "stream",
     "text": [
      "\n",
      "=====Generation 16=====\n",
      "  Elapsed time 00:22:37\n",
      "  Min -0.13009\n",
      "  Max -0.00601\n",
      "  Avg -0.0073\n",
      "  Std 0.01235\n"
     ]
    },
    {
     "name": "stderr",
     "output_type": "stream",
     "text": [
      "[Parallel(n_jobs=-1)]: Using backend LokyBackend with 12 concurrent workers.\n",
      "[Parallel(n_jobs=-1)]: Done  26 tasks      | elapsed:   24.8s\n",
      "[Parallel(n_jobs=-1)]: Done  99 out of  99 | elapsed:  1.2min finished\n"
     ]
    },
    {
     "name": "stdout",
     "output_type": "stream",
     "text": [
      "\n",
      "=====Generation 17=====\n",
      "  Elapsed time 00:23:52\n",
      "  Min -0.22532\n",
      "  Max -0.00594\n",
      "  Avg -0.01311\n",
      "  Std 0.02779\n"
     ]
    },
    {
     "name": "stderr",
     "output_type": "stream",
     "text": [
      "[Parallel(n_jobs=-1)]: Using backend LokyBackend with 12 concurrent workers.\n",
      "[Parallel(n_jobs=-1)]: Done  26 tasks      | elapsed:   23.6s\n",
      "[Parallel(n_jobs=-1)]: Done  99 out of  99 | elapsed:  1.2min finished\n"
     ]
    },
    {
     "name": "stdout",
     "output_type": "stream",
     "text": [
      "\n",
      "=====Generation 18=====\n",
      "  Elapsed time 00:25:03\n",
      "  Min -0.37389\n",
      "  Max -0.00594\n",
      "  Avg -0.0236\n",
      "  Std 0.05755\n"
     ]
    },
    {
     "name": "stderr",
     "output_type": "stream",
     "text": [
      "[Parallel(n_jobs=-1)]: Using backend LokyBackend with 12 concurrent workers.\n",
      "[Parallel(n_jobs=-1)]: Done  26 tasks      | elapsed:   23.9s\n",
      "[Parallel(n_jobs=-1)]: Done  97 out of  97 | elapsed:  1.2min finished\n"
     ]
    },
    {
     "name": "stdout",
     "output_type": "stream",
     "text": [
      "\n",
      "=====Generation 19=====\n",
      "  Elapsed time 00:26:16\n",
      "  Min -0.27824\n",
      "  Max -0.00594\n",
      "  Avg -0.01517\n",
      "  Std 0.0372\n"
     ]
    },
    {
     "name": "stderr",
     "output_type": "stream",
     "text": [
      "[Parallel(n_jobs=-1)]: Using backend LokyBackend with 12 concurrent workers.\n",
      "[Parallel(n_jobs=-1)]: Done  26 tasks      | elapsed:   24.4s\n",
      "[Parallel(n_jobs=-1)]: Done  99 out of  99 | elapsed:  1.2min finished\n"
     ]
    },
    {
     "name": "stdout",
     "output_type": "stream",
     "text": [
      "\n",
      "=====Generation 20=====\n",
      "  Elapsed time 00:27:29\n",
      "  Min -0.21936\n",
      "  Max -0.00594\n",
      "  Avg -0.01213\n",
      "  Std 0.03379\n"
     ]
    },
    {
     "name": "stderr",
     "output_type": "stream",
     "text": [
      "[Parallel(n_jobs=-1)]: Using backend LokyBackend with 12 concurrent workers.\n",
      "[Parallel(n_jobs=-1)]: Done  26 tasks      | elapsed:   23.3s\n",
      "[Parallel(n_jobs=-1)]: Done  99 out of  99 | elapsed:  1.2min finished\n"
     ]
    },
    {
     "name": "stdout",
     "output_type": "stream",
     "text": [
      "\n",
      "=====Generation 21=====\n",
      "  Elapsed time 00:28:41\n",
      "  Min -0.28508\n",
      "  Max -0.0036\n",
      "  Avg -0.01549\n",
      "  Std 0.04224\n"
     ]
    },
    {
     "name": "stderr",
     "output_type": "stream",
     "text": [
      "[Parallel(n_jobs=-1)]: Using backend LokyBackend with 12 concurrent workers.\n",
      "[Parallel(n_jobs=-1)]: Done  26 tasks      | elapsed:   24.7s\n",
      "[Parallel(n_jobs=-1)]: Done  99 out of  99 | elapsed:  1.2min finished\n"
     ]
    },
    {
     "name": "stdout",
     "output_type": "stream",
     "text": [
      "\n",
      "=====Generation 22=====\n",
      "  Elapsed time 00:29:56\n",
      "  Min -0.38962\n",
      "  Max -0.0036\n",
      "  Avg -0.01927\n",
      "  Std 0.05778\n"
     ]
    },
    {
     "name": "stderr",
     "output_type": "stream",
     "text": [
      "[Parallel(n_jobs=-1)]: Using backend LokyBackend with 12 concurrent workers.\n",
      "[Parallel(n_jobs=-1)]: Done  26 tasks      | elapsed:   23.1s\n",
      "[Parallel(n_jobs=-1)]: Done  99 out of  99 | elapsed:  1.2min finished\n"
     ]
    },
    {
     "name": "stdout",
     "output_type": "stream",
     "text": [
      "\n",
      "=====Generation 23=====\n",
      "  Elapsed time 00:31:07\n",
      "  Min -0.34244\n",
      "  Max -0.00239\n",
      "  Avg -0.01463\n",
      "  Std 0.04689\n"
     ]
    },
    {
     "name": "stderr",
     "output_type": "stream",
     "text": [
      "[Parallel(n_jobs=-1)]: Using backend LokyBackend with 12 concurrent workers.\n",
      "[Parallel(n_jobs=-1)]: Done  26 tasks      | elapsed:   23.6s\n",
      "[Parallel(n_jobs=-1)]: Done  99 out of  99 | elapsed:  1.2min finished\n"
     ]
    },
    {
     "name": "stdout",
     "output_type": "stream",
     "text": [
      "\n",
      "=====Generation 24=====\n",
      "  Elapsed time 00:32:21\n",
      "  Min -0.3446\n",
      "  Max -0.00166\n",
      "  Avg -0.01085\n",
      "  Std 0.0426\n"
     ]
    },
    {
     "name": "stderr",
     "output_type": "stream",
     "text": [
      "[Parallel(n_jobs=-1)]: Using backend LokyBackend with 12 concurrent workers.\n",
      "[Parallel(n_jobs=-1)]: Done  26 tasks      | elapsed:   24.7s\n",
      "[Parallel(n_jobs=-1)]: Done  99 out of  99 | elapsed:  1.2min finished\n"
     ]
    },
    {
     "name": "stdout",
     "output_type": "stream",
     "text": [
      "\n",
      "=====Generation 25=====\n",
      "  Elapsed time 00:33:34\n",
      "  Min -0.24432\n",
      "  Max -0.00098\n",
      "  Avg -0.0105\n",
      "  Std 0.03533\n"
     ]
    },
    {
     "name": "stderr",
     "output_type": "stream",
     "text": [
      "[Parallel(n_jobs=-1)]: Using backend LokyBackend with 12 concurrent workers.\n",
      "[Parallel(n_jobs=-1)]: Done  26 tasks      | elapsed:   23.4s\n",
      "[Parallel(n_jobs=-1)]: Done  99 out of  99 | elapsed:  1.2min finished\n"
     ]
    },
    {
     "name": "stdout",
     "output_type": "stream",
     "text": [
      "\n",
      "=====Generation 26=====\n",
      "  Elapsed time 00:34:46\n",
      "  Min -0.20114\n",
      "  Max -0.00098\n",
      "  Avg -0.00595\n",
      "  Std 0.02597\n"
     ]
    },
    {
     "name": "stderr",
     "output_type": "stream",
     "text": [
      "[Parallel(n_jobs=-1)]: Using backend LokyBackend with 12 concurrent workers.\n",
      "[Parallel(n_jobs=-1)]: Done  26 tasks      | elapsed:   25.7s\n",
      "[Parallel(n_jobs=-1)]: Done  99 out of  99 | elapsed:  1.3min finished\n"
     ]
    },
    {
     "name": "stdout",
     "output_type": "stream",
     "text": [
      "\n",
      "=====Generation 27=====\n",
      "  Elapsed time 00:36:03\n",
      "  Min -0.24446\n",
      "  Max -0.00098\n",
      "  Avg -0.00792\n",
      "  Std 0.03366\n"
     ]
    },
    {
     "name": "stderr",
     "output_type": "stream",
     "text": [
      "[Parallel(n_jobs=-1)]: Using backend LokyBackend with 12 concurrent workers.\n",
      "[Parallel(n_jobs=-1)]: Done  26 tasks      | elapsed:   23.9s\n",
      "[Parallel(n_jobs=-1)]: Done  99 out of  99 | elapsed:  1.4min finished\n"
     ]
    },
    {
     "name": "stdout",
     "output_type": "stream",
     "text": [
      "\n",
      "=====Generation 28=====\n",
      "  Elapsed time 00:37:28\n",
      "  Min -0.27293\n",
      "  Max -0.00096\n",
      "  Avg -0.00979\n",
      "  Std 0.03501\n"
     ]
    },
    {
     "name": "stderr",
     "output_type": "stream",
     "text": [
      "[Parallel(n_jobs=-1)]: Using backend LokyBackend with 12 concurrent workers.\n",
      "[Parallel(n_jobs=-1)]: Done  26 tasks      | elapsed:   32.0s\n",
      "[Parallel(n_jobs=-1)]: Done  99 out of  99 | elapsed:  1.6min finished\n"
     ]
    },
    {
     "name": "stdout",
     "output_type": "stream",
     "text": [
      "\n",
      "=====Generation 29=====\n",
      "  Elapsed time 00:39:05\n",
      "  Min -0.25112\n",
      "  Max -0.00078\n",
      "  Avg -0.01111\n",
      "  Std 0.04021\n"
     ]
    },
    {
     "name": "stderr",
     "output_type": "stream",
     "text": [
      "[Parallel(n_jobs=-1)]: Using backend LokyBackend with 12 concurrent workers.\n",
      "[Parallel(n_jobs=-1)]: Done  26 tasks      | elapsed:   31.4s\n",
      "[Parallel(n_jobs=-1)]: Done  99 out of  99 | elapsed:  1.6min finished\n"
     ]
    },
    {
     "name": "stdout",
     "output_type": "stream",
     "text": [
      "\n",
      "=====Generation 30=====\n",
      "  Elapsed time 00:40:41\n",
      "  Min -0.20875\n",
      "  Max -0.00078\n",
      "  Avg -0.00725\n",
      "  Std 0.02708\n"
     ]
    },
    {
     "name": "stderr",
     "output_type": "stream",
     "text": [
      "[Parallel(n_jobs=-1)]: Using backend LokyBackend with 12 concurrent workers.\n",
      "[Parallel(n_jobs=-1)]: Done  26 tasks      | elapsed:   31.3s\n",
      "[Parallel(n_jobs=-1)]: Done  97 out of  97 | elapsed:  1.6min finished\n"
     ]
    },
    {
     "name": "stdout",
     "output_type": "stream",
     "text": [
      "\n",
      "=====Generation 31=====\n",
      "  Elapsed time 00:42:16\n",
      "  Min -0.21676\n",
      "  Max -0.00078\n",
      "  Avg -0.00539\n",
      "  Std 0.02404\n"
     ]
    },
    {
     "name": "stderr",
     "output_type": "stream",
     "text": [
      "[Parallel(n_jobs=-1)]: Using backend LokyBackend with 12 concurrent workers.\n",
      "[Parallel(n_jobs=-1)]: Done  26 tasks      | elapsed:   31.7s\n",
      "[Parallel(n_jobs=-1)]: Done  99 out of  99 | elapsed:  1.6min finished\n"
     ]
    },
    {
     "name": "stdout",
     "output_type": "stream",
     "text": [
      "\n",
      "=====Generation 32=====\n",
      "  Elapsed time 00:43:52\n",
      "  Min -0.36322\n",
      "  Max -0.00078\n",
      "  Avg -0.01137\n",
      "  Std 0.04529\n"
     ]
    },
    {
     "name": "stderr",
     "output_type": "stream",
     "text": [
      "[Parallel(n_jobs=-1)]: Using backend LokyBackend with 12 concurrent workers.\n",
      "[Parallel(n_jobs=-1)]: Done  26 tasks      | elapsed:   30.8s\n",
      "[Parallel(n_jobs=-1)]: Done  99 out of  99 | elapsed:  1.6min finished\n"
     ]
    },
    {
     "name": "stdout",
     "output_type": "stream",
     "text": [
      "\n",
      "=====Generation 33=====\n",
      "  Elapsed time 00:45:28\n",
      "  Min -0.20993\n",
      "  Max -0.00071\n",
      "  Avg -0.00708\n",
      "  Std 0.02607\n"
     ]
    },
    {
     "name": "stderr",
     "output_type": "stream",
     "text": [
      "[Parallel(n_jobs=-1)]: Using backend LokyBackend with 12 concurrent workers.\n",
      "[Parallel(n_jobs=-1)]: Done  26 tasks      | elapsed:   31.7s\n",
      "[Parallel(n_jobs=-1)]: Done  99 out of  99 | elapsed:  1.6min finished\n"
     ]
    },
    {
     "name": "stdout",
     "output_type": "stream",
     "text": [
      "\n",
      "=====Generation 34=====\n",
      "  Elapsed time 00:47:04\n",
      "  Min -0.32249\n",
      "  Max -0.00071\n",
      "  Avg -0.01028\n",
      "  Std 0.04067\n"
     ]
    },
    {
     "name": "stderr",
     "output_type": "stream",
     "text": [
      "[Parallel(n_jobs=-1)]: Using backend LokyBackend with 12 concurrent workers.\n",
      "[Parallel(n_jobs=-1)]: Done  26 tasks      | elapsed:   32.3s\n",
      "[Parallel(n_jobs=-1)]: Done  99 out of  99 | elapsed:  1.6min finished\n"
     ]
    },
    {
     "name": "stdout",
     "output_type": "stream",
     "text": [
      "\n",
      "=====Generation 35=====\n",
      "  Elapsed time 00:48:40\n",
      "  Min -0.11674\n",
      "  Max -0.00071\n",
      "  Avg -0.00254\n",
      "  Std 0.01216\n"
     ]
    },
    {
     "name": "stderr",
     "output_type": "stream",
     "text": [
      "[Parallel(n_jobs=-1)]: Using backend LokyBackend with 12 concurrent workers.\n",
      "[Parallel(n_jobs=-1)]: Done  26 tasks      | elapsed:   31.7s\n",
      "[Parallel(n_jobs=-1)]: Done  99 out of  99 | elapsed:  1.6min finished\n"
     ]
    },
    {
     "name": "stdout",
     "output_type": "stream",
     "text": [
      "\n",
      "=====Generation 36=====\n",
      "  Elapsed time 00:50:17\n",
      "  Min -0.30019\n",
      "  Max -0.00071\n",
      "  Avg -0.01519\n",
      "  Std 0.04662\n"
     ]
    },
    {
     "name": "stderr",
     "output_type": "stream",
     "text": [
      "[Parallel(n_jobs=-1)]: Using backend LokyBackend with 12 concurrent workers.\n",
      "[Parallel(n_jobs=-1)]: Done  26 tasks      | elapsed:   31.6s\n",
      "[Parallel(n_jobs=-1)]: Done  99 out of  99 | elapsed:  1.6min finished\n"
     ]
    },
    {
     "name": "stdout",
     "output_type": "stream",
     "text": [
      "\n",
      "=====Generation 37=====\n",
      "  Elapsed time 00:51:53\n",
      "  Min -0.23072\n",
      "  Max -0.00068\n",
      "  Avg -0.0126\n",
      "  Std 0.04424\n"
     ]
    },
    {
     "name": "stderr",
     "output_type": "stream",
     "text": [
      "[Parallel(n_jobs=-1)]: Using backend LokyBackend with 12 concurrent workers.\n",
      "[Parallel(n_jobs=-1)]: Done  26 tasks      | elapsed:   31.5s\n",
      "[Parallel(n_jobs=-1)]: Done  99 out of  99 | elapsed:  1.6min finished\n"
     ]
    },
    {
     "name": "stdout",
     "output_type": "stream",
     "text": [
      "\n",
      "=====Generation 38=====\n",
      "  Elapsed time 00:53:30\n",
      "  Min -0.19849\n",
      "  Max -0.00068\n",
      "  Avg -0.00705\n",
      "  Std 0.0283\n"
     ]
    },
    {
     "name": "stderr",
     "output_type": "stream",
     "text": [
      "[Parallel(n_jobs=-1)]: Using backend LokyBackend with 12 concurrent workers.\n",
      "[Parallel(n_jobs=-1)]: Done  26 tasks      | elapsed:   31.4s\n",
      "[Parallel(n_jobs=-1)]: Done  99 out of  99 | elapsed:  1.6min finished\n"
     ]
    },
    {
     "name": "stdout",
     "output_type": "stream",
     "text": [
      "\n",
      "=====Generation 39=====\n",
      "  Elapsed time 00:55:06\n",
      "  Min -0.39265\n",
      "  Max -0.00068\n",
      "  Avg -0.01698\n",
      "  Std 0.05442\n"
     ]
    },
    {
     "name": "stderr",
     "output_type": "stream",
     "text": [
      "[Parallel(n_jobs=-1)]: Using backend LokyBackend with 12 concurrent workers.\n",
      "[Parallel(n_jobs=-1)]: Done  26 tasks      | elapsed:   31.1s\n",
      "[Parallel(n_jobs=-1)]: Done  99 out of  99 | elapsed:  1.6min finished\n"
     ]
    },
    {
     "name": "stdout",
     "output_type": "stream",
     "text": [
      "\n",
      "=====Generation 40=====\n",
      "  Elapsed time 00:56:43\n",
      "  Min -0.22521\n",
      "  Max -0.00068\n",
      "  Avg -0.00834\n",
      "  Std 0.03406\n"
     ]
    },
    {
     "name": "stderr",
     "output_type": "stream",
     "text": [
      "[Parallel(n_jobs=-1)]: Using backend LokyBackend with 12 concurrent workers.\n",
      "[Parallel(n_jobs=-1)]: Done  26 tasks      | elapsed:   31.3s\n",
      "[Parallel(n_jobs=-1)]: Done  99 out of  99 | elapsed:  1.6min finished\n"
     ]
    },
    {
     "name": "stdout",
     "output_type": "stream",
     "text": [
      "\n",
      "=====Generation 41=====\n",
      "  Elapsed time 00:58:19\n",
      "  Min -0.21785\n",
      "  Max -0.00068\n",
      "  Avg -0.0095\n",
      "  Std 0.03443\n"
     ]
    },
    {
     "name": "stderr",
     "output_type": "stream",
     "text": [
      "[Parallel(n_jobs=-1)]: Using backend LokyBackend with 12 concurrent workers.\n",
      "[Parallel(n_jobs=-1)]: Done  26 tasks      | elapsed:   32.0s\n",
      "[Parallel(n_jobs=-1)]: Done  99 out of  99 | elapsed:  1.6min finished\n"
     ]
    },
    {
     "name": "stdout",
     "output_type": "stream",
     "text": [
      "\n",
      "=====Generation 42=====\n",
      "  Elapsed time 00:59:55\n",
      "  Min -0.14694\n",
      "  Max -0.00068\n",
      "  Avg -0.00801\n",
      "  Std 0.02602\n"
     ]
    },
    {
     "name": "stderr",
     "output_type": "stream",
     "text": [
      "[Parallel(n_jobs=-1)]: Using backend LokyBackend with 12 concurrent workers.\n",
      "[Parallel(n_jobs=-1)]: Done  26 tasks      | elapsed:   31.4s\n",
      "[Parallel(n_jobs=-1)]: Done  99 out of  99 | elapsed:  1.6min finished\n"
     ]
    },
    {
     "name": "stdout",
     "output_type": "stream",
     "text": [
      "\n",
      "=====Generation 43=====\n",
      "  Elapsed time 01:01:32\n",
      "  Min -0.39707\n",
      "  Max -0.00068\n",
      "  Avg -0.01454\n",
      "  Std 0.05227\n"
     ]
    },
    {
     "name": "stderr",
     "output_type": "stream",
     "text": [
      "[Parallel(n_jobs=-1)]: Using backend LokyBackend with 12 concurrent workers.\n",
      "[Parallel(n_jobs=-1)]: Done  26 tasks      | elapsed:   31.6s\n",
      "[Parallel(n_jobs=-1)]: Done  99 out of  99 | elapsed:  1.6min finished\n"
     ]
    },
    {
     "name": "stdout",
     "output_type": "stream",
     "text": [
      "\n",
      "=====Generation 44=====\n",
      "  Elapsed time 01:03:09\n",
      "  Min -0.24329\n",
      "  Max -0.00068\n",
      "  Avg -0.00653\n",
      "  Std 0.02794\n"
     ]
    },
    {
     "name": "stderr",
     "output_type": "stream",
     "text": [
      "[Parallel(n_jobs=-1)]: Using backend LokyBackend with 12 concurrent workers.\n",
      "[Parallel(n_jobs=-1)]: Done  26 tasks      | elapsed:   31.5s\n",
      "[Parallel(n_jobs=-1)]: Done  99 out of  99 | elapsed:  1.6min finished\n"
     ]
    },
    {
     "name": "stdout",
     "output_type": "stream",
     "text": [
      "\n",
      "=====Generation 45=====\n",
      "  Elapsed time 01:04:46\n",
      "  Min -0.21677\n",
      "  Max -0.00068\n",
      "  Avg -0.01221\n",
      "  Std 0.03801\n"
     ]
    },
    {
     "name": "stderr",
     "output_type": "stream",
     "text": [
      "[Parallel(n_jobs=-1)]: Using backend LokyBackend with 12 concurrent workers.\n",
      "[Parallel(n_jobs=-1)]: Done  26 tasks      | elapsed:   31.7s\n",
      "[Parallel(n_jobs=-1)]: Done  99 out of  99 | elapsed:  1.6min finished\n"
     ]
    },
    {
     "name": "stdout",
     "output_type": "stream",
     "text": [
      "\n",
      "=====Generation 46=====\n",
      "  Elapsed time 01:06:21\n",
      "  Min -0.2109\n",
      "  Max -0.00068\n",
      "  Avg -0.01085\n",
      "  Std 0.03844\n"
     ]
    },
    {
     "name": "stderr",
     "output_type": "stream",
     "text": [
      "[Parallel(n_jobs=-1)]: Using backend LokyBackend with 12 concurrent workers.\n",
      "[Parallel(n_jobs=-1)]: Done  26 tasks      | elapsed:   31.3s\n",
      "[Parallel(n_jobs=-1)]: Done  99 out of  99 | elapsed:  1.6min finished\n"
     ]
    },
    {
     "name": "stdout",
     "output_type": "stream",
     "text": [
      "\n",
      "=====Generation 47=====\n",
      "  Elapsed time 01:07:58\n",
      "  Min -0.25041\n",
      "  Max -0.00068\n",
      "  Avg -0.00667\n",
      "  Std 0.02787\n"
     ]
    },
    {
     "name": "stderr",
     "output_type": "stream",
     "text": [
      "[Parallel(n_jobs=-1)]: Using backend LokyBackend with 12 concurrent workers.\n",
      "[Parallel(n_jobs=-1)]: Done  26 tasks      | elapsed:   31.4s\n",
      "[Parallel(n_jobs=-1)]: Done  99 out of  99 | elapsed:  1.6min finished\n"
     ]
    },
    {
     "name": "stdout",
     "output_type": "stream",
     "text": [
      "\n",
      "=====Generation 48=====\n",
      "  Elapsed time 01:09:34\n",
      "  Min -0.21696\n",
      "  Max -0.00068\n",
      "  Avg -0.00836\n",
      "  Std 0.03133\n"
     ]
    },
    {
     "name": "stderr",
     "output_type": "stream",
     "text": [
      "[Parallel(n_jobs=-1)]: Using backend LokyBackend with 12 concurrent workers.\n",
      "[Parallel(n_jobs=-1)]: Done  26 tasks      | elapsed:   31.0s\n",
      "[Parallel(n_jobs=-1)]: Done  99 out of  99 | elapsed:  1.6min finished\n"
     ]
    },
    {
     "name": "stdout",
     "output_type": "stream",
     "text": [
      "\n",
      "=====Generation 49=====\n",
      "  Elapsed time 01:11:11\n",
      "  Min -0.34337\n",
      "  Max -0.00068\n",
      "  Avg -0.01222\n",
      "  Std 0.04709\n"
     ]
    },
    {
     "name": "stderr",
     "output_type": "stream",
     "text": [
      "[Parallel(n_jobs=-1)]: Using backend LokyBackend with 12 concurrent workers.\n",
      "[Parallel(n_jobs=-1)]: Done  26 tasks      | elapsed:   31.1s\n",
      "[Parallel(n_jobs=-1)]: Done  99 out of  99 | elapsed:  1.6min finished\n"
     ]
    },
    {
     "name": "stdout",
     "output_type": "stream",
     "text": [
      "\n",
      "=====Generation 50=====\n",
      "  Elapsed time 01:12:48\n",
      "  Min -0.24\n",
      "  Max -0.00068\n",
      "  Avg -0.00844\n",
      "  Std 0.03337\n"
     ]
    },
    {
     "name": "stderr",
     "output_type": "stream",
     "text": [
      "[Parallel(n_jobs=-1)]: Using backend LokyBackend with 12 concurrent workers.\n",
      "[Parallel(n_jobs=-1)]: Done  26 tasks      | elapsed:   31.5s\n",
      "[Parallel(n_jobs=-1)]: Done  99 out of  99 | elapsed:  1.6min finished\n"
     ]
    },
    {
     "name": "stdout",
     "output_type": "stream",
     "text": [
      "\n",
      "=====Generation 51=====\n",
      "  Elapsed time 01:14:24\n",
      "  Min -0.24331\n",
      "  Max -0.00068\n",
      "  Avg -0.01058\n",
      "  Std 0.03437\n"
     ]
    },
    {
     "name": "stderr",
     "output_type": "stream",
     "text": [
      "[Parallel(n_jobs=-1)]: Using backend LokyBackend with 12 concurrent workers.\n",
      "[Parallel(n_jobs=-1)]: Done  26 tasks      | elapsed:   31.1s\n",
      "[Parallel(n_jobs=-1)]: Done  99 out of  99 | elapsed:  1.6min finished\n"
     ]
    },
    {
     "name": "stdout",
     "output_type": "stream",
     "text": [
      "\n",
      "=====Generation 52=====\n",
      "  Elapsed time 01:16:01\n",
      "  Min -0.23153\n",
      "  Max -0.00068\n",
      "  Avg -0.00496\n",
      "  Std 0.02466\n"
     ]
    },
    {
     "name": "stderr",
     "output_type": "stream",
     "text": [
      "[Parallel(n_jobs=-1)]: Using backend LokyBackend with 12 concurrent workers.\n",
      "[Parallel(n_jobs=-1)]: Done  26 tasks      | elapsed:   31.2s\n",
      "[Parallel(n_jobs=-1)]: Done  99 out of  99 | elapsed:  1.6min finished\n"
     ]
    },
    {
     "name": "stdout",
     "output_type": "stream",
     "text": [
      "\n",
      "=====Generation 53=====\n",
      "  Elapsed time 01:17:38\n",
      "  Min -0.01433\n",
      "  Max -0.00068\n",
      "  Avg -0.00098\n",
      "  Std 0.00178\n"
     ]
    },
    {
     "name": "stderr",
     "output_type": "stream",
     "text": [
      "[Parallel(n_jobs=-1)]: Using backend LokyBackend with 12 concurrent workers.\n",
      "[Parallel(n_jobs=-1)]: Done  26 tasks      | elapsed:   32.0s\n",
      "[Parallel(n_jobs=-1)]: Done  97 out of  97 | elapsed:  1.6min finished\n"
     ]
    },
    {
     "name": "stdout",
     "output_type": "stream",
     "text": [
      "\n",
      "=====Generation 54=====\n",
      "  Elapsed time 01:19:14\n",
      "  Min -0.23576\n",
      "  Max -0.00068\n",
      "  Avg -0.01222\n",
      "  Std 0.03525\n"
     ]
    },
    {
     "name": "stderr",
     "output_type": "stream",
     "text": [
      "[Parallel(n_jobs=-1)]: Using backend LokyBackend with 12 concurrent workers.\n",
      "[Parallel(n_jobs=-1)]: Done  26 tasks      | elapsed:   32.1s\n",
      "[Parallel(n_jobs=-1)]: Done  99 out of  99 | elapsed:  1.6min finished\n"
     ]
    },
    {
     "name": "stdout",
     "output_type": "stream",
     "text": [
      "\n",
      "=====Generation 55=====\n",
      "  Elapsed time 01:20:51\n",
      "  Min -0.11684\n",
      "  Max -0.00068\n",
      "  Avg -0.00251\n",
      "  Std 0.01217\n"
     ]
    },
    {
     "name": "stderr",
     "output_type": "stream",
     "text": [
      "[Parallel(n_jobs=-1)]: Using backend LokyBackend with 12 concurrent workers.\n",
      "[Parallel(n_jobs=-1)]: Done  26 tasks      | elapsed:   31.3s\n",
      "[Parallel(n_jobs=-1)]: Done  99 out of  99 | elapsed:  1.6min finished\n"
     ]
    },
    {
     "name": "stdout",
     "output_type": "stream",
     "text": [
      "\n",
      "=====Generation 56=====\n",
      "  Elapsed time 01:22:28\n",
      "  Min -0.22455\n",
      "  Max -0.00068\n",
      "  Avg -0.01179\n",
      "  Std 0.04091\n"
     ]
    },
    {
     "name": "stderr",
     "output_type": "stream",
     "text": [
      "[Parallel(n_jobs=-1)]: Using backend LokyBackend with 12 concurrent workers.\n",
      "[Parallel(n_jobs=-1)]: Done  26 tasks      | elapsed:   32.2s\n",
      "[Parallel(n_jobs=-1)]: Done  99 out of  99 | elapsed:  1.6min finished\n"
     ]
    },
    {
     "name": "stdout",
     "output_type": "stream",
     "text": [
      "\n",
      "=====Generation 57=====\n",
      "  Elapsed time 01:24:06\n",
      "  Min -0.21405\n",
      "  Max -0.00068\n",
      "  Avg -0.00711\n",
      "  Std 0.03078\n"
     ]
    },
    {
     "name": "stderr",
     "output_type": "stream",
     "text": [
      "[Parallel(n_jobs=-1)]: Using backend LokyBackend with 12 concurrent workers.\n",
      "[Parallel(n_jobs=-1)]: Done  26 tasks      | elapsed:   31.6s\n",
      "[Parallel(n_jobs=-1)]: Done  99 out of  99 | elapsed:  1.6min finished\n"
     ]
    },
    {
     "name": "stdout",
     "output_type": "stream",
     "text": [
      "\n",
      "=====Generation 58=====\n",
      "  Elapsed time 01:25:42\n",
      "  Min -0.25207\n",
      "  Max -0.00068\n",
      "  Avg -0.00935\n",
      "  Std 0.03653\n"
     ]
    },
    {
     "name": "stderr",
     "output_type": "stream",
     "text": [
      "[Parallel(n_jobs=-1)]: Using backend LokyBackend with 12 concurrent workers.\n",
      "[Parallel(n_jobs=-1)]: Done  26 tasks      | elapsed:   31.4s\n",
      "[Parallel(n_jobs=-1)]: Done  99 out of  99 | elapsed:  1.6min finished\n"
     ]
    },
    {
     "name": "stdout",
     "output_type": "stream",
     "text": [
      "\n",
      "=====Generation 59=====\n",
      "  Elapsed time 01:27:19\n",
      "  Min -0.19404\n",
      "  Max -0.00068\n",
      "  Avg -0.00726\n",
      "  Std 0.02621\n"
     ]
    },
    {
     "name": "stderr",
     "output_type": "stream",
     "text": [
      "[Parallel(n_jobs=-1)]: Using backend LokyBackend with 12 concurrent workers.\n",
      "[Parallel(n_jobs=-1)]: Done  26 tasks      | elapsed:   31.4s\n",
      "[Parallel(n_jobs=-1)]: Done  99 out of  99 | elapsed:  1.6min finished\n"
     ]
    },
    {
     "name": "stdout",
     "output_type": "stream",
     "text": [
      "\n",
      "=====Generation 60=====\n",
      "  Elapsed time 01:28:58\n",
      "  Min -0.15914\n",
      "  Max -0.00068\n",
      "  Avg -0.0039\n",
      "  Std 0.01778\n"
     ]
    },
    {
     "name": "stderr",
     "output_type": "stream",
     "text": [
      "[Parallel(n_jobs=-1)]: Using backend LokyBackend with 12 concurrent workers.\n",
      "[Parallel(n_jobs=-1)]: Done  26 tasks      | elapsed:   31.8s\n",
      "[Parallel(n_jobs=-1)]: Done  99 out of  99 | elapsed:  1.6min finished\n"
     ]
    },
    {
     "name": "stdout",
     "output_type": "stream",
     "text": [
      "\n",
      "=====Generation 61=====\n",
      "  Elapsed time 01:30:35\n",
      "  Min -0.12375\n",
      "  Max -0.00062\n",
      "  Avg -0.00679\n",
      "  Std 0.02178\n"
     ]
    },
    {
     "name": "stderr",
     "output_type": "stream",
     "text": [
      "[Parallel(n_jobs=-1)]: Using backend LokyBackend with 12 concurrent workers.\n",
      "[Parallel(n_jobs=-1)]: Done  26 tasks      | elapsed:   31.8s\n",
      "[Parallel(n_jobs=-1)]: Done  99 out of  99 | elapsed:  1.6min finished\n"
     ]
    },
    {
     "name": "stdout",
     "output_type": "stream",
     "text": [
      "\n",
      "=====Generation 62=====\n",
      "  Elapsed time 01:32:13\n",
      "  Min -0.38907\n",
      "  Max -0.00054\n",
      "  Avg -0.01589\n",
      "  Std 0.05268\n"
     ]
    },
    {
     "name": "stderr",
     "output_type": "stream",
     "text": [
      "[Parallel(n_jobs=-1)]: Using backend LokyBackend with 12 concurrent workers.\n",
      "[Parallel(n_jobs=-1)]: Done  26 tasks      | elapsed:   31.9s\n",
      "[Parallel(n_jobs=-1)]: Done  99 out of  99 | elapsed:  1.6min finished\n"
     ]
    },
    {
     "name": "stdout",
     "output_type": "stream",
     "text": [
      "\n",
      "=====Generation 63=====\n",
      "  Elapsed time 01:33:51\n",
      "  Min -0.04684\n",
      "  Max -0.00054\n",
      "  Avg -0.00105\n",
      "  Std 0.00462\n"
     ]
    },
    {
     "name": "stderr",
     "output_type": "stream",
     "text": [
      "[Parallel(n_jobs=-1)]: Using backend LokyBackend with 12 concurrent workers.\n",
      "[Parallel(n_jobs=-1)]: Done  26 tasks      | elapsed:   31.6s\n",
      "[Parallel(n_jobs=-1)]: Done  99 out of  99 | elapsed:  1.6min finished\n"
     ]
    },
    {
     "name": "stdout",
     "output_type": "stream",
     "text": [
      "\n",
      "=====Generation 64=====\n",
      "  Elapsed time 01:35:30\n",
      "  Min -0.24265\n",
      "  Max -0.00049\n",
      "  Avg -0.01477\n",
      "  Std 0.04839\n"
     ]
    },
    {
     "name": "stderr",
     "output_type": "stream",
     "text": [
      "[Parallel(n_jobs=-1)]: Using backend LokyBackend with 12 concurrent workers.\n",
      "[Parallel(n_jobs=-1)]: Done  26 tasks      | elapsed:   32.0s\n",
      "[Parallel(n_jobs=-1)]: Done  99 out of  99 | elapsed:  1.6min finished\n"
     ]
    },
    {
     "name": "stdout",
     "output_type": "stream",
     "text": [
      "\n",
      "=====Generation 65=====\n",
      "  Elapsed time 01:37:08\n",
      "  Min -0.02398\n",
      "  Max -0.00049\n",
      "  Avg -0.00078\n",
      "  Std 0.00237\n"
     ]
    },
    {
     "name": "stderr",
     "output_type": "stream",
     "text": [
      "[Parallel(n_jobs=-1)]: Using backend LokyBackend with 12 concurrent workers.\n",
      "[Parallel(n_jobs=-1)]: Done  26 tasks      | elapsed:   31.6s\n",
      "[Parallel(n_jobs=-1)]: Done  97 out of  97 | elapsed:  1.6min finished\n"
     ]
    },
    {
     "name": "stdout",
     "output_type": "stream",
     "text": [
      "\n",
      "=====Generation 66=====\n",
      "  Elapsed time 01:38:44\n",
      "  Min -0.05726\n",
      "  Max -0.00049\n",
      "  Avg -0.00353\n",
      "  Std 0.01129\n"
     ]
    },
    {
     "name": "stderr",
     "output_type": "stream",
     "text": [
      "[Parallel(n_jobs=-1)]: Using backend LokyBackend with 12 concurrent workers.\n",
      "[Parallel(n_jobs=-1)]: Done  26 tasks      | elapsed:   31.5s\n",
      "[Parallel(n_jobs=-1)]: Done  99 out of  99 | elapsed:  1.6min finished\n"
     ]
    },
    {
     "name": "stdout",
     "output_type": "stream",
     "text": [
      "\n",
      "=====Generation 67=====\n",
      "  Elapsed time 01:40:21\n",
      "  Min -0.20807\n",
      "  Max -0.00049\n",
      "  Avg -0.00476\n",
      "  Std 0.02414\n"
     ]
    },
    {
     "name": "stderr",
     "output_type": "stream",
     "text": [
      "[Parallel(n_jobs=-1)]: Using backend LokyBackend with 12 concurrent workers.\n",
      "[Parallel(n_jobs=-1)]: Done  26 tasks      | elapsed:   31.5s\n",
      "[Parallel(n_jobs=-1)]: Done  99 out of  99 | elapsed:  1.6min finished\n"
     ]
    },
    {
     "name": "stdout",
     "output_type": "stream",
     "text": [
      "\n",
      "=====Generation 68=====\n",
      "  Elapsed time 01:41:58\n",
      "  Min -0.11335\n",
      "  Max -0.00049\n",
      "  Avg -0.00382\n",
      "  Std 0.01652\n"
     ]
    },
    {
     "name": "stderr",
     "output_type": "stream",
     "text": [
      "[Parallel(n_jobs=-1)]: Using backend LokyBackend with 12 concurrent workers.\n",
      "[Parallel(n_jobs=-1)]: Done  26 tasks      | elapsed:   31.1s\n",
      "[Parallel(n_jobs=-1)]: Done  99 out of  99 | elapsed:  1.6min finished\n"
     ]
    },
    {
     "name": "stdout",
     "output_type": "stream",
     "text": [
      "\n",
      "=====Generation 69=====\n",
      "  Elapsed time 01:43:36\n",
      "  Min -0.2274\n",
      "  Max -0.00049\n",
      "  Avg -0.00703\n",
      "  Std 0.03209\n"
     ]
    },
    {
     "name": "stderr",
     "output_type": "stream",
     "text": [
      "[Parallel(n_jobs=-1)]: Using backend LokyBackend with 12 concurrent workers.\n",
      "[Parallel(n_jobs=-1)]: Done  26 tasks      | elapsed:   31.7s\n",
      "[Parallel(n_jobs=-1)]: Done  99 out of  99 | elapsed:  1.6min finished\n"
     ]
    },
    {
     "name": "stdout",
     "output_type": "stream",
     "text": [
      "\n",
      "=====Generation 70=====\n",
      "  Elapsed time 01:45:12\n",
      "  Min -0.39067\n",
      "  Max -0.00048\n",
      "  Avg -0.00751\n",
      "  Std 0.04227\n"
     ]
    },
    {
     "name": "stderr",
     "output_type": "stream",
     "text": [
      "[Parallel(n_jobs=-1)]: Using backend LokyBackend with 12 concurrent workers.\n",
      "[Parallel(n_jobs=-1)]: Done  26 tasks      | elapsed:   31.7s\n",
      "[Parallel(n_jobs=-1)]: Done  99 out of  99 | elapsed:  1.6min finished\n"
     ]
    },
    {
     "name": "stdout",
     "output_type": "stream",
     "text": [
      "\n",
      "=====Generation 71=====\n",
      "  Elapsed time 01:46:49\n",
      "  Min -0.22318\n",
      "  Max -0.00048\n",
      "  Avg -0.00922\n",
      "  Std 0.03448\n"
     ]
    },
    {
     "name": "stderr",
     "output_type": "stream",
     "text": [
      "[Parallel(n_jobs=-1)]: Using backend LokyBackend with 12 concurrent workers.\n",
      "[Parallel(n_jobs=-1)]: Done  26 tasks      | elapsed:   31.5s\n",
      "[Parallel(n_jobs=-1)]: Done  99 out of  99 | elapsed:  1.6min finished\n"
     ]
    },
    {
     "name": "stdout",
     "output_type": "stream",
     "text": [
      "\n",
      "=====Generation 72=====\n",
      "  Elapsed time 01:48:26\n",
      "  Min -0.1891\n",
      "  Max -0.00048\n",
      "  Avg -0.00937\n",
      "  Std 0.031\n"
     ]
    },
    {
     "name": "stderr",
     "output_type": "stream",
     "text": [
      "[Parallel(n_jobs=-1)]: Using backend LokyBackend with 12 concurrent workers.\n",
      "[Parallel(n_jobs=-1)]: Done  26 tasks      | elapsed:   31.7s\n",
      "[Parallel(n_jobs=-1)]: Done  99 out of  99 | elapsed:  1.6min finished\n"
     ]
    },
    {
     "name": "stdout",
     "output_type": "stream",
     "text": [
      "\n",
      "=====Generation 73=====\n",
      "  Elapsed time 01:50:03\n",
      "  Min -0.2025\n",
      "  Max -0.00048\n",
      "  Avg -0.00711\n",
      "  Std 0.02845\n"
     ]
    },
    {
     "name": "stderr",
     "output_type": "stream",
     "text": [
      "[Parallel(n_jobs=-1)]: Using backend LokyBackend with 12 concurrent workers.\n",
      "[Parallel(n_jobs=-1)]: Done  26 tasks      | elapsed:   31.3s\n",
      "[Parallel(n_jobs=-1)]: Done  99 out of  99 | elapsed:  1.6min finished\n"
     ]
    },
    {
     "name": "stdout",
     "output_type": "stream",
     "text": [
      "\n",
      "=====Generation 74=====\n",
      "  Elapsed time 01:51:39\n",
      "  Min -0.22609\n",
      "  Max -0.00048\n",
      "  Avg -0.00726\n",
      "  Std 0.03013\n"
     ]
    },
    {
     "name": "stderr",
     "output_type": "stream",
     "text": [
      "[Parallel(n_jobs=-1)]: Using backend LokyBackend with 12 concurrent workers.\n",
      "[Parallel(n_jobs=-1)]: Done  26 tasks      | elapsed:   31.7s\n",
      "[Parallel(n_jobs=-1)]: Done  97 out of  97 | elapsed:  1.6min finished\n"
     ]
    },
    {
     "name": "stdout",
     "output_type": "stream",
     "text": [
      "\n",
      "=====Generation 75=====\n",
      "  Elapsed time 01:53:15\n",
      "  Min -0.25539\n",
      "  Max -0.00048\n",
      "  Avg -0.01158\n",
      "  Std 0.03637\n"
     ]
    },
    {
     "name": "stderr",
     "output_type": "stream",
     "text": [
      "[Parallel(n_jobs=-1)]: Using backend LokyBackend with 12 concurrent workers.\n",
      "[Parallel(n_jobs=-1)]: Done  26 tasks      | elapsed:   31.5s\n",
      "[Parallel(n_jobs=-1)]: Done  99 out of  99 | elapsed:  1.6min finished\n"
     ]
    },
    {
     "name": "stdout",
     "output_type": "stream",
     "text": [
      "\n",
      "=====Generation 76=====\n",
      "  Elapsed time 01:54:52\n",
      "  Min -0.22521\n",
      "  Max -0.00048\n",
      "  Avg -0.00478\n",
      "  Std 0.02578\n"
     ]
    },
    {
     "name": "stderr",
     "output_type": "stream",
     "text": [
      "[Parallel(n_jobs=-1)]: Using backend LokyBackend with 12 concurrent workers.\n",
      "[Parallel(n_jobs=-1)]: Done  26 tasks      | elapsed:   31.2s\n",
      "[Parallel(n_jobs=-1)]: Done  99 out of  99 | elapsed:  1.6min finished\n"
     ]
    },
    {
     "name": "stdout",
     "output_type": "stream",
     "text": [
      "\n",
      "=====Generation 77=====\n",
      "  Elapsed time 01:56:29\n",
      "  Min -0.23515\n",
      "  Max -0.00048\n",
      "  Avg -0.01293\n",
      "  Std 0.04149\n"
     ]
    },
    {
     "name": "stderr",
     "output_type": "stream",
     "text": [
      "[Parallel(n_jobs=-1)]: Using backend LokyBackend with 12 concurrent workers.\n",
      "[Parallel(n_jobs=-1)]: Done  26 tasks      | elapsed:   31.6s\n",
      "[Parallel(n_jobs=-1)]: Done  99 out of  99 | elapsed:  1.6min finished\n"
     ]
    },
    {
     "name": "stdout",
     "output_type": "stream",
     "text": [
      "\n",
      "=====Generation 78=====\n",
      "  Elapsed time 01:58:07\n",
      "  Min -0.12577\n",
      "  Max -0.00048\n",
      "  Avg -0.00296\n",
      "  Std 0.01335\n"
     ]
    },
    {
     "name": "stderr",
     "output_type": "stream",
     "text": [
      "[Parallel(n_jobs=-1)]: Using backend LokyBackend with 12 concurrent workers.\n",
      "[Parallel(n_jobs=-1)]: Done  26 tasks      | elapsed:   31.9s\n",
      "[Parallel(n_jobs=-1)]: Done  97 out of  97 | elapsed:  1.6min finished\n"
     ]
    },
    {
     "name": "stdout",
     "output_type": "stream",
     "text": [
      "\n",
      "=====Generation 79=====\n",
      "  Elapsed time 01:59:44\n",
      "  Min -0.25761\n",
      "  Max -0.00048\n",
      "  Avg -0.01342\n",
      "  Std 0.04698\n"
     ]
    },
    {
     "name": "stderr",
     "output_type": "stream",
     "text": [
      "[Parallel(n_jobs=-1)]: Using backend LokyBackend with 12 concurrent workers.\n",
      "[Parallel(n_jobs=-1)]: Done  26 tasks      | elapsed:   31.3s\n",
      "[Parallel(n_jobs=-1)]: Done  99 out of  99 | elapsed:  1.6min finished\n"
     ]
    },
    {
     "name": "stdout",
     "output_type": "stream",
     "text": [
      "\n",
      "=====Generation 80=====\n",
      "  Elapsed time 02:01:21\n",
      "  Min -0.27561\n",
      "  Max -0.00048\n",
      "  Avg -0.00809\n",
      "  Std 0.03603\n"
     ]
    },
    {
     "name": "stderr",
     "output_type": "stream",
     "text": [
      "[Parallel(n_jobs=-1)]: Using backend LokyBackend with 12 concurrent workers.\n",
      "[Parallel(n_jobs=-1)]: Done  26 tasks      | elapsed:   31.6s\n",
      "[Parallel(n_jobs=-1)]: Done  99 out of  99 | elapsed:  1.6min finished\n"
     ]
    },
    {
     "name": "stdout",
     "output_type": "stream",
     "text": [
      "\n",
      "=====Generation 81=====\n",
      "  Elapsed time 02:02:58\n",
      "  Min -0.39469\n",
      "  Max -0.00048\n",
      "  Avg -0.01276\n",
      "  Std 0.05119\n"
     ]
    },
    {
     "name": "stderr",
     "output_type": "stream",
     "text": [
      "[Parallel(n_jobs=-1)]: Using backend LokyBackend with 12 concurrent workers.\n",
      "[Parallel(n_jobs=-1)]: Done  26 tasks      | elapsed:   31.4s\n",
      "[Parallel(n_jobs=-1)]: Done  99 out of  99 | elapsed:  1.6min finished\n"
     ]
    },
    {
     "name": "stdout",
     "output_type": "stream",
     "text": [
      "\n",
      "=====Generation 82=====\n",
      "  Elapsed time 02:04:37\n",
      "  Min -0.09371\n",
      "  Max -0.00048\n",
      "  Avg -0.00263\n",
      "  Std 0.01239\n"
     ]
    },
    {
     "name": "stderr",
     "output_type": "stream",
     "text": [
      "[Parallel(n_jobs=-1)]: Using backend LokyBackend with 12 concurrent workers.\n",
      "[Parallel(n_jobs=-1)]: Done  26 tasks      | elapsed:   31.6s\n",
      "[Parallel(n_jobs=-1)]: Done  99 out of  99 | elapsed:  1.6min finished\n"
     ]
    },
    {
     "name": "stdout",
     "output_type": "stream",
     "text": [
      "\n",
      "=====Generation 83=====\n",
      "  Elapsed time 02:06:14\n",
      "  Min -0.38283\n",
      "  Max -0.00048\n",
      "  Avg -0.0132\n",
      "  Std 0.05297\n"
     ]
    },
    {
     "name": "stderr",
     "output_type": "stream",
     "text": [
      "[Parallel(n_jobs=-1)]: Using backend LokyBackend with 12 concurrent workers.\n",
      "[Parallel(n_jobs=-1)]: Done  26 tasks      | elapsed:   31.4s\n",
      "[Parallel(n_jobs=-1)]: Done  99 out of  99 | elapsed:  1.6min finished\n"
     ]
    },
    {
     "name": "stdout",
     "output_type": "stream",
     "text": [
      "\n",
      "=====Generation 84=====\n",
      "  Elapsed time 02:07:52\n",
      "  Min -0.22296\n",
      "  Max -0.00048\n",
      "  Avg -0.00755\n",
      "  Std 0.0287\n"
     ]
    },
    {
     "name": "stderr",
     "output_type": "stream",
     "text": [
      "[Parallel(n_jobs=-1)]: Using backend LokyBackend with 12 concurrent workers.\n",
      "[Parallel(n_jobs=-1)]: Done  26 tasks      | elapsed:   31.6s\n",
      "[Parallel(n_jobs=-1)]: Done  99 out of  99 | elapsed:  1.6min finished\n"
     ]
    },
    {
     "name": "stdout",
     "output_type": "stream",
     "text": [
      "\n",
      "=====Generation 85=====\n",
      "  Elapsed time 02:09:30\n",
      "  Min -0.05021\n",
      "  Max -0.00048\n",
      "  Avg -0.00213\n",
      "  Std 0.00796\n"
     ]
    },
    {
     "name": "stderr",
     "output_type": "stream",
     "text": [
      "[Parallel(n_jobs=-1)]: Using backend LokyBackend with 12 concurrent workers.\n",
      "[Parallel(n_jobs=-1)]: Done  26 tasks      | elapsed:   31.3s\n",
      "[Parallel(n_jobs=-1)]: Done  99 out of  99 | elapsed:  1.6min finished\n"
     ]
    },
    {
     "name": "stdout",
     "output_type": "stream",
     "text": [
      "\n",
      "=====Generation 86=====\n",
      "  Elapsed time 02:11:07\n",
      "  Min -0.22856\n",
      "  Max -0.00048\n",
      "  Avg -0.00969\n",
      "  Std 0.03524\n"
     ]
    },
    {
     "name": "stderr",
     "output_type": "stream",
     "text": [
      "[Parallel(n_jobs=-1)]: Using backend LokyBackend with 12 concurrent workers.\n",
      "[Parallel(n_jobs=-1)]: Done  26 tasks      | elapsed:   31.4s\n",
      "[Parallel(n_jobs=-1)]: Done  99 out of  99 | elapsed:  1.6min finished\n"
     ]
    },
    {
     "name": "stdout",
     "output_type": "stream",
     "text": [
      "\n",
      "=====Generation 87=====\n",
      "  Elapsed time 02:12:44\n",
      "  Min -0.10397\n",
      "  Max -0.00048\n",
      "  Avg -0.00407\n",
      "  Std 0.01446\n"
     ]
    },
    {
     "name": "stderr",
     "output_type": "stream",
     "text": [
      "[Parallel(n_jobs=-1)]: Using backend LokyBackend with 12 concurrent workers.\n",
      "[Parallel(n_jobs=-1)]: Done  26 tasks      | elapsed:   31.8s\n",
      "[Parallel(n_jobs=-1)]: Done  99 out of  99 | elapsed:  1.6min finished\n"
     ]
    },
    {
     "name": "stdout",
     "output_type": "stream",
     "text": [
      "\n",
      "=====Generation 88=====\n",
      "  Elapsed time 02:14:23\n",
      "  Min -0.2211\n",
      "  Max -0.00048\n",
      "  Avg -0.00569\n",
      "  Std 0.02933\n"
     ]
    },
    {
     "name": "stderr",
     "output_type": "stream",
     "text": [
      "[Parallel(n_jobs=-1)]: Using backend LokyBackend with 12 concurrent workers.\n",
      "[Parallel(n_jobs=-1)]: Done  26 tasks      | elapsed:   31.2s\n",
      "[Parallel(n_jobs=-1)]: Done  99 out of  99 | elapsed:  1.6min finished\n"
     ]
    },
    {
     "name": "stdout",
     "output_type": "stream",
     "text": [
      "\n",
      "=====Generation 89=====\n",
      "  Elapsed time 02:16:00\n",
      "  Min -0.12798\n",
      "  Max -0.00048\n",
      "  Avg -0.00378\n",
      "  Std 0.01635\n"
     ]
    },
    {
     "name": "stderr",
     "output_type": "stream",
     "text": [
      "[Parallel(n_jobs=-1)]: Using backend LokyBackend with 12 concurrent workers.\n",
      "[Parallel(n_jobs=-1)]: Done  26 tasks      | elapsed:   31.4s\n",
      "[Parallel(n_jobs=-1)]: Done  99 out of  99 | elapsed:  1.6min finished\n"
     ]
    },
    {
     "name": "stdout",
     "output_type": "stream",
     "text": [
      "\n",
      "=====Generation 90=====\n",
      "  Elapsed time 02:17:38\n",
      "  Min -0.22846\n",
      "  Max -0.00047\n",
      "  Avg -0.00953\n",
      "  Std 0.03438\n"
     ]
    },
    {
     "name": "stderr",
     "output_type": "stream",
     "text": [
      "[Parallel(n_jobs=-1)]: Using backend LokyBackend with 12 concurrent workers.\n",
      "[Parallel(n_jobs=-1)]: Done  26 tasks      | elapsed:   31.3s\n",
      "[Parallel(n_jobs=-1)]: Done  99 out of  99 | elapsed:  1.6min finished\n"
     ]
    },
    {
     "name": "stdout",
     "output_type": "stream",
     "text": [
      "\n",
      "=====Generation 91=====\n",
      "  Elapsed time 02:19:15\n",
      "  Min -0.35054\n",
      "  Max -0.00047\n",
      "  Avg -0.01324\n",
      "  Std 0.05223\n"
     ]
    },
    {
     "name": "stderr",
     "output_type": "stream",
     "text": [
      "[Parallel(n_jobs=-1)]: Using backend LokyBackend with 12 concurrent workers.\n",
      "[Parallel(n_jobs=-1)]: Done  26 tasks      | elapsed:   31.3s\n",
      "[Parallel(n_jobs=-1)]: Done  99 out of  99 | elapsed:  1.6min finished\n"
     ]
    },
    {
     "name": "stdout",
     "output_type": "stream",
     "text": [
      "\n",
      "=====Generation 92=====\n",
      "  Elapsed time 02:20:53\n",
      "  Min -0.22703\n",
      "  Max -0.00047\n",
      "  Avg -0.00512\n",
      "  Std 0.02438\n"
     ]
    },
    {
     "name": "stderr",
     "output_type": "stream",
     "text": [
      "[Parallel(n_jobs=-1)]: Using backend LokyBackend with 12 concurrent workers.\n",
      "[Parallel(n_jobs=-1)]: Done  26 tasks      | elapsed:   31.3s\n",
      "[Parallel(n_jobs=-1)]: Done  99 out of  99 | elapsed:  1.6min finished\n"
     ]
    },
    {
     "name": "stdout",
     "output_type": "stream",
     "text": [
      "\n",
      "=====Generation 93=====\n",
      "  Elapsed time 02:22:30\n",
      "  Min -0.22214\n",
      "  Max -0.00047\n",
      "  Avg -0.00898\n",
      "  Std 0.03195\n"
     ]
    },
    {
     "name": "stderr",
     "output_type": "stream",
     "text": [
      "[Parallel(n_jobs=-1)]: Using backend LokyBackend with 12 concurrent workers.\n",
      "[Parallel(n_jobs=-1)]: Done  26 tasks      | elapsed:   31.6s\n",
      "[Parallel(n_jobs=-1)]: Done  99 out of  99 | elapsed:  1.6min finished\n"
     ]
    },
    {
     "name": "stdout",
     "output_type": "stream",
     "text": [
      "\n",
      "=====Generation 94=====\n",
      "  Elapsed time 02:24:07\n",
      "  Min -0.21771\n",
      "  Max -0.00047\n",
      "  Avg -0.00609\n",
      "  Std 0.0271\n"
     ]
    },
    {
     "name": "stderr",
     "output_type": "stream",
     "text": [
      "[Parallel(n_jobs=-1)]: Using backend LokyBackend with 12 concurrent workers.\n",
      "[Parallel(n_jobs=-1)]: Done  26 tasks      | elapsed:   31.6s\n",
      "[Parallel(n_jobs=-1)]: Done  99 out of  99 | elapsed:  1.6min finished\n"
     ]
    },
    {
     "name": "stdout",
     "output_type": "stream",
     "text": [
      "\n",
      "=====Generation 95=====\n",
      "  Elapsed time 02:25:44\n",
      "  Min -0.13376\n",
      "  Max -0.00047\n",
      "  Avg -0.00651\n",
      "  Std 0.02242\n"
     ]
    },
    {
     "name": "stderr",
     "output_type": "stream",
     "text": [
      "[Parallel(n_jobs=-1)]: Using backend LokyBackend with 12 concurrent workers.\n",
      "[Parallel(n_jobs=-1)]: Done  26 tasks      | elapsed:   31.5s\n",
      "[Parallel(n_jobs=-1)]: Done  97 out of  97 | elapsed:  1.6min finished\n"
     ]
    },
    {
     "name": "stdout",
     "output_type": "stream",
     "text": [
      "\n",
      "=====Generation 96=====\n",
      "  Elapsed time 02:27:20\n",
      "  Min -0.11053\n",
      "  Max -0.00047\n",
      "  Avg -0.00841\n",
      "  Std 0.02328\n"
     ]
    },
    {
     "name": "stderr",
     "output_type": "stream",
     "text": [
      "[Parallel(n_jobs=-1)]: Using backend LokyBackend with 12 concurrent workers.\n",
      "[Parallel(n_jobs=-1)]: Done  26 tasks      | elapsed:   31.8s\n",
      "[Parallel(n_jobs=-1)]: Done  99 out of  99 | elapsed:  1.6min finished\n"
     ]
    },
    {
     "name": "stdout",
     "output_type": "stream",
     "text": [
      "\n",
      "=====Generation 97=====\n",
      "  Elapsed time 02:28:59\n",
      "  Min -0.26404\n",
      "  Max -0.00047\n",
      "  Avg -0.00903\n",
      "  Std 0.03463\n"
     ]
    },
    {
     "name": "stderr",
     "output_type": "stream",
     "text": [
      "[Parallel(n_jobs=-1)]: Using backend LokyBackend with 12 concurrent workers.\n",
      "[Parallel(n_jobs=-1)]: Done  26 tasks      | elapsed:   31.4s\n",
      "[Parallel(n_jobs=-1)]: Done  99 out of  99 | elapsed:  1.6min finished\n"
     ]
    },
    {
     "name": "stdout",
     "output_type": "stream",
     "text": [
      "\n",
      "=====Generation 98=====\n",
      "  Elapsed time 02:30:37\n",
      "  Min -0.29129\n",
      "  Max -0.00047\n",
      "  Avg -0.01278\n",
      "  Std 0.044\n"
     ]
    },
    {
     "name": "stderr",
     "output_type": "stream",
     "text": [
      "[Parallel(n_jobs=-1)]: Using backend LokyBackend with 12 concurrent workers.\n",
      "[Parallel(n_jobs=-1)]: Done  26 tasks      | elapsed:   31.7s\n",
      "[Parallel(n_jobs=-1)]: Done  99 out of  99 | elapsed:  1.6min finished\n"
     ]
    },
    {
     "name": "stdout",
     "output_type": "stream",
     "text": [
      "\n",
      "=====Generation 99=====\n",
      "  Elapsed time 02:32:15\n",
      "  Min -0.38783\n",
      "  Max -0.00047\n",
      "  Avg -0.0135\n",
      "  Std 0.04995\n"
     ]
    },
    {
     "name": "stderr",
     "output_type": "stream",
     "text": [
      "[Parallel(n_jobs=-1)]: Using backend LokyBackend with 12 concurrent workers.\n",
      "[Parallel(n_jobs=-1)]: Done  26 tasks      | elapsed:   31.9s\n",
      "[Parallel(n_jobs=-1)]: Done  99 out of  99 | elapsed:  1.6min finished\n"
     ]
    },
    {
     "name": "stdout",
     "output_type": "stream",
     "text": [
      "\n",
      "=====Generation 100=====\n",
      "  Elapsed time 02:33:53\n",
      "  Min -0.21378\n",
      "  Max -0.00047\n",
      "  Avg -0.00616\n",
      "  Std 0.02949\n",
      "\n",
      "GA done!\n",
      "\n"
     ]
    }
   ],
   "source": [
    "config = {\n",
    "    'min_or_max': 'max',\n",
    "    'pop_size': 100,\n",
    "    'num_ellite': 1,\n",
    "    'prob_cross': 0.5,\n",
    "    'prob_mut': 0.15,\n",
    "    'stochastic': False,\n",
    "    'max_gen': 100,\n",
    "    'sampling_method': 'LHC',\n",
    "    'drop_record': False,\n",
    "    'paral_cores': -1,\n",
    "    'paral_verbose': 1,\n",
    "    'auto_save': True,\n",
    "    'print_level': 1,\n",
    "    'plot': True\n",
    "    }\n",
    "\n",
    "seed = 5\n",
    "rn_gen = hydrocnhs.create_rn_gen(seed)\n",
    "ga = cali.GA_DEAP(evaluation, rn_gen)\n",
    "ga.set(cali_inputs, config, formatter, name=\"Cali_HydroABMModel_gwlf_KGE\")\n",
    "ga.run()\n",
    "summary = ga.summary\n",
    "individual = ga.solution"
   ]
  },
  {
   "cell_type": "markdown",
   "metadata": {},
   "source": [
    "Finally, we export the calibrated model (i.e., Best_HydroABMModel_gwlf_KGE.yaml)."
   ]
  },
  {
   "cell_type": "code",
   "execution_count": 21,
   "metadata": {},
   "outputs": [
    {
     "name": "stdout",
     "output_type": "stream",
     "text": [
      "[09/07 10:08:38] HydroCNHS.sc [INFO] Model is saved at C:\\Users\\CL\\Documents\\GitHub\\HydroCNHS\\tutorials\\Tutorial_2-Build_a_Coupled_Natural_Human_System\\Cali_HydroABMModel_gwlf_KGE\\Best_HydroABMModel_gwlf_KGE.yaml.\n"
     ]
    },
    {
     "name": "stderr",
     "output_type": "stream",
     "text": [
      "C:\\Users\\CL\\Documents\\GitHub\\HydroCNHS\\hydrocnhs\\util.py:371: FutureWarning: DataFrame.applymap has been deprecated. Use DataFrame.map instead.\n",
      "  df = df.applymap(parse)\n",
      "C:\\Users\\CL\\Documents\\GitHub\\HydroCNHS\\hydrocnhs\\util.py:371: FutureWarning: DataFrame.applymap has been deprecated. Use DataFrame.map instead.\n",
      "  df = df.applymap(parse)\n",
      "C:\\Users\\CL\\Documents\\GitHub\\HydroCNHS\\hydrocnhs\\util.py:371: FutureWarning: DataFrame.applymap has been deprecated. Use DataFrame.map instead.\n",
      "  df = df.applymap(parse)\n"
     ]
    }
   ],
   "source": [
    "# Output the calibrated model.\n",
    "df_list = cali.Convertor.to_df_list(individual, formatter)\n",
    "model_best = deepcopy(model_dict)\n",
    "for i, df in enumerate(df_list):\n",
    "    s = df_name[i].split(\"_\")[0]\n",
    "    model = hydrocnhs.load_df_to_model_dict(model_best, df, s, \"Pars\")\n",
    "hydrocnhs.write_model(model_best, os.path.join(ga.cali_wd, \"Best_HydroABMModel_gwlf_KGE.yaml\"))"
   ]
  },
  {
   "cell_type": "markdown",
   "metadata": {},
   "source": [
    "## Step 5: Run a simulation\n",
    "\n",
    "After obtaining a calibrated model, users can now use it for any simulation-based experiment (e.g., streamflow uncertainty under climate change). The calibrated model configuration file (i.e., `Best_HydroABMModel_gwlf_KGE.yaml`) can be directly loaded into HydroCNHS to run a simulation.\n"
   ]
  },
  {
   "cell_type": "code",
   "execution_count": 22,
   "metadata": {},
   "outputs": [
    {
     "name": "stdout",
     "output_type": "stream",
     "text": [
      "[09/07 10:08:45] HydroCNHS.sc [INFO] Parsed model data summary:\n",
      "SimSeq\n",
      "  ['HaggIn', 'ResAgt', 'DLLO', 'TRGC', 'WSLO']\n",
      "RoutingOutlets\n",
      "  ['HaggIn', 'DLLO', 'TRGC', 'WSLO']\n",
      "DamAgents\n",
      "  ['ResAgt']\n",
      "ConveyingAgents\n",
      "  ['PipeAgt']\n",
      "RiverDivAgents\n",
      "  ['DivAgt']\n",
      "InsituAgents\n",
      "  []\n",
      "AgSimSeq\n",
      "  AgSimMinus\n",
      "    HaggIn\n",
      "      {}\n",
      "    ResAgt\n",
      "      {}\n",
      "    DLLO\n",
      "      {}\n",
      "    TRGC\n",
      "      {'RiverDivAgents': [('DivAgt', 'TRGC')]}\n",
      "    WSLO\n",
      "      {}\n",
      "  AgSimPlus\n",
      "    HaggIn\n",
      "      {}\n",
      "    ResAgt\n",
      "      {'DamAgents': [('ResAgt', 'ResAgt')]}\n",
      "    DLLO\n",
      "      {'ConveyingAgents': [('PipeAgt', 'TRTR')]}\n",
      "    TRGC\n",
      "      {}\n",
      "    WSLO\n",
      "      {'RiverDivAgents': [('DivAgt', 'WSLO')]}\n",
      "[09/07 10:08:45] HydroCNHS.dc [INFO] Add field Q_runoff (<class 'dict'>).\n",
      "[09/07 10:08:45] HydroCNHS.dc [INFO] Add field Q_routed (<class 'dict'>).\n",
      "[09/07 10:08:45] HydroCNHS.dc [INFO] Add field prec (<class 'dict'>).\n",
      "[09/07 10:08:45] HydroCNHS.dc [INFO] Add field temp (<class 'dict'>).\n",
      "[09/07 10:08:45] HydroCNHS.dc [INFO] Add field pet (<class 'dict'>).\n",
      "[09/07 10:08:45] HydroCNHS.dc [INFO] Add field UH_Lohmann (<class 'dict'>).\n",
      "[09/07 10:08:45] HydroCNHS.dc [INFO] Add field UH_Lohmann_convey (<class 'dict'>).\n",
      "[09/07 10:08:45] HydroCNHS [INFO] Create ResAgt from Reservoir_AgtType class\n",
      "[09/07 10:08:45] HydroCNHS.dc [INFO] Add field ResAgt (<class 'dict'>).\n",
      "[09/07 10:08:45] HydroCNHS [INFO] Create ReleaseDM from ReleaseDM class.\n",
      "[09/07 10:08:45] HydroCNHS.dc [INFO] Add field DivAgt (<class 'dict'>).\n",
      "[09/07 10:08:45] HydroCNHS [INFO] Create DivAgt from Diversion_AgType class\n",
      "[09/07 10:08:45] HydroCNHS [INFO] Create DivertDM from DivertDM class.\n",
      "[09/07 10:08:45] HydroCNHS [INFO] Create PipeAgt from Pipe_AgType class\n",
      "[09/07 10:08:45] HydroCNHS [INFO] Create TransferDM from TransferDM class.\n",
      "[09/07 10:08:45] HydroCNHS [INFO] Load temp & prec & pet with total length 12053.\n",
      "[09/07 10:08:45] HydroCNHS [INFO] Set rainfall-runoff to GWLF.\n",
      "[09/07 10:08:45] HydroCNHS [INFO] Complete rainfall-runoff simulation setup. [00:00:00]\n",
      "[09/07 10:08:45] HydroCNHS [INFO] Start forming 10 UHs for Lohmann routing. [00:00:00]\n",
      "[09/07 10:08:51] HydroCNHS [INFO] Complete forming UHs for Lohmann routing. [00:00:06]\n",
      "[09/07 10:08:53] HydroCNHS [INFO] Complete forming UHs for conveyed nodes. [00:00:07]\n",
      "[09/07 10:08:53] HydroCNHS [INFO] Start a HydroCNHS simulation.\n"
     ]
    },
    {
     "name": "stderr",
     "output_type": "stream",
     "text": [
      "0it [00:00, ?it/s]"
     ]
    },
    {
     "name": "stdout",
     "output_type": "stream",
     "text": [
      "[09/07 10:08:55] HydroCNHS [INFO] \n",
      "Compute rainfall-runoffs for 12053 time steps.\n"
     ]
    },
    {
     "name": "stderr",
     "output_type": "stream",
     "text": [
      "12053it [00:02, 4530.33it/s] "
     ]
    },
    {
     "name": "stdout",
     "output_type": "stream",
     "text": [
      "\n",
      "[09/07 10:08:56] HydroCNHS [INFO] Complete HydroCNHS simulation! [00:00:10]\n",
      "\n"
     ]
    },
    {
     "name": "stderr",
     "output_type": "stream",
     "text": [
      "\n"
     ]
    },
    {
     "data": {
      "image/png": "[encoded data removed]",
      "text/plain": [
       "<Figure size 640x480 with 4 Axes>"
      ]
     },
     "metadata": {},
     "output_type": "display_data"
    }
   ],
   "source": [
    "### Run a simulation.\n",
    "model = hydrocnhs.Model(os.path.join(wd, \"Cali_HydroABMModel_gwlf_KGE\", \"Best_HydroABMModel_gwlf_KGE.yaml\"))\n",
    "Q = model.run(temp, prec, pet)\n",
    "sim_Q_D = pd.DataFrame(Q, index=model.pd_date_index)[[\"WSLO\",\"DLLO\"]]\n",
    "sim_Q_D[\"ResAgt\"] = model.dc.ResAgt[\"Release\"]\n",
    "sim_Q_D[\"DivAgt\"] = model.dc.DivAgt[\"Diversion\"]\n",
    "sim_Q_M = sim_Q_D[[\"WSLO\",\"DLLO\",\"ResAgt\",\"DivAgt\"]].resample(\"MS\").mean()\n",
    "### Plot\n",
    "fig, axes = plt.subplots(nrows=4, sharex=True)\n",
    "axes = axes.flatten()\n",
    "x = sim_Q_M.index\n",
    "axes[0].plot(x, sim_Q_M[\"DLLO\"], label=\"$M_{gwlf}$\")\n",
    "axes[1].plot(x, sim_Q_M[\"WSLO\"], label=\"$M_{gwlf}$\")\n",
    "axes[2].plot(x, sim_Q_M[\"ResAgt\"], label=\"$M_{gwlf}$\")\n",
    "axes[3].plot(x, sim_Q_M[\"DivAgt\"], label=\"$M_{gwlf}$\")\n",
    "\n",
    "axes[0].plot(x, obv_flow_data[\"DLLO\"], ls=\"--\", lw=1, color=\"black\", label=\"Obv\")\n",
    "axes[1].plot(x, obv_flow_data[\"WSLO\"], ls=\"--\", lw=1, color=\"black\", label=\"Obv\")\n",
    "axes[2].plot(x, obv_flow_data[\"ResAgt\"], ls=\"--\", lw=1, color=\"black\", label=\"Obv\")\n",
    "axes[3].plot(x, obv_flow_data[\"DivAgt\"], ls=\"--\", lw=1, color=\"black\", label=\"Obv\")\n",
    "\n",
    "axes[0].set_ylim([0,75])\n",
    "axes[1].set_ylim([0,230])\n",
    "axes[2].set_ylim([0,23])\n",
    "axes[3].set_ylim([0,2])\n",
    "\n",
    "axes[0].set_ylabel(\"DLLO\\n($m^3/s$)\")\n",
    "axes[1].set_ylabel(\"WSLO\\n($m^3/s$)\")\n",
    "axes[2].set_ylabel(\"Release\\n($m^3/s$)\")\n",
    "axes[3].set_ylabel(\"Diversion\\n($m^3/s$)\")\n",
    "\n",
    "axes[0].axvline(pd.to_datetime(\"2006-1-1\"), color=\"grey\", ls=\"-\", lw=1)\n",
    "axes[1].axvline(pd.to_datetime(\"2006-1-1\"), color=\"grey\", ls=\"-\", lw=1)\n",
    "axes[2].axvline(pd.to_datetime(\"2006-1-1\"), color=\"grey\", ls=\"-\", lw=1)\n",
    "axes[3].axvline(pd.to_datetime(\"2006-1-1\"), color=\"grey\", ls=\"-\", lw=1)\n",
    "\n",
    "axes[0].legend(ncol=3, bbox_to_anchor=(1, 1.5), fontsize=9)\n",
    "\n",
    "fig.align_ylabels(axes)"
   ]
  }
 ],
 "metadata": {
  "kernelspec": {
   "display_name": "cnhs",
   "language": "python",
   "name": "python3"
  },
  "language_info": {
   "codemirror_mode": {
    "name": "ipython",
    "version": 3
   },
   "file_extension": ".py",
   "mimetype": "text/x-python",
   "name": "python",
   "nbconvert_exporter": "python",
   "pygments_lexer": "ipython3",
   "version": "3.12.4"
  }
 },
 "nbformat": 4,
 "nbformat_minor": 2
}
